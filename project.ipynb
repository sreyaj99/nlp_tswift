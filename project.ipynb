{
 "cells": [
  {
   "cell_type": "markdown",
   "metadata": {},
   "source": [
    "# Final project guidelines\n",
    "\n",
    "**Note:** Use these guidelines if and only if you are pursuing a **final project of your own design**. For those taking the final exam instead of the project, see the (separate) final exam notebook.\n",
    "\n",
    "## Guidelines\n",
    "\n",
    "These guidelines are intended for **undergraduates enrolled in INFO 3350**. If you are a graduate student enrolled in INFO 6350, you're welcome to consult the information below, but you have wider latitude to design and develop your project in line with your research goals.\n",
    "\n",
    "### The task\n",
    "\n",
    "Your task is to: identify an interesting problem connected to the humanities or humanistic social sciences that's addressable with the help of computational methods, formulate a hypothesis about it, devise an experiment or experiments to test your hypothesis, present the results of your investigations, and discuss your findings.\n",
    "\n",
    "These tasks essentially replicate the process of writing an academic paper. You can think of your project as a paper in miniature.\n",
    "\n",
    "You are free to present each of these tasks as you see fit. You should use narrative text (that is, your own writing in a markdown cell), citations of others' work, numerical results, tables of data, and static and/or interactive visualizations as appropriate. Total length is flexible and depends on the number of people involved in the work, as well as the specific balance you strike between the ambition of your question and the sophistication of your methods. But be aware that numbers never, ever speak for themselves. Quantitative results presented without substantial discussion will not earn high marks. \n",
    "\n",
    "Your project should reflect, at minimum, ten **or more** hours of work by each participant, though you will be graded on the quality of your work, not the amount of time it took you to produce it. Most high-quality projects represent twenty or more hours of work by each member.\n",
    "\n",
    "#### Pick an important and interesting problem!\n",
    "\n",
    "No amount of technical sophistication will overcome a fundamentally uninteresting problem at the core of your work. You have seen many pieces of successful computational humanities research over the course of the semester. You might use these as a guide to the kinds of problems that interest scholars in a range of humanities disciplines. You may also want to spend some time in the library, reading recent books and articles in the professional literature. **Problem selection and motivation are integral parts of the project.** Do not neglect them.\n",
    "\n",
    "### Format\n",
    "\n",
    "You should submit your project as a Jupyter notebook, along with all data necessary to reproduce your analysis. If your dataset is too large to share easily, let us know in advance so that we can find a workaround. If you have a reason to prefer a presentation format other than a notebook, likewise let us know so that we can discuss the options.\n",
    "\n",
    "Your report should have four basic sections (provided in cells below for ease of reference):\n",
    "\n",
    "1. **Introduction and hypothesis.** What problem are you working on? Why is it interesting and important? What have other people said about it? What do you expect to find?\n",
    "2. **Corpus, data, and methods.** What data have you used? Where did it come from? How did you collect it? What are its limitations or omissions? What major methods will you use to analyze it? Why are those methods the appropriate ones?\n",
    "3. **Results.** What did you find? How did you find it? How should we read your figures? Be sure to include confidence intervals or other measures of statistical significance or uncetainty where appropriate.\n",
    "4. **Discussion and conclusions.** What does it all mean? Do your results support your hypothesis? Why or why not? What are the limitations of your study and how might those limitations be addressed in future work?\n",
    "\n",
    "Within each of those sections, you may use as many code and markdown cells as you like. You may, of course, address additional questions or issues not listed above.\n",
    "\n",
    "All code used in the project should be present in the notebook (except for widely-available libraries that you import), but **be sure that we can read and understand your report in full without rerunning the code**. Be sure, too, to explain what you're doing along the way, both by describing your data and methods and by writing clean, well commented code.\n",
    "\n",
    "### Grading\n",
    "\n",
    "This project takes the place of the take-home final exam for the course. It is worth 35% of your overall grade. You will be graded on the quality and ambition of each aspect of the project. No single component is more important than the others.\n",
    "\n",
    "### Practical details\n",
    "\n",
    "* The project is due at **noon on Saturday, December 9** via upload to CMS of a single zip file containing your fully executed Jupyter notebook and all associated data.\n",
    "* You may work alone or in a group of up to three total members.\n",
    "    * If you work in a group, be sure to list the names of the group members.\n",
    "    * For groups, create your group on CMS and submit one notebook for the entire group. **Each group should also submit a statement of responsibility** that describes in general terms who performed which parts of the project.\n",
    "* You may post questions on Ed, but should do so privately (visible to course staff only).\n",
    "* Interactive visualizations do not always work when embedded in shared notebooks. If you plan to use interactives, you may need to host them elsewhere and link to them.\n",
    "\n",
    "---"
   ]
  },
  {
   "cell_type": "markdown",
   "metadata": {},
   "source": [
    "## Your info\n",
    "* NetID(s):\n",
    "* Name(s):\n",
    "---"
   ]
  },
  {
   "cell_type": "markdown",
   "metadata": {},
   "source": [
    "## 1. Introduction and hypothesis"
   ]
  },
  {
   "cell_type": "markdown",
   "metadata": {},
   "source": [
    "When we think of the words “heartbreak”, “love”, “growth”, “shake”, and “men”, our automatic first thought is Taylor Swift, the queen of pop. Seeing from the giant success of her eras tour, Taylor Swift creates music that resonates with a universal audience, and has been doing this since her debut album in 2006. Not only is Taylor Swift well-known for her songwriting skills, but she is also known for her ability to socially and culturally influence her fanbase through her music. There is a reason why people listen to Taylor Swift’s songs when they break up or listen to the song “22” when they turn 22. Now in 2023, her music has evolved with her, with each album representing a different “era” of her life. Each era has a different sound and feel, and we wanted to analyze how her sound has changed by examining the themes in her music. Her music addresses many topics that young women can relate to, spanning from heartbreak, love, etc., so we wanted to analyze these main themes to see where her influence mainly lies. \n",
    "\n",
    "There have been many conflicting opinions on Taylor Swift’s music over the years, with some saying that her music is repetitive in its nature, while others saying that it covers many different feels and topics. We will investigate this conflict in our analysis below."
   ]
  },
  {
   "cell_type": "markdown",
   "metadata": {},
   "source": [
    "**Hypothesis**\n",
    "Our overall hypothesis is that Taylor Swift's music stays consistent over time, however each era varies with Taylor Swift's feelings and themes. There will be individual hypotheses for each method we used below."
   ]
  },
  {
   "cell_type": "markdown",
   "metadata": {},
   "source": [
    "## 2. Data and methods"
   ]
  },
  {
   "cell_type": "markdown",
   "metadata": {},
   "source": [
    "**Data Description:**\n",
    "We read in Taylor Swift song lyrics and spotify data from a csv that adashofdata created and housed on a github repository: https://github.com/adashofdata/taylor_swift_data. We checked all her files and checked the lyrics and song names and confirmed that this data was 1) better than any Kaggle Dataset that we found 2) produced the same results as we would if we were to scrape Spotify for every Taylor Swift song. \n",
    "\n",
    "While adashofdata has way more spreadsheets then we needed, such as we ruled out needing Taylor_Swift_Set_List_Data which hosts a set list from her six tours, and Taylor_Swift_Words, which houses a breakdown of her lyrics into words.\n",
    "\n",
    "We also reviewed what adashofdata had done with the data, which she used to create a blog post: http://adashofdata.com/2023/03/01/a-data-scientist-breaks-down-all-10-taylor-swift-albums-the-extended-version/, a video virtually a summary of her blog post: https://youtu.be/ZNFms8sUbTw, and a few Reddit threads with the same findings: https://www.reddit.com/r/TaylorSwift/comments/11g46c5/all_the_colors_mentioned_in_each_taylor_swift/, https://www.reddit.com/r/TaylorSwift/comments/11f6xa8/taylor_swift_writes_a_song_in_every_key_on/, and https://www.reddit.com/r/TaylorSwift/comments/11mv3sn/taylor_says_she_imagines_writing_her_songs_with_3/. AdashofData's findings did not align with our discussion as below we look at how her song lyrics can assist in the prediction of which Year the song is released and whether we can classify a song as High Energy or not. Adashofdata's findings are indeed interesting and we support you if you wish to understand more about seasonality of Taylor Swift, which Days of the Week she talked about, swear words and more!"
   ]
  },
  {
   "cell_type": "markdown",
   "metadata": {},
   "source": [
    "**Limitations** of the data include the fact that we decided not to include any songs that Taylor Swift re-recorded: Fearless(Taylor's Version), Red(Taylor's Version), Speak Now (Taylor's Version), etc. This was due to the overlap and the fact that we desired to see if her music has potentially evolved or changed since starting her career and thus re-released songs would have potentially hindered our analysis.\n",
    "\n",
    "Other pitfalls include our data reviews 133 songs below, but songs that she created for another Artist/TV Shows/etc and lawsuits that occurred that made artists place her name on the writers list were not included. Also overlapping songs where she re-recorded with a featured artist were not included as well to avoid repetition. \n",
    "\n",
    "The data was extremely clean and thus if you search up the lyrics for certain lyrics they will not include quotations around words that the author says, but due to cleaning ours does."
   ]
  },
  {
   "cell_type": "markdown",
   "metadata": {},
   "source": [
    "Here are descriptions of the different rows in our dataset from the Spotify Developer API (https://developer.spotify.com/documentation/web-api/reference/get-audio-features): \n",
    "- Album: The name of the Taylor Swift album\n",
    "- Song Name: The name of the Taylor Swift song\n",
    "- Lyrics: The lyrics from each song\n",
    "- Danceability: \"How suitable a track is for dancing based on a combination of musical elements including temp, rhythm stability, beat strength, and overall regularity. A value of 0.0 is least danceable and 1.0 is most danceable\"\n",
    "- Energy: Perceptual measure of intensity and activity. Energetic tracks are fast, loud, and noisy.\n",
    "- Key: The key which the track is in. (0 = C, 1 = C#/Db, 2 = D...) \n",
    "- Loudness: Overall loudness of a track. Quality of sound that is the primary psychological correlate of physical strength (amplitude)\n",
    "- Mode: Modality (major or minor) of a track.\n",
    "- Speechiness: Presence of spoken words in track. More exclusively speech-like the recording is the closer it is to 1. \n",
    "- Acousticness: A confidence measure from 0.0 to 1.0 of whether the track is acoustic. 1.0 represents high confidence the track is acoustic.\n",
    "- Instrumentalness: If the track contains no vocals - \"ohh\" and \"ahh\" sounds are treated as instrumental in this context and rap or spoken word tracks are clearly \"vocal.\" The close instrumentalness is to 1 greater likelihood track contains no vocal content.\n",
    "- Liveness: presence of an audience in the recording. Higher represents if the track is live.\n",
    "- Valence: 0.0 to 1.0 musical positiveness conveyed by a track.\n",
    "- Tempo: Overall tempo of a track in beats per minute.\n",
    "- Duration: How long the duration of the song is in milliseconds.\n",
    "- Time signature: How many beats are in each measure. The time signature ranges from 3 to 7 indicating time signatures of \"3/4\", to \"7/4\".\n",
    "- Lyrics Length: The length of each song's lyrics."
   ]
  },
  {
   "cell_type": "markdown",
   "metadata": {},
   "source": [
    "To analyze our data, we used the methods of sentiment and frequency analysis, song/lyric length (number of words in lyric vs. time) analysis across eras and energy level anylsis of songs, bert classification, and topic modeling. We believe that these are valid methods to analyze our data because they can help reveal how Taylor Swift's music has changed over time. Sentiment and frequency analysis will allow us to see how the sentiment in Taylor Swift's songs has changed. Song/lyric length analysis across eras and energy level anylsis of songs will help us track how much Taylor Swift's music sound and length has changed. BERT classification will allows us to track how lyrics have changed over different eras/albums. Topic modeling will allow us to see how the themes/topics within Taylor Swift's songs have changed over eras."
   ]
  },
  {
   "cell_type": "code",
   "execution_count": null,
   "metadata": {},
   "outputs": [],
   "source": [
    "#Imports\n",
    "import sqlite3\n",
    "import pandas as pd\n",
    "import numpy as np\n",
    "import spacy\n",
    "\n",
    "from sklearn.feature_extraction.text import CountVectorizer\n",
    "from sklearn.feature_extraction.text import TfidfVectorizer\n",
    "from sklearn.preprocessing import StandardScaler\n",
    "from sklearn.linear_model import LinearRegression\n",
    "from sklearn.feature_selection import SelectKBest, mutual_info_regression\n",
    "from sklearn.feature_selection import SelectKBest, mutual_info_classif\n",
    "\n",
    "from sklearn.model_selection import cross_val_score\n",
    "from sklearn.model_selection import GridSearchCV\n",
    "from sklearn import svm, datasets\n",
    "\n",
    "from sklearn.linear_model import LogisticRegression\n",
    "from sklearn.model_selection import train_test_split\n",
    "\n",
    "from collections import Counter\n",
    "\n",
    "import seaborn as sns\n",
    "import matplotlib.pyplot as plt\n",
    "import numpy as np\n",
    "\n",
    "pd.set_option('display.max_columns', None)\n",
    "pd.set_option('display.max_rows', None)"
   ]
  },
  {
   "cell_type": "code",
   "execution_count": 2,
   "metadata": {
    "scrolled": true
   },
   "outputs": [
    {
     "data": {
      "text/html": [
       "<div>\n",
       "<style scoped>\n",
       "    .dataframe tbody tr th:only-of-type {\n",
       "        vertical-align: middle;\n",
       "    }\n",
       "\n",
       "    .dataframe tbody tr th {\n",
       "        vertical-align: top;\n",
       "    }\n",
       "\n",
       "    .dataframe thead th {\n",
       "        text-align: right;\n",
       "    }\n",
       "</style>\n",
       "<table border=\"1\" class=\"dataframe\">\n",
       "  <thead>\n",
       "    <tr style=\"text-align: right;\">\n",
       "      <th></th>\n",
       "      <th>URI</th>\n",
       "      <th>Album</th>\n",
       "      <th>Song Name</th>\n",
       "      <th>Danceability</th>\n",
       "      <th>Energy</th>\n",
       "      <th>Key</th>\n",
       "      <th>Loudness</th>\n",
       "      <th>Mode</th>\n",
       "      <th>Speechiness</th>\n",
       "      <th>Acousticness</th>\n",
       "      <th>Instrumentalness</th>\n",
       "      <th>Liveness</th>\n",
       "      <th>Valence</th>\n",
       "      <th>Tempo</th>\n",
       "      <th>Duration_ms</th>\n",
       "      <th>Time Signature</th>\n",
       "    </tr>\n",
       "    <tr>\n",
       "      <th>Playlist ID</th>\n",
       "      <th></th>\n",
       "      <th></th>\n",
       "      <th></th>\n",
       "      <th></th>\n",
       "      <th></th>\n",
       "      <th></th>\n",
       "      <th></th>\n",
       "      <th></th>\n",
       "      <th></th>\n",
       "      <th></th>\n",
       "      <th></th>\n",
       "      <th></th>\n",
       "      <th></th>\n",
       "      <th></th>\n",
       "      <th></th>\n",
       "      <th></th>\n",
       "    </tr>\n",
       "  </thead>\n",
       "  <tbody>\n",
       "    <tr>\n",
       "      <th>1.0</th>\n",
       "      <td>0Om9WAB5RS09L80DyOfTNa</td>\n",
       "      <td>Taylor Swift</td>\n",
       "      <td>Tim McGraw</td>\n",
       "      <td>0.580</td>\n",
       "      <td>0.491</td>\n",
       "      <td>0.0</td>\n",
       "      <td>-6.462</td>\n",
       "      <td>1.0</td>\n",
       "      <td>0.0251</td>\n",
       "      <td>0.57500</td>\n",
       "      <td>0.0</td>\n",
       "      <td>0.1210</td>\n",
       "      <td>0.425</td>\n",
       "      <td>76.009</td>\n",
       "      <td>232107.0</td>\n",
       "      <td>4.0</td>\n",
       "    </tr>\n",
       "    <tr>\n",
       "      <th>2.0</th>\n",
       "      <td>32mVHdy0bi1XKgr0ajsBlG</td>\n",
       "      <td>Taylor Swift</td>\n",
       "      <td>Picture To Burn</td>\n",
       "      <td>0.658</td>\n",
       "      <td>0.877</td>\n",
       "      <td>7.0</td>\n",
       "      <td>-2.098</td>\n",
       "      <td>1.0</td>\n",
       "      <td>0.0323</td>\n",
       "      <td>0.17300</td>\n",
       "      <td>0.0</td>\n",
       "      <td>0.0962</td>\n",
       "      <td>0.821</td>\n",
       "      <td>105.586</td>\n",
       "      <td>173067.0</td>\n",
       "      <td>4.0</td>\n",
       "    </tr>\n",
       "    <tr>\n",
       "      <th>3.0</th>\n",
       "      <td>7zMcNqs55Mxer82bvZFkpg</td>\n",
       "      <td>Taylor Swift</td>\n",
       "      <td>Teardrops On My Guitar - Radio Single Remix</td>\n",
       "      <td>0.621</td>\n",
       "      <td>0.417</td>\n",
       "      <td>10.0</td>\n",
       "      <td>-6.941</td>\n",
       "      <td>1.0</td>\n",
       "      <td>0.0231</td>\n",
       "      <td>0.28800</td>\n",
       "      <td>0.0</td>\n",
       "      <td>0.1190</td>\n",
       "      <td>0.289</td>\n",
       "      <td>99.953</td>\n",
       "      <td>203040.0</td>\n",
       "      <td>4.0</td>\n",
       "    </tr>\n",
       "    <tr>\n",
       "      <th>4.0</th>\n",
       "      <td>73OX8GdpOeGzKC6OvGSbsv</td>\n",
       "      <td>Taylor Swift</td>\n",
       "      <td>A Place in this World</td>\n",
       "      <td>0.576</td>\n",
       "      <td>0.777</td>\n",
       "      <td>9.0</td>\n",
       "      <td>-2.881</td>\n",
       "      <td>1.0</td>\n",
       "      <td>0.0324</td>\n",
       "      <td>0.05100</td>\n",
       "      <td>0.0</td>\n",
       "      <td>0.3200</td>\n",
       "      <td>0.428</td>\n",
       "      <td>115.028</td>\n",
       "      <td>199200.0</td>\n",
       "      <td>4.0</td>\n",
       "    </tr>\n",
       "    <tr>\n",
       "      <th>5.0</th>\n",
       "      <td>7an1exwMnfYRcdVQm0yDev</td>\n",
       "      <td>Taylor Swift</td>\n",
       "      <td>Cold As You</td>\n",
       "      <td>0.418</td>\n",
       "      <td>0.482</td>\n",
       "      <td>5.0</td>\n",
       "      <td>-5.769</td>\n",
       "      <td>1.0</td>\n",
       "      <td>0.0266</td>\n",
       "      <td>0.21700</td>\n",
       "      <td>0.0</td>\n",
       "      <td>0.1230</td>\n",
       "      <td>0.261</td>\n",
       "      <td>175.558</td>\n",
       "      <td>239013.0</td>\n",
       "      <td>4.0</td>\n",
       "    </tr>\n",
       "    <tr>\n",
       "      <th>6.0</th>\n",
       "      <td>2QA3IixpRcKyOdG7XDzRgv</td>\n",
       "      <td>Taylor Swift</td>\n",
       "      <td>The Outside</td>\n",
       "      <td>0.589</td>\n",
       "      <td>0.805</td>\n",
       "      <td>5.0</td>\n",
       "      <td>-4.055</td>\n",
       "      <td>1.0</td>\n",
       "      <td>0.0293</td>\n",
       "      <td>0.00491</td>\n",
       "      <td>0.0</td>\n",
       "      <td>0.2400</td>\n",
       "      <td>0.591</td>\n",
       "      <td>112.982</td>\n",
       "      <td>207107.0</td>\n",
       "      <td>4.0</td>\n",
       "    </tr>\n",
       "    <tr>\n",
       "      <th>7.0</th>\n",
       "      <td>6K0CJLVXqbGMeJSmJ4ENKK</td>\n",
       "      <td>Taylor Swift</td>\n",
       "      <td>Tied Together with a Smile</td>\n",
       "      <td>0.479</td>\n",
       "      <td>0.578</td>\n",
       "      <td>2.0</td>\n",
       "      <td>-4.963</td>\n",
       "      <td>1.0</td>\n",
       "      <td>0.0294</td>\n",
       "      <td>0.52500</td>\n",
       "      <td>0.0</td>\n",
       "      <td>0.0841</td>\n",
       "      <td>0.192</td>\n",
       "      <td>146.165</td>\n",
       "      <td>248107.0</td>\n",
       "      <td>4.0</td>\n",
       "    </tr>\n",
       "    <tr>\n",
       "      <th>8.0</th>\n",
       "      <td>2ZoOmCSgj0ypVAmGd1ve4y</td>\n",
       "      <td>Taylor Swift</td>\n",
       "      <td>Stay Beautiful</td>\n",
       "      <td>0.594</td>\n",
       "      <td>0.629</td>\n",
       "      <td>8.0</td>\n",
       "      <td>-4.919</td>\n",
       "      <td>1.0</td>\n",
       "      <td>0.0246</td>\n",
       "      <td>0.08680</td>\n",
       "      <td>0.0</td>\n",
       "      <td>0.1370</td>\n",
       "      <td>0.504</td>\n",
       "      <td>131.597</td>\n",
       "      <td>236053.0</td>\n",
       "      <td>4.0</td>\n",
       "    </tr>\n",
       "  </tbody>\n",
       "</table>\n",
       "</div>"
      ],
      "text/plain": [
       "                                URI         Album  \\\n",
       "Playlist ID                                         \n",
       "1.0          0Om9WAB5RS09L80DyOfTNa  Taylor Swift   \n",
       "2.0          32mVHdy0bi1XKgr0ajsBlG  Taylor Swift   \n",
       "3.0          7zMcNqs55Mxer82bvZFkpg  Taylor Swift   \n",
       "4.0          73OX8GdpOeGzKC6OvGSbsv  Taylor Swift   \n",
       "5.0          7an1exwMnfYRcdVQm0yDev  Taylor Swift   \n",
       "6.0          2QA3IixpRcKyOdG7XDzRgv  Taylor Swift   \n",
       "7.0          6K0CJLVXqbGMeJSmJ4ENKK  Taylor Swift   \n",
       "8.0          2ZoOmCSgj0ypVAmGd1ve4y  Taylor Swift   \n",
       "\n",
       "                                               Song Name  Danceability  \\\n",
       "Playlist ID                                                              \n",
       "1.0                                           Tim McGraw         0.580   \n",
       "2.0                                      Picture To Burn         0.658   \n",
       "3.0          Teardrops On My Guitar - Radio Single Remix         0.621   \n",
       "4.0                                A Place in this World         0.576   \n",
       "5.0                                          Cold As You         0.418   \n",
       "6.0                                          The Outside         0.589   \n",
       "7.0                           Tied Together with a Smile         0.479   \n",
       "8.0                                       Stay Beautiful         0.594   \n",
       "\n",
       "             Energy   Key  Loudness  Mode  Speechiness  Acousticness  \\\n",
       "Playlist ID                                                            \n",
       "1.0           0.491   0.0    -6.462   1.0       0.0251       0.57500   \n",
       "2.0           0.877   7.0    -2.098   1.0       0.0323       0.17300   \n",
       "3.0           0.417  10.0    -6.941   1.0       0.0231       0.28800   \n",
       "4.0           0.777   9.0    -2.881   1.0       0.0324       0.05100   \n",
       "5.0           0.482   5.0    -5.769   1.0       0.0266       0.21700   \n",
       "6.0           0.805   5.0    -4.055   1.0       0.0293       0.00491   \n",
       "7.0           0.578   2.0    -4.963   1.0       0.0294       0.52500   \n",
       "8.0           0.629   8.0    -4.919   1.0       0.0246       0.08680   \n",
       "\n",
       "             Instrumentalness  Liveness  Valence    Tempo  Duration_ms  \\\n",
       "Playlist ID                                                              \n",
       "1.0                       0.0    0.1210    0.425   76.009     232107.0   \n",
       "2.0                       0.0    0.0962    0.821  105.586     173067.0   \n",
       "3.0                       0.0    0.1190    0.289   99.953     203040.0   \n",
       "4.0                       0.0    0.3200    0.428  115.028     199200.0   \n",
       "5.0                       0.0    0.1230    0.261  175.558     239013.0   \n",
       "6.0                       0.0    0.2400    0.591  112.982     207107.0   \n",
       "7.0                       0.0    0.0841    0.192  146.165     248107.0   \n",
       "8.0                       0.0    0.1370    0.504  131.597     236053.0   \n",
       "\n",
       "             Time Signature  \n",
       "Playlist ID                  \n",
       "1.0                     4.0  \n",
       "2.0                     4.0  \n",
       "3.0                     4.0  \n",
       "4.0                     4.0  \n",
       "5.0                     4.0  \n",
       "6.0                     4.0  \n",
       "7.0                     4.0  \n",
       "8.0                     4.0  "
      ]
     },
     "execution_count": 2,
     "metadata": {},
     "output_type": "execute_result"
    }
   ],
   "source": [
    "spotify_csv = pd.read_csv(\"taylor_swift_data-main/Taylor_Swift_Spotify/taylor_swift_spotify_data.csv\", index_col = \"Playlist ID\")\n",
    "spotify_csv.head(8)"
   ]
  },
  {
   "cell_type": "code",
   "execution_count": null,
   "metadata": {},
   "outputs": [],
   "source": [
    "spotify_csv['Album'].unique()"
   ]
  },
  {
   "cell_type": "code",
   "execution_count": 3,
   "metadata": {},
   "outputs": [
    {
     "data": {
      "text/plain": [
       "Index(['URI', 'Album', 'Song Name', 'Danceability', 'Energy', 'Key',\n",
       "       'Loudness', 'Mode', 'Speechiness', 'Acousticness', 'Instrumentalness',\n",
       "       'Liveness', 'Valence', 'Tempo', 'Duration_ms', 'Time Signature'],\n",
       "      dtype='object')"
      ]
     },
     "execution_count": 3,
     "metadata": {},
     "output_type": "execute_result"
    }
   ],
   "source": [
    "spotify_csv.columns"
   ]
  },
  {
   "cell_type": "code",
   "execution_count": 4,
   "metadata": {
    "scrolled": true
   },
   "outputs": [
    {
     "data": {
      "text/html": [
       "<div>\n",
       "<style scoped>\n",
       "    .dataframe tbody tr th:only-of-type {\n",
       "        vertical-align: middle;\n",
       "    }\n",
       "\n",
       "    .dataframe tbody tr th {\n",
       "        vertical-align: top;\n",
       "    }\n",
       "\n",
       "    .dataframe thead th {\n",
       "        text-align: right;\n",
       "    }\n",
       "</style>\n",
       "<table border=\"1\" class=\"dataframe\">\n",
       "  <thead>\n",
       "    <tr style=\"text-align: right;\">\n",
       "      <th></th>\n",
       "      <th>Album</th>\n",
       "      <th>Song Name</th>\n",
       "      <th>Lyrics</th>\n",
       "    </tr>\n",
       "    <tr>\n",
       "      <th>index</th>\n",
       "      <th></th>\n",
       "      <th></th>\n",
       "      <th></th>\n",
       "    </tr>\n",
       "  </thead>\n",
       "  <tbody>\n",
       "    <tr>\n",
       "      <th>0</th>\n",
       "      <td>Taylor Swift</td>\n",
       "      <td>Mary's Song (Oh My My My)</td>\n",
       "      <td>She said I was seven and you were nine I looke...</td>\n",
       "    </tr>\n",
       "    <tr>\n",
       "      <th>1</th>\n",
       "      <td>Taylor Swift</td>\n",
       "      <td>A Perfectly Good Heart</td>\n",
       "      <td>Why would you wanna break A perfectly good hea...</td>\n",
       "    </tr>\n",
       "    <tr>\n",
       "      <th>2</th>\n",
       "      <td>Taylor Swift</td>\n",
       "      <td>Tim McGraw</td>\n",
       "      <td>He said the way my blue eyes shined Put those ...</td>\n",
       "    </tr>\n",
       "    <tr>\n",
       "      <th>3</th>\n",
       "      <td>Taylor Swift</td>\n",
       "      <td>Teardrops On My Guitar</td>\n",
       "      <td>Drew looks at me I fake a smile so he won't se...</td>\n",
       "    </tr>\n",
       "    <tr>\n",
       "      <th>4</th>\n",
       "      <td>Taylor Swift</td>\n",
       "      <td>Cold as You</td>\n",
       "      <td>You have a way of coming easily to me And when...</td>\n",
       "    </tr>\n",
       "    <tr>\n",
       "      <th>5</th>\n",
       "      <td>Taylor Swift</td>\n",
       "      <td>The Outside</td>\n",
       "      <td>I didn't know what I would find When I went lo...</td>\n",
       "    </tr>\n",
       "    <tr>\n",
       "      <th>6</th>\n",
       "      <td>Taylor Swift</td>\n",
       "      <td>Should've Said No</td>\n",
       "      <td>It's strange to think the songs we used to sin...</td>\n",
       "    </tr>\n",
       "    <tr>\n",
       "      <th>7</th>\n",
       "      <td>Taylor Swift</td>\n",
       "      <td>A Place In This World</td>\n",
       "      <td>I don't know what I want, so don't ask me 'Cau...</td>\n",
       "    </tr>\n",
       "  </tbody>\n",
       "</table>\n",
       "</div>"
      ],
      "text/plain": [
       "              Album                  Song Name  \\\n",
       "index                                            \n",
       "0      Taylor Swift  Mary's Song (Oh My My My)   \n",
       "1      Taylor Swift     A Perfectly Good Heart   \n",
       "2      Taylor Swift                 Tim McGraw   \n",
       "3      Taylor Swift     Teardrops On My Guitar   \n",
       "4      Taylor Swift                Cold as You   \n",
       "5      Taylor Swift                The Outside   \n",
       "6      Taylor Swift          Should've Said No   \n",
       "7      Taylor Swift      A Place In This World   \n",
       "\n",
       "                                                  Lyrics  \n",
       "index                                                     \n",
       "0      She said I was seven and you were nine I looke...  \n",
       "1      Why would you wanna break A perfectly good hea...  \n",
       "2      He said the way my blue eyes shined Put those ...  \n",
       "3      Drew looks at me I fake a smile so he won't se...  \n",
       "4      You have a way of coming easily to me And when...  \n",
       "5      I didn't know what I would find When I went lo...  \n",
       "6      It's strange to think the songs we used to sin...  \n",
       "7      I don't know what I want, so don't ask me 'Cau...  "
      ]
     },
     "execution_count": 4,
     "metadata": {},
     "output_type": "execute_result"
    }
   ],
   "source": [
    "song_lyrics_csv = pd.read_csv(\"taylor_swift_data-main/Taylor_Swift_Genius/taylor_swift_genius_data.csv\", index_col = \"index\")\n",
    "song_lyrics_csv.head(8)"
   ]
  },
  {
   "cell_type": "markdown",
   "metadata": {},
   "source": [
    "Looking at how we can parse the data and look at a particular lyrics."
   ]
  },
  {
   "cell_type": "code",
   "execution_count": 5,
   "metadata": {},
   "outputs": [
    {
     "data": {
      "text/plain": [
       "\"Why would you wanna break A perfectly good heart? Why would you wanna take Our love and tear it all apart now? Why would you wanna make The very first scar? Why would you wanna break A perfectly good heart?  Maybe I should've seen the signs Should've read the writing on the wall And realized by the distance in your eyes That I would be the one to fall No matter what you say I still can't believe that you would walk away It don't make sense to me, but  Why would you wanna break A perfectly good heart? Why would you wanna take Our love and tear it all apart now? Why would you wanna make The very first scar? Why would you wanna break A perfectly good heart?  It's not unbroken anymore (It's not unbroken anymore) How do I get it back the way it was before?  Why would you wanna break A perfectly good heart? Why would you wanna take Our love and tear it all apart now? Why would you wanna make The very first scar? Why would you wanna break— (Why) Would you wanna break it? You might also like Why would you wanna break A perfectly good heart? Why would you wanna take Our love and tear it all apart now? Why would you wanna make The very first scar? Why would you wanna break A perfectly good heart?  Mmm-hmm\""
      ]
     },
     "execution_count": 5,
     "metadata": {},
     "output_type": "execute_result"
    }
   ],
   "source": [
    "song_lyrics_csv[song_lyrics_csv['Album']=='Taylor Swift']['Lyrics'][1]"
   ]
  },
  {
   "cell_type": "code",
   "execution_count": 6,
   "metadata": {
    "scrolled": true
   },
   "outputs": [
    {
     "data": {
      "text/html": [
       "<div>\n",
       "<style scoped>\n",
       "    .dataframe tbody tr th:only-of-type {\n",
       "        vertical-align: middle;\n",
       "    }\n",
       "\n",
       "    .dataframe tbody tr th {\n",
       "        vertical-align: top;\n",
       "    }\n",
       "\n",
       "    .dataframe thead th {\n",
       "        text-align: right;\n",
       "    }\n",
       "</style>\n",
       "<table border=\"1\" class=\"dataframe\">\n",
       "  <thead>\n",
       "    <tr style=\"text-align: right;\">\n",
       "      <th></th>\n",
       "      <th>Album</th>\n",
       "      <th>Song Name</th>\n",
       "      <th>Lyrics</th>\n",
       "      <th>URI</th>\n",
       "      <th>Danceability</th>\n",
       "      <th>Energy</th>\n",
       "      <th>Key</th>\n",
       "      <th>Loudness</th>\n",
       "      <th>Mode</th>\n",
       "      <th>Speechiness</th>\n",
       "      <th>Acousticness</th>\n",
       "      <th>Instrumentalness</th>\n",
       "      <th>Liveness</th>\n",
       "      <th>Valence</th>\n",
       "      <th>Tempo</th>\n",
       "      <th>Duration_ms</th>\n",
       "      <th>Time Signature</th>\n",
       "    </tr>\n",
       "  </thead>\n",
       "  <tbody>\n",
       "    <tr>\n",
       "      <th>0</th>\n",
       "      <td>Taylor Swift</td>\n",
       "      <td>Mary's Song (Oh My My My)</td>\n",
       "      <td>She said I was seven and you were nine I looke...</td>\n",
       "      <td>2QrQCMel6v2JiLxqrg4p2O</td>\n",
       "      <td>0.403</td>\n",
       "      <td>0.627</td>\n",
       "      <td>2.0</td>\n",
       "      <td>-5.280</td>\n",
       "      <td>1.0</td>\n",
       "      <td>0.0292</td>\n",
       "      <td>0.01770</td>\n",
       "      <td>0.0</td>\n",
       "      <td>0.182</td>\n",
       "      <td>0.374</td>\n",
       "      <td>74.900</td>\n",
       "      <td>213080.0</td>\n",
       "      <td>4.0</td>\n",
       "    </tr>\n",
       "    <tr>\n",
       "      <th>1</th>\n",
       "      <td>Taylor Swift</td>\n",
       "      <td>A Perfectly Good Heart</td>\n",
       "      <td>Why would you wanna break A perfectly good hea...</td>\n",
       "      <td>1spLfUJxtyVyiKKTegQ2r4</td>\n",
       "      <td>0.483</td>\n",
       "      <td>0.751</td>\n",
       "      <td>4.0</td>\n",
       "      <td>-5.726</td>\n",
       "      <td>1.0</td>\n",
       "      <td>0.0365</td>\n",
       "      <td>0.00349</td>\n",
       "      <td>0.0</td>\n",
       "      <td>0.128</td>\n",
       "      <td>0.268</td>\n",
       "      <td>156.092</td>\n",
       "      <td>220147.0</td>\n",
       "      <td>4.0</td>\n",
       "    </tr>\n",
       "    <tr>\n",
       "      <th>2</th>\n",
       "      <td>Taylor Swift</td>\n",
       "      <td>Tim McGraw</td>\n",
       "      <td>He said the way my blue eyes shined Put those ...</td>\n",
       "      <td>0Om9WAB5RS09L80DyOfTNa</td>\n",
       "      <td>0.580</td>\n",
       "      <td>0.491</td>\n",
       "      <td>0.0</td>\n",
       "      <td>-6.462</td>\n",
       "      <td>1.0</td>\n",
       "      <td>0.0251</td>\n",
       "      <td>0.57500</td>\n",
       "      <td>0.0</td>\n",
       "      <td>0.121</td>\n",
       "      <td>0.425</td>\n",
       "      <td>76.009</td>\n",
       "      <td>232107.0</td>\n",
       "      <td>4.0</td>\n",
       "    </tr>\n",
       "  </tbody>\n",
       "</table>\n",
       "</div>"
      ],
      "text/plain": [
       "          Album                  Song Name  \\\n",
       "0  Taylor Swift  Mary's Song (Oh My My My)   \n",
       "1  Taylor Swift     A Perfectly Good Heart   \n",
       "2  Taylor Swift                 Tim McGraw   \n",
       "\n",
       "                                              Lyrics                     URI  \\\n",
       "0  She said I was seven and you were nine I looke...  2QrQCMel6v2JiLxqrg4p2O   \n",
       "1  Why would you wanna break A perfectly good hea...  1spLfUJxtyVyiKKTegQ2r4   \n",
       "2  He said the way my blue eyes shined Put those ...  0Om9WAB5RS09L80DyOfTNa   \n",
       "\n",
       "   Danceability  Energy  Key  Loudness  Mode  Speechiness  Acousticness  \\\n",
       "0         0.403   0.627  2.0    -5.280   1.0       0.0292       0.01770   \n",
       "1         0.483   0.751  4.0    -5.726   1.0       0.0365       0.00349   \n",
       "2         0.580   0.491  0.0    -6.462   1.0       0.0251       0.57500   \n",
       "\n",
       "   Instrumentalness  Liveness  Valence    Tempo  Duration_ms  Time Signature  \n",
       "0               0.0     0.182    0.374   74.900     213080.0             4.0  \n",
       "1               0.0     0.128    0.268  156.092     220147.0             4.0  \n",
       "2               0.0     0.121    0.425   76.009     232107.0             4.0  "
      ]
     },
     "execution_count": 6,
     "metadata": {},
     "output_type": "execute_result"
    }
   ],
   "source": [
    "spotify_csv.head()\n",
    "spotify_csv['Song Name']=spotify_csv['Song Name'].apply(lambda x: x.strip().lower().replace('\\u200b', ''))\n",
    "spotify_csv['Album']=spotify_csv['Album'].apply(lambda x: x.strip().lower())\n",
    "\n",
    "song_lyrics_csv['Song Name']=song_lyrics_csv['Song Name'].apply(lambda x: x.strip().lower().replace('\\u200b', ''))\n",
    "song_lyrics_csv['Album']=song_lyrics_csv['Album'].apply(lambda x: x.strip().lower())\n",
    "song_lyrics_csv.head()\n",
    "\n",
    "\n",
    "full_dataframe = song_lyrics_csv.merge(spotify_csv, how='inner', on=['Song Name', 'Album'])\n",
    "full_dataframe.head(3)"
   ]
  },
  {
   "cell_type": "code",
   "execution_count": 12,
   "metadata": {},
   "outputs": [
    {
     "data": {
      "text/plain": [
       "1214"
      ]
     },
     "execution_count": 12,
     "metadata": {},
     "output_type": "execute_result"
    }
   ],
   "source": [
    "len(full_dataframe['Lyrics'][1])"
   ]
  },
  {
   "cell_type": "code",
   "execution_count": 9,
   "metadata": {},
   "outputs": [],
   "source": [
    "values = []\n",
    "for i in range(0, len(full_dataframe['Lyrics'])):\n",
    "    values.append(len(full_dataframe['Lyrics'][i]))\n",
    "full_dataframe['Lyrics Length'] = values"
   ]
  },
  {
   "cell_type": "code",
   "execution_count": 16,
   "metadata": {
    "scrolled": true
   },
   "outputs": [
    {
     "data": {
      "text/html": [
       "<div>\n",
       "<style scoped>\n",
       "    .dataframe tbody tr th:only-of-type {\n",
       "        vertical-align: middle;\n",
       "    }\n",
       "\n",
       "    .dataframe tbody tr th {\n",
       "        vertical-align: top;\n",
       "    }\n",
       "\n",
       "    .dataframe thead th {\n",
       "        text-align: right;\n",
       "    }\n",
       "</style>\n",
       "<table border=\"1\" class=\"dataframe\">\n",
       "  <thead>\n",
       "    <tr style=\"text-align: right;\">\n",
       "      <th></th>\n",
       "      <th>Album</th>\n",
       "      <th>Song Name</th>\n",
       "      <th>Lyrics</th>\n",
       "      <th>URI</th>\n",
       "      <th>Danceability</th>\n",
       "      <th>Energy</th>\n",
       "      <th>Key</th>\n",
       "      <th>Loudness</th>\n",
       "      <th>Mode</th>\n",
       "      <th>Speechiness</th>\n",
       "      <th>Acousticness</th>\n",
       "      <th>Instrumentalness</th>\n",
       "      <th>Liveness</th>\n",
       "      <th>Valence</th>\n",
       "      <th>Tempo</th>\n",
       "      <th>Duration_ms</th>\n",
       "      <th>Time Signature</th>\n",
       "      <th>Lyrics Length</th>\n",
       "    </tr>\n",
       "  </thead>\n",
       "  <tbody>\n",
       "    <tr>\n",
       "      <th>0</th>\n",
       "      <td>Taylor Swift</td>\n",
       "      <td>Mary's Song (Oh My My My)</td>\n",
       "      <td>She said I was seven and you were nine I looke...</td>\n",
       "      <td>2QrQCMel6v2JiLxqrg4p2O</td>\n",
       "      <td>0.403</td>\n",
       "      <td>0.627</td>\n",
       "      <td>2.0</td>\n",
       "      <td>-5.280</td>\n",
       "      <td>1.0</td>\n",
       "      <td>0.0292</td>\n",
       "      <td>0.01770</td>\n",
       "      <td>0.0</td>\n",
       "      <td>0.182</td>\n",
       "      <td>0.374</td>\n",
       "      <td>74.900</td>\n",
       "      <td>213080.0</td>\n",
       "      <td>4.0</td>\n",
       "      <td>1602</td>\n",
       "    </tr>\n",
       "    <tr>\n",
       "      <th>1</th>\n",
       "      <td>Taylor Swift</td>\n",
       "      <td>A Perfectly Good Heart</td>\n",
       "      <td>Why would you wanna break A perfectly good hea...</td>\n",
       "      <td>1spLfUJxtyVyiKKTegQ2r4</td>\n",
       "      <td>0.483</td>\n",
       "      <td>0.751</td>\n",
       "      <td>4.0</td>\n",
       "      <td>-5.726</td>\n",
       "      <td>1.0</td>\n",
       "      <td>0.0365</td>\n",
       "      <td>0.00349</td>\n",
       "      <td>0.0</td>\n",
       "      <td>0.128</td>\n",
       "      <td>0.268</td>\n",
       "      <td>156.092</td>\n",
       "      <td>220147.0</td>\n",
       "      <td>4.0</td>\n",
       "      <td>1214</td>\n",
       "    </tr>\n",
       "    <tr>\n",
       "      <th>2</th>\n",
       "      <td>Taylor Swift</td>\n",
       "      <td>Tim McGraw</td>\n",
       "      <td>He said the way my blue eyes shined Put those ...</td>\n",
       "      <td>0Om9WAB5RS09L80DyOfTNa</td>\n",
       "      <td>0.580</td>\n",
       "      <td>0.491</td>\n",
       "      <td>0.0</td>\n",
       "      <td>-6.462</td>\n",
       "      <td>1.0</td>\n",
       "      <td>0.0251</td>\n",
       "      <td>0.57500</td>\n",
       "      <td>0.0</td>\n",
       "      <td>0.121</td>\n",
       "      <td>0.425</td>\n",
       "      <td>76.009</td>\n",
       "      <td>232107.0</td>\n",
       "      <td>4.0</td>\n",
       "      <td>1801</td>\n",
       "    </tr>\n",
       "    <tr>\n",
       "      <th>3</th>\n",
       "      <td>Taylor Swift</td>\n",
       "      <td>The Outside</td>\n",
       "      <td>I didn't know what I would find When I went lo...</td>\n",
       "      <td>2QA3IixpRcKyOdG7XDzRgv</td>\n",
       "      <td>0.589</td>\n",
       "      <td>0.805</td>\n",
       "      <td>5.0</td>\n",
       "      <td>-4.055</td>\n",
       "      <td>1.0</td>\n",
       "      <td>0.0293</td>\n",
       "      <td>0.00491</td>\n",
       "      <td>0.0</td>\n",
       "      <td>0.240</td>\n",
       "      <td>0.591</td>\n",
       "      <td>112.982</td>\n",
       "      <td>207107.0</td>\n",
       "      <td>4.0</td>\n",
       "      <td>1114</td>\n",
       "    </tr>\n",
       "  </tbody>\n",
       "</table>\n",
       "</div>"
      ],
      "text/plain": [
       "          Album                  Song Name  \\\n",
       "0  Taylor Swift  Mary's Song (Oh My My My)   \n",
       "1  Taylor Swift     A Perfectly Good Heart   \n",
       "2  Taylor Swift                 Tim McGraw   \n",
       "3  Taylor Swift                The Outside   \n",
       "\n",
       "                                              Lyrics                     URI  \\\n",
       "0  She said I was seven and you were nine I looke...  2QrQCMel6v2JiLxqrg4p2O   \n",
       "1  Why would you wanna break A perfectly good hea...  1spLfUJxtyVyiKKTegQ2r4   \n",
       "2  He said the way my blue eyes shined Put those ...  0Om9WAB5RS09L80DyOfTNa   \n",
       "3  I didn't know what I would find When I went lo...  2QA3IixpRcKyOdG7XDzRgv   \n",
       "\n",
       "   Danceability  Energy  Key  Loudness  Mode  Speechiness  Acousticness  \\\n",
       "0         0.403   0.627  2.0    -5.280   1.0       0.0292       0.01770   \n",
       "1         0.483   0.751  4.0    -5.726   1.0       0.0365       0.00349   \n",
       "2         0.580   0.491  0.0    -6.462   1.0       0.0251       0.57500   \n",
       "3         0.589   0.805  5.0    -4.055   1.0       0.0293       0.00491   \n",
       "\n",
       "   Instrumentalness  Liveness  Valence    Tempo  Duration_ms  Time Signature  \\\n",
       "0               0.0     0.182    0.374   74.900     213080.0             4.0   \n",
       "1               0.0     0.128    0.268  156.092     220147.0             4.0   \n",
       "2               0.0     0.121    0.425   76.009     232107.0             4.0   \n",
       "3               0.0     0.240    0.591  112.982     207107.0             4.0   \n",
       "\n",
       "   Lyrics Length  \n",
       "0           1602  \n",
       "1           1214  \n",
       "2           1801  \n",
       "3           1114  "
      ]
     },
     "execution_count": 16,
     "metadata": {},
     "output_type": "execute_result"
    }
   ],
   "source": [
    "full_dataframe.head(4)"
   ]
  },
  {
   "cell_type": "code",
   "execution_count": 1,
   "metadata": {},
   "outputs": [
    {
     "ename": "NameError",
     "evalue": "name 'full_dataframe' is not defined",
     "output_type": "error",
     "traceback": [
      "\u001b[0;31m---------------------------------------------------------------------------\u001b[0m",
      "\u001b[0;31mNameError\u001b[0m                                 Traceback (most recent call last)",
      "Cell \u001b[0;32mIn[1], line 1\u001b[0m\n\u001b[0;32m----> 1\u001b[0m full_dataframe \u001b[38;5;241m=\u001b[39m \u001b[43mfull_dataframe\u001b[49m\u001b[38;5;241m.\u001b[39mdrop(columns \u001b[38;5;241m=\u001b[39m [\u001b[38;5;124m'\u001b[39m\u001b[38;5;124mURI\u001b[39m\u001b[38;5;124m'\u001b[39m])\n",
      "\u001b[0;31mNameError\u001b[0m: name 'full_dataframe' is not defined"
     ]
    }
   ],
   "source": [
    "full_dataframe = full_dataframe.drop(columns = ['URI'])"
   ]
  },
  {
   "cell_type": "code",
   "execution_count": 20,
   "metadata": {},
   "outputs": [
    {
     "data": {
      "text/html": [
       "<div>\n",
       "<style scoped>\n",
       "    .dataframe tbody tr th:only-of-type {\n",
       "        vertical-align: middle;\n",
       "    }\n",
       "\n",
       "    .dataframe tbody tr th {\n",
       "        vertical-align: top;\n",
       "    }\n",
       "\n",
       "    .dataframe thead th {\n",
       "        text-align: right;\n",
       "    }\n",
       "</style>\n",
       "<table border=\"1\" class=\"dataframe\">\n",
       "  <thead>\n",
       "    <tr style=\"text-align: right;\">\n",
       "      <th></th>\n",
       "      <th>Album</th>\n",
       "      <th>Song Name</th>\n",
       "      <th>Lyrics</th>\n",
       "      <th>Danceability</th>\n",
       "      <th>Energy</th>\n",
       "      <th>Key</th>\n",
       "      <th>Loudness</th>\n",
       "      <th>Mode</th>\n",
       "      <th>Speechiness</th>\n",
       "      <th>Acousticness</th>\n",
       "      <th>Instrumentalness</th>\n",
       "      <th>Liveness</th>\n",
       "      <th>Valence</th>\n",
       "      <th>Tempo</th>\n",
       "      <th>Duration_ms</th>\n",
       "      <th>Time Signature</th>\n",
       "      <th>Lyrics Length</th>\n",
       "    </tr>\n",
       "  </thead>\n",
       "  <tbody>\n",
       "    <tr>\n",
       "      <th>0</th>\n",
       "      <td>Taylor Swift</td>\n",
       "      <td>Mary's Song (Oh My My My)</td>\n",
       "      <td>She said I was seven and you were nine I looke...</td>\n",
       "      <td>0.403</td>\n",
       "      <td>0.627</td>\n",
       "      <td>2.0</td>\n",
       "      <td>-5.280</td>\n",
       "      <td>1.0</td>\n",
       "      <td>0.0292</td>\n",
       "      <td>0.01770</td>\n",
       "      <td>0.0</td>\n",
       "      <td>0.182</td>\n",
       "      <td>0.374</td>\n",
       "      <td>74.900</td>\n",
       "      <td>213080.0</td>\n",
       "      <td>4.0</td>\n",
       "      <td>1602</td>\n",
       "    </tr>\n",
       "    <tr>\n",
       "      <th>1</th>\n",
       "      <td>Taylor Swift</td>\n",
       "      <td>A Perfectly Good Heart</td>\n",
       "      <td>Why would you wanna break A perfectly good hea...</td>\n",
       "      <td>0.483</td>\n",
       "      <td>0.751</td>\n",
       "      <td>4.0</td>\n",
       "      <td>-5.726</td>\n",
       "      <td>1.0</td>\n",
       "      <td>0.0365</td>\n",
       "      <td>0.00349</td>\n",
       "      <td>0.0</td>\n",
       "      <td>0.128</td>\n",
       "      <td>0.268</td>\n",
       "      <td>156.092</td>\n",
       "      <td>220147.0</td>\n",
       "      <td>4.0</td>\n",
       "      <td>1214</td>\n",
       "    </tr>\n",
       "    <tr>\n",
       "      <th>2</th>\n",
       "      <td>Taylor Swift</td>\n",
       "      <td>Tim McGraw</td>\n",
       "      <td>He said the way my blue eyes shined Put those ...</td>\n",
       "      <td>0.580</td>\n",
       "      <td>0.491</td>\n",
       "      <td>0.0</td>\n",
       "      <td>-6.462</td>\n",
       "      <td>1.0</td>\n",
       "      <td>0.0251</td>\n",
       "      <td>0.57500</td>\n",
       "      <td>0.0</td>\n",
       "      <td>0.121</td>\n",
       "      <td>0.425</td>\n",
       "      <td>76.009</td>\n",
       "      <td>232107.0</td>\n",
       "      <td>4.0</td>\n",
       "      <td>1801</td>\n",
       "    </tr>\n",
       "    <tr>\n",
       "      <th>3</th>\n",
       "      <td>Taylor Swift</td>\n",
       "      <td>The Outside</td>\n",
       "      <td>I didn't know what I would find When I went lo...</td>\n",
       "      <td>0.589</td>\n",
       "      <td>0.805</td>\n",
       "      <td>5.0</td>\n",
       "      <td>-4.055</td>\n",
       "      <td>1.0</td>\n",
       "      <td>0.0293</td>\n",
       "      <td>0.00491</td>\n",
       "      <td>0.0</td>\n",
       "      <td>0.240</td>\n",
       "      <td>0.591</td>\n",
       "      <td>112.982</td>\n",
       "      <td>207107.0</td>\n",
       "      <td>4.0</td>\n",
       "      <td>1114</td>\n",
       "    </tr>\n",
       "    <tr>\n",
       "      <th>4</th>\n",
       "      <td>Taylor Swift</td>\n",
       "      <td>Should've Said No</td>\n",
       "      <td>It's strange to think the songs we used to sin...</td>\n",
       "      <td>0.476</td>\n",
       "      <td>0.777</td>\n",
       "      <td>4.0</td>\n",
       "      <td>-3.771</td>\n",
       "      <td>0.0</td>\n",
       "      <td>0.0289</td>\n",
       "      <td>0.01030</td>\n",
       "      <td>0.0</td>\n",
       "      <td>0.196</td>\n",
       "      <td>0.472</td>\n",
       "      <td>167.964</td>\n",
       "      <td>242200.0</td>\n",
       "      <td>4.0</td>\n",
       "      <td>1801</td>\n",
       "    </tr>\n",
       "  </tbody>\n",
       "</table>\n",
       "</div>"
      ],
      "text/plain": [
       "          Album                  Song Name  \\\n",
       "0  Taylor Swift  Mary's Song (Oh My My My)   \n",
       "1  Taylor Swift     A Perfectly Good Heart   \n",
       "2  Taylor Swift                 Tim McGraw   \n",
       "3  Taylor Swift                The Outside   \n",
       "4  Taylor Swift          Should've Said No   \n",
       "\n",
       "                                              Lyrics  Danceability  Energy  \\\n",
       "0  She said I was seven and you were nine I looke...         0.403   0.627   \n",
       "1  Why would you wanna break A perfectly good hea...         0.483   0.751   \n",
       "2  He said the way my blue eyes shined Put those ...         0.580   0.491   \n",
       "3  I didn't know what I would find When I went lo...         0.589   0.805   \n",
       "4  It's strange to think the songs we used to sin...         0.476   0.777   \n",
       "\n",
       "   Key  Loudness  Mode  Speechiness  Acousticness  Instrumentalness  Liveness  \\\n",
       "0  2.0    -5.280   1.0       0.0292       0.01770               0.0     0.182   \n",
       "1  4.0    -5.726   1.0       0.0365       0.00349               0.0     0.128   \n",
       "2  0.0    -6.462   1.0       0.0251       0.57500               0.0     0.121   \n",
       "3  5.0    -4.055   1.0       0.0293       0.00491               0.0     0.240   \n",
       "4  4.0    -3.771   0.0       0.0289       0.01030               0.0     0.196   \n",
       "\n",
       "   Valence    Tempo  Duration_ms  Time Signature  Lyrics Length  \n",
       "0    0.374   74.900     213080.0             4.0           1602  \n",
       "1    0.268  156.092     220147.0             4.0           1214  \n",
       "2    0.425   76.009     232107.0             4.0           1801  \n",
       "3    0.591  112.982     207107.0             4.0           1114  \n",
       "4    0.472  167.964     242200.0             4.0           1801  "
      ]
     },
     "execution_count": 20,
     "metadata": {},
     "output_type": "execute_result"
    }
   ],
   "source": [
    "full_dataframe.head(5)"
   ]
  },
  {
   "cell_type": "markdown",
   "metadata": {},
   "source": [
    "## 3. Results"
   ]
  },
  {
   "cell_type": "markdown",
   "metadata": {},
   "source": [
    "### Method 1. Sentiment and Frequency Analysis"
   ]
  },
  {
   "cell_type": "markdown",
   "metadata": {},
   "source": [
    "Introduction: This analysis will focus on counting top words across eras/albums, comparing sentiment associated with emotion centered characters, comparing albums across eras and evaluating  similarity\n",
    "\n",
    "Hypothesis: Based on the general consensus regarding her albums, we are assuming that across the ablums, there will be a change in the frequency of the top words for each album, with the top word reflecting the emotion each album and its songs captures. In addition, we predict that overall there will be a postive sentiment across her albums, with some albums have a greater sentiment as they may be tied to themes with less joyful emotion. Finally, we predict that some albums will have a greater similarity to one than another based on the Taylor's main focus at the time of release. \n",
    "\n",
    "#### Top Words Per Album using Tokenization  "
   ]
  },
  {
   "cell_type": "markdown",
   "metadata": {},
   "source": [
    "1) Creating Dataframe with just Albums and Lyrics"
   ]
  },
  {
   "cell_type": "code",
   "execution_count": null,
   "metadata": {},
   "outputs": [
    {
     "name": "stdout",
     "output_type": "stream",
     "text": [
      "          Album                  Song Name  \\\n",
      "0  Taylor Swift  Mary's Song (Oh My My My)   \n",
      "1  Taylor Swift     A Perfectly Good Heart   \n",
      "2  Taylor Swift                 Tim McGraw   \n",
      "3  Taylor Swift                The Outside   \n",
      "4  Taylor Swift          Should've Said No   \n",
      "\n",
      "                                              Lyrics  \n",
      "0  She said I was seven and you were nine I looke...  \n",
      "1  Why would you wanna break A perfectly good hea...  \n",
      "2  He said the way my blue eyes shined Put those ...  \n",
      "3  I didn't know what I would find When I went lo...  \n",
      "4  It's strange to think the songs we used to sin...  \n"
     ]
    }
   ],
   "source": [
    "lyric_dataframe =  full_dataframe[[\"Album\", \"Song Name\", 'Lyrics']].copy()\n",
    "print(lyric_dataframe.head(5))\n"
   ]
  },
  {
   "cell_type": "markdown",
   "metadata": {},
   "source": [
    " 2) Obtaining Top Words per Album"
   ]
  },
  {
   "cell_type": "code",
   "execution_count": null,
   "metadata": {},
   "outputs": [
    {
     "name": "stdout",
     "output_type": "stream",
     "text": [
      "\n",
      "Album: 1989\n",
      "Number of unique types across lyrics: 6352\n",
      "\n",
      "Album: Fearless\n",
      "Number of unique types across lyrics: 5338\n",
      "\n",
      "Album: Lover\n",
      "Number of unique types across lyrics: 6717\n",
      "\n",
      "Album: Midnights\n",
      "Number of unique types across lyrics: 4200\n",
      "\n",
      "Album: Red\n",
      "Number of unique types across lyrics: 6187\n",
      "\n",
      "Album: Speak Now\n",
      "Number of unique types across lyrics: 6095\n",
      "\n",
      "Album: Taylor Swift\n",
      "Number of unique types across lyrics: 3456\n"
     ]
    }
   ],
   "source": [
    "#tokenizing\n",
    "import pandas as pd\n",
    "from nltk import word_tokenize\n",
    "from collections import Counter\n",
    "\n",
    "\n",
    "# Combine all lyrics of the same album into one string\n",
    "df_combined = lyric_dataframe.groupby('Album')['Lyrics'].apply(lambda x: ' '.join(x)).reset_index()\n",
    "\n",
    "# Tokenize each string\n",
    "df_combined['Tokenized_Lyrics'] = df_combined['Lyrics'].apply(word_tokenize)\n",
    "\n",
    "\n",
    "# Count the tokens in each album's lyrics\n",
    "for index, row in df_combined.iterrows():\n",
    "    album_name = row['Album']\n",
    "    token_counts = Counter(row['Tokenized_Lyrics'])\n",
    "    \n",
    "    # Display token counts for each album\n",
    "    print(f\"\\nAlbum: {album_name}\")\n",
    "    print(f\"Number of unique types across lyrics: {len(row['Tokenized_Lyrics'])}\")\n",
    "\n"
   ]
  },
  {
   "cell_type": "code",
   "execution_count": null,
   "metadata": {},
   "outputs": [],
   "source": [
    "#Function to obtain 20 most frequent words \n",
    "import string\n",
    "from nltk.corpus import stopwords\n",
    "from nltk import word_tokenize \n",
    "from collections import Counter \n",
    "\n",
    "# Count tokens with case folding and NLTK English stopwords removed\n",
    "\n",
    "def word_stats(data, stops=None, n=20):\n",
    "    data_lower = Counter()\n",
    "    for key in data.keys():\n",
    "        data_lower[key.lower()] += data[key] #lowercase\n",
    "    if stops:\n",
    "        for stop in stops:\n",
    "            del data_lower[stop] # remove any stopwords\n",
    "        #print(\"Stopwords:\", sorted(stops)) # print stopwords\n",
    "    else:\n",
    "        print(\"Stopwords: None\")\n",
    "    print(\"\\nTotal words:\", sum(data_lower.values())) # print wordcount\n",
    "    print(f\"\\nTop {n} words by frequency: \") \n",
    "    for word in data_lower.most_common(n):\n",
    "        print(f\"{word[0]}\\t{word[1]}\") # print most frequent words\n",
    "    return data_lower"
   ]
  },
  {
   "cell_type": "code",
   "execution_count": null,
   "metadata": {},
   "outputs": [
    {
     "name": "stdout",
     "output_type": "stream",
     "text": [
      "\n",
      "\n",
      "1989\n",
      "\n",
      "Total words: 2325\n",
      "\n",
      "Top 20 words by frequency: \n",
      "shake\t78\n",
      "love\t75\n",
      "yet\t65\n",
      "wish\t62\n",
      "got\t47\n",
      "oh-oh\t39\n",
      "clear\t38\n",
      "woods\t38\n",
      "back\t35\n",
      "go\t35\n",
      "would\t34\n",
      "baby\t33\n",
      "'cause\t32\n",
      "know\t31\n",
      "gon\t30\n",
      "say\t28\n",
      "good\t26\n",
      "girl\t25\n",
      "never\t25\n",
      "bad\t23\n"
     ]
    },
    {
     "data": {
      "image/png": "[encoded data removed]",
      "text/plain": [
       "<Figure size 432x288 with 1 Axes>"
      ]
     },
     "metadata": {},
     "output_type": "display_data"
    },
    {
     "name": "stdout",
     "output_type": "stream",
     "text": [
      "\n",
      "\n",
      "Fearless\n",
      "\n",
      "Total words: 1914\n",
      "\n",
      "Top 20 words by frequency: \n",
      "know\t61\n",
      "ca\t29\n",
      "'cause\t27\n",
      "never\t26\n",
      "feel\t22\n",
      "one\t21\n",
      "see\t21\n",
      "way\t19\n",
      "might\t19\n",
      "back\t18\n",
      "help\t18\n",
      "said\t18\n",
      "say\t17\n",
      "sorry\t17\n",
      "love\t16\n",
      "baby\t16\n",
      "could\t15\n",
      "time\t15\n",
      "tell\t14\n",
      "also\t13\n"
     ]
    },
    {
     "data": {
      "image/png": "[encoded data removed]",
      "text/plain": [
       "<Figure size 432x288 with 1 Axes>"
      ]
     },
     "metadata": {},
     "output_type": "display_data"
    },
    {
     "name": "stdout",
     "output_type": "stream",
     "text": [
      "\n",
      "\n",
      "Lover\n",
      "\n",
      "Total words: 2483\n",
      "\n",
      "Top 20 words by frequency: \n",
      "want\t49\n",
      "daylight\t40\n",
      "see\t39\n",
      "love\t34\n",
      "never\t32\n",
      "oh-oh\t30\n",
      "man\t29\n",
      "right\t28\n",
      "go\t26\n",
      "know\t26\n",
      "one\t23\n",
      "could\t23\n",
      "street\t23\n",
      "think\t21\n",
      "got\t21\n",
      "'cause\t21\n",
      "yeah\t21\n",
      "say\t19\n",
      "need\t19\n",
      "might\t18\n"
     ]
    },
    {
     "data": {
      "image/png": "[encoded data removed]",
      "text/plain": [
       "<Figure size 432x288 with 1 Axes>"
      ]
     },
     "metadata": {},
     "output_type": "display_data"
    },
    {
     "name": "stdout",
     "output_type": "stream",
     "text": [
      "\n",
      "\n",
      "Midnights\n",
      "\n",
      "Total words: 1641\n",
      "\n",
      "Top 20 words by frequency: \n",
      "karma\t28\n",
      "love\t21\n",
      "wanted\t20\n",
      "'cause\t19\n",
      "still\t19\n",
      "get\t16\n",
      "fallin\t15\n",
      "yeah\t14\n",
      "might\t14\n",
      "say\t12\n",
      "sweet\t12\n",
      "also\t11\n",
      "one\t11\n",
      "ever\t10\n",
      "shit\t10\n",
      "time\t10\n",
      "home\t10\n",
      "thought\t10\n",
      "ask\t10\n",
      "room\t10\n"
     ]
    },
    {
     "data": {
      "image/png": "[encoded data removed]",
      "text/plain": [
       "<Figure size 432x288 with 1 Axes>"
      ]
     },
     "metadata": {},
     "output_type": "display_data"
    },
    {
     "name": "stdout",
     "output_type": "stream",
     "text": [
      "\n",
      "\n",
      "Red\n",
      "\n",
      "Total words: 2385\n",
      "\n",
      "Top 20 words by frequency: \n",
      "know\t75\n",
      "time\t64\n",
      "red\t45\n",
      "never\t42\n",
      "ever\t34\n",
      "trouble\t33\n",
      "stay\t32\n",
      "last\t31\n",
      "yeah\t27\n",
      "back\t26\n",
      "one\t24\n",
      "asking\t24\n",
      "better\t24\n",
      "think\t23\n",
      "'cause\t22\n",
      "starlight\t22\n",
      "tell\t21\n",
      "love\t19\n",
      "everything\t19\n",
      "dancing\t19\n"
     ]
    },
    {
     "data": {
      "image/png": "[encoded data removed]",
      "text/plain": [
       "<Figure size 432x288 with 1 Axes>"
      ]
     },
     "metadata": {},
     "output_type": "display_data"
    },
    {
     "name": "stdout",
     "output_type": "stream",
     "text": [
      "\n",
      "\n",
      "Speak Now\n",
      "\n",
      "Total words: 2359\n",
      "\n",
      "Top 20 words by frequency: \n",
      "know\t35\n",
      "never\t32\n",
      "see\t30\n",
      "ever\t30\n",
      "say\t27\n",
      "mean\t22\n",
      "grow\t21\n",
      "still\t19\n",
      "time\t18\n",
      "back\t18\n",
      "might\t18\n",
      "go\t18\n",
      "ca\t18\n",
      "'cause\t17\n",
      "think\t17\n",
      "meet\t17\n",
      "yes\t16\n",
      "away\t16\n",
      "around\t15\n",
      "thought\t15\n"
     ]
    },
    {
     "data": {
      "image/png": "[encoded data removed]",
      "text/plain": [
       "<Figure size 432x288 with 1 Axes>"
      ]
     },
     "metadata": {},
     "output_type": "display_data"
    },
    {
     "name": "stdout",
     "output_type": "stream",
     "text": [
      "\n",
      "\n",
      "Taylor Swift\n",
      "\n",
      "Total words: 1279\n",
      "\n",
      "Top 20 words by frequency: \n",
      "think\t25\n",
      "back\t24\n",
      "said\t21\n",
      "would\t21\n",
      "know\t21\n",
      "might\t16\n",
      "beautiful\t16\n",
      "one\t15\n",
      "see\t15\n",
      "never\t14\n",
      "love\t13\n",
      "hope\t13\n",
      "baby\t13\n",
      "take\t12\n",
      "still\t12\n",
      "way\t12\n",
      "song\t12\n",
      "first\t11\n",
      "eyes\t10\n",
      "also\t10\n"
     ]
    },
    {
     "data": {
      "image/png": "[encoded data removed]",
      "text/plain": [
       "<Figure size 432x288 with 1 Axes>"
      ]
     },
     "metadata": {},
     "output_type": "display_data"
    }
   ],
   "source": [
    "import string\n",
    "from nltk.corpus import stopwords\n",
    "stopwords = stopwords.words('english')\n",
    "stops_taylor = set(stopwords).union(set(string.punctuation)).union(set(string.digits))\n",
    "# Remove custom punctuation and other tokens\n",
    "custom_stops = [ \"`\", \"``\",\"''\", \"'s\", \"n't\", \"''\",  \"’\", \"wan\", \"'ll\" , \"'ve\", \"``\", \"n't\", \"'s\", \"oh\", \"na\", \"'m\", \"like\", \"'re\", \"'d\", \"'\"]\n",
    "stops_taylor = stops_taylor.union(set(custom_stops))\n",
    "\n",
    "for index, row in df_combined.iterrows():\n",
    "    album_name = row['Album']\n",
    "    lyrics = row['Tokenized_Lyrics']\n",
    "    print(\"\\n\")\n",
    "    print(album_name)\n",
    "    taylor_best = word_stats(Counter(lyrics), stops=stops_taylor)\n",
    "    labels, values = zip(*taylor_best.most_common(10)) \n",
    "    fig, ax = plt.subplots()\n",
    "    ax.barh(labels, values)\n",
    "    ax.invert_yaxis()\n",
    "    plt.title(f\"Top 20 Words in {album_name}\")\n",
    "    plt.show()\n",
    "    \n",
    "\n",
    "\n",
    "\n"
   ]
  },
  {
   "cell_type": "markdown",
   "metadata": {},
   "source": [
    "Method: The code above defines a Python function, `word_stats`, designed to analyze and summarize word frequencies in a given our dataset. The function takes a dictionary representing word frequencies, performs case folding (converting all words to lowercase), and removes English stopwords. It then prints information, including the list of stopwords, the total word count after processing, and the top 20 words with their frequencies. The most frequent words in the dataset is obtainde by considering case insensitivity and the exclusion of common English stopwords as well as custom set of stopwords tailored towards this dataset. Overall, MLTK's word_tokenize function, counter, case folding, and stopwords were some of the concepts utilized. \n",
    "\n",
    "Analysis: Based on the results from the graphs, we can see that for the following albums: 1989, Fearless, Lover, Midnights, Red, Speak Now, Taylor Swift, the top words were shake (78), know (61), want(49), karma (28), know (75), know (35), think(25), respectively. As we can see across three albums, Fearless, Red, and Speak Now, \"know\" was the most common word in all of the song lyrics combined. Similarly, the word that had the highest frequency count was \"shake\" and it had the highest count in the 1989 album. This repetition of the word \"know\" could suggest a notable thematic or lyrical emphasis on knowledge, understanding, or awareness in the song lyrics of these albums. However, while these specfic words may  provide more insight into the hypothesis, it is important to consider some drawbacks. For example, \"know\" might just be a common filler word that does'nt contribute to the meaning of her songs. In this case, sentiment analysis may be useful to combine with this. Adding on, one song in the 1989 album is \"Shake it Off\" which consists of the word \"shake\" repeated several times. This one song could have resulted in the top word for the album resulting in \"shake\" or skewing our result. Although, it may be accurate, it may not be important in the context it is being studied, so a improvment could creating a threshold for the frequency of a word occuring in each song, so it is not too excessive or too minimial. "
   ]
  },
  {
   "cell_type": "markdown",
   "metadata": {},
   "source": [
    "3) Top Words across All Albums"
   ]
  },
  {
   "cell_type": "code",
   "execution_count": null,
   "metadata": {},
   "outputs": [
    {
     "name": "stdout",
     "output_type": "stream",
     "text": [
      "\n",
      "Total words: 14386\n",
      "\n",
      "Top 20 words by frequency: \n",
      "know\t257\n",
      "love\t190\n",
      "never\t175\n",
      "'cause\t145\n",
      "back\t136\n",
      "see\t131\n",
      "time\t130\n",
      "got\t121\n",
      "say\t120\n",
      "think\t119\n",
      "might\t112\n",
      "ever\t111\n",
      "one\t109\n",
      "go\t103\n",
      "would\t94\n",
      "oh-oh\t93\n",
      "yeah\t93\n",
      "could\t92\n",
      "also\t87\n",
      "baby\t84\n"
     ]
    },
    {
     "data": {
      "image/png": "[encoded data removed]",
      "text/plain": [
       "<Figure size 720x432 with 1 Axes>"
      ]
     },
     "metadata": {},
     "output_type": "display_data"
    }
   ],
   "source": [
    "\n",
    "# Aggregate token counts across all albums\n",
    "all_lyrics = []\n",
    "for index, row in df_combined.iterrows():\n",
    "    all_lyrics.extend(row['Tokenized_Lyrics'])\n",
    "\n",
    "# Compute word stats for all albums combined\n",
    "all_albums_stats = word_stats(Counter(all_lyrics), stops=stops_taylor)\n",
    "\n",
    "# Extract top 20 words and their counts\n",
    "top_words_all = list(all_albums_stats.keys())[:20]\n",
    "top_counts_all = list(all_albums_stats.values())[:20]\n",
    "\n",
    "# Plot\n",
    "plt.figure(figsize=(10, 6))\n",
    "plt.barh(top_words_all, top_counts_all)\n",
    "plt.title(\"Top 20 Words Across All Albums\")\n",
    "plt.xlabel(\"Word Count\")\n",
    "plt.ylabel(\"Words\")\n",
    "plt.show()\n"
   ]
  },
  {
   "cell_type": "markdown",
   "metadata": {},
   "source": [
    "Analysis: The graph depicts the top 20 words across all the albumns and songs combined. As depecited, know and love are the top most frequent words. If we take a look at the word \"love\", this makes sense as a common theme among all of taylor swifts music is young love and relationships, whether that is romantically, friendship, or family. A good next step would be to look at sentiment analysis attached to \"love\" and which album has a greater association with it.  "
   ]
  },
  {
   "cell_type": "markdown",
   "metadata": {},
   "source": [
    "#### Part 2: Sentiment Analysis "
   ]
  },
  {
   "cell_type": "markdown",
   "metadata": {},
   "source": [
    "1) Sentiment Scores for Albums "
   ]
  },
  {
   "cell_type": "code",
   "execution_count": null,
   "metadata": {},
   "outputs": [
    {
     "name": "stderr",
     "output_type": "stream",
     "text": [
      "[nltk_data] Downloading package vader_lexicon to\n",
      "[nltk_data]     C:\\Users\\Jonnalagadda\\AppData\\Roaming\\nltk_data...\n",
      "[nltk_data]   Package vader_lexicon is already up-to-date!\n"
     ]
    }
   ],
   "source": [
    "import nltk\n",
    "from nltk.sentiment.vader import SentimentIntensityAnalyzer\n",
    "import matplotlib.pyplot as plt\n",
    "\n",
    "# Download the VADER Lexicon for sentiment analysis\n",
    "nltk.download('vader_lexicon')\n",
    "\n",
    "# Initialize the SentimentIntensityAnalyzer\n",
    "analyzer = SentimentIntensityAnalyzer()\n",
    "\n",
    "def analyzing_sentiment(text):\n",
    "    sentiment_dict = analyzer.polarity_scores(text)\n",
    "    if sentiment_dict['compound'] >= 0.05:\n",
    "        sentiment = 'positive'\n",
    "    elif sentiment_dict['compound'] <= -0.05:\n",
    "        sentiment = \"negative\"\n",
    "    else: \n",
    "        sentiment = \"neutral\"\n",
    "    sentiment_dict['Overall sentiment'] = sentiment\n",
    "    \n",
    "    return sentiment_dict\n",
    "\n"
   ]
  },
  {
   "cell_type": "code",
   "execution_count": null,
   "metadata": {},
   "outputs": [
    {
     "name": "stdout",
     "output_type": "stream",
     "text": [
      "Sentiment Analysis for All Lyrics:\n",
      "{'neg': 0.109, 'neu': 0.711, 'pos': 0.181, 'compound': 1.0, 'Overall sentiment': 'positive'}\n",
      "\n",
      "Sentiment Analysis for 1989:\n",
      "{'neg': 0.154, 'neu': 0.661, 'pos': 0.185, 'compound': 0.9998, 'Overall sentiment': 'positive'}\n",
      "\n",
      "Sentiment Analysis for Fearless:\n",
      "{'neg': 0.087, 'neu': 0.739, 'pos': 0.174, 'compound': 0.9999, 'Overall sentiment': 'positive'}\n",
      "\n",
      "Sentiment Analysis for Lover:\n",
      "{'neg': 0.114, 'neu': 0.691, 'pos': 0.195, 'compound': 0.9999, 'Overall sentiment': 'positive'}\n",
      "\n",
      "Sentiment Analysis for Midnights:\n",
      "{'neg': 0.1, 'neu': 0.723, 'pos': 0.177, 'compound': 0.9999, 'Overall sentiment': 'positive'}\n",
      "\n",
      "Sentiment Analysis for Red:\n",
      "{'neg': 0.1, 'neu': 0.705, 'pos': 0.195, 'compound': 1.0, 'Overall sentiment': 'positive'}\n",
      "\n",
      "Sentiment Analysis for Speak Now:\n",
      "{'neg': 0.093, 'neu': 0.75, 'pos': 0.157, 'compound': 0.9999, 'Overall sentiment': 'positive'}\n",
      "\n",
      "Sentiment Analysis for Taylor Swift:\n",
      "{'neg': 0.061, 'neu': 0.755, 'pos': 0.184, 'compound': 0.9999, 'Overall sentiment': 'positive'}\n"
     ]
    }
   ],
   "source": [
    "# Perform sentiment analysis on all lyrics combined\n",
    "all_lyrics_combined = \" \".join(df_combined[\"Lyrics\"])\n",
    "all_sentiment = analyzing_sentiment(all_lyrics_combined)\n",
    "print(\"Sentiment Analysis for All Lyrics:\")\n",
    "print(all_sentiment)\n",
    "\n",
    "\n",
    "# Perform sentiment analysis on each album\n",
    "album_sentiments = {}\n",
    "\n",
    "# Group lyrics by album\n",
    "for index, row in df_combined.iterrows():\n",
    "    album_name = row['Album']\n",
    "    lyrics = row['Lyrics']\n",
    "        \n",
    "    # Perform sentiment analysis on the current album\n",
    "    album_sentiment = analyzing_sentiment(lyrics)\n",
    "    album_sentiments[album_name] = album_sentiment\n",
    "    \n",
    "    # Print sentiment analysis for each album\n",
    "    print(f\"\\nSentiment Analysis for {album_name}:\")\n",
    "    print(album_sentiment)\n"
   ]
  },
  {
   "cell_type": "markdown",
   "metadata": {},
   "source": [
    "Methods: For the sentiment analysis, a function was written that takes a VADER SentimentIntensityAnalyzer object and returns a modified sentiment_dict. \n",
    ". The function adds a new dictionary key, Overall sentiment, to the sentiment_dict, the value of which is one of [positive, negative, neutral]` based on the compound key of sentiment_dict. A compound value greater than (or equal to) 0.05 is positive, less than (or equal to) -0.05 is negative, between is neutral.  \n",
    "\n",
    "Analysis: The sentiment analysis results showcase an overall positive tone across all albums and lyrics, with compound scores indicating predominantly positive sentiments. Among the individual albums, \"Red\" and \"Lover\" stand out with the highest positivity score, with the pos scores being 0.195 for both. This suggests that the lyrics of \"Red\" and \"Lover\" may convey a more positive and uplifting sentiment. On the other hand, when considering negativity scores, the data reveals that \"1989\" exhibits the highest negativity score among the albums, although still relatively low at 0.154. While this negativity score is minimal, it highlights a nuanced emotional range within the album's lyrics, suggesting that \"1989\" may incorporate diverse emotional themes, including moments of reflection or introspection. Overall, these sentiment analysis results not only emphasize the prevailing positivity in the lyrics but also provide insights into specific albums that showcase the greatest positivity and, to a lesser extent, moments of negativity."
   ]
  },
  {
   "cell_type": "markdown",
   "metadata": {},
   "source": [
    "2) Sentiment Analysis using Word Lists"
   ]
  },
  {
   "cell_type": "code",
   "execution_count": null,
   "metadata": {},
   "outputs": [],
   "source": [
    "love_words = set([\n",
    "    'love', 'passion', 'romance', 'sweetheart', 'darling', 'beloved',\n",
    "    'adore', 'affection', 'amour', 'intimacy', 'emotion', 'devotion',\n",
    "    'care', 'tenderness', 'desire', 'warmth', 'tender', 'heartfelt',\n",
    "    'amorous', 'crush', 'infatuation', 'cuddle', 'kiss', 'hug',\n",
    "    'passionate', 'commitment', 'soulmate', 'partner', 'significant other'\n",
    "])\n",
    "\n",
    "# Heartbreak-related word list\n",
    "heartbreak_words = set([\n",
    "    'heartbreak', 'sadness', 'grief', 'sorrow', 'tears', 'brokenhearted',\n",
    "    'pain', 'ache', 'loneliness', 'loss', 'melancholy', 'despair',\n",
    "    'unrequited', 'betrayal', 'disappointment', 'parting', 'farewell',\n",
    "    'mourning', 'separation', 'painful', 'heartache', 'regret', 'suffering',\n",
    "    'broken', 'wounded', 'crushed', 'dejected', 'despondent', 'grieving'\n",
    "])"
   ]
  },
  {
   "cell_type": "code",
   "execution_count": null,
   "metadata": {},
   "outputs": [],
   "source": [
    "#improving sets \n",
    "# Love-related word list\n",
    "from nltk import sent_tokenize, word_tokenize\n",
    "\n",
    "love_words = set([\n",
    "    'love', 'passion', 'romance', 'sweetheart', 'darling', 'beloved',\n",
    "    'adore', 'affection', 'amour', 'intimacy', 'emotion', 'devotion',\n",
    "    'care', 'tenderness', 'desire', 'warmth', 'tender', 'heartfelt',\n",
    "    'amorous', 'crush', 'infatuation', 'cuddle', 'kiss', 'hug',\n",
    "    'passionate', 'commitment', 'soulmate', 'partner', 'significant other',\n",
    "    'butterflies in stomach', 'sweet nothings', 'endearment', 'flirtation',\n",
    "    'longing', 'intimate', 'tantalizing', 'enchanted', 'serenade', 'lover'\n",
    "])\n",
    "\n",
    "# Heartbreak-related word list\n",
    "heartbreak_words = set([\n",
    "    'heartbreak', 'sadness', 'grief', 'sorrow', 'tears', 'brokenhearted',\n",
    "    'pain', 'ache', 'loneliness', 'loss', 'melancholy', 'despair',\n",
    "    'unrequited', 'betrayal', 'disappointment', 'parting', 'farewell',\n",
    "    'mourning', 'separation', 'painful', 'heartache', 'regret', 'suffering',\n",
    "    'broken', 'wounded', 'crushed', 'dejected', 'despondent', 'grieving',\n",
    "    'heart-wrenching', 'anguish', 'bitterness', 'solitude', 'desolation', 'hate', 'swearing' \n",
    "])\n",
    "\n",
    "\n",
    "\n",
    "def love_score(tokens, love_words, heartbreak_words):\n",
    "        score = 0\n",
    "        score_1 = 0\n",
    "        for token in tokens:\n",
    "            if token in heartbreak_words:\n",
    "                score_1 += 1\n",
    "            if token in love_words:\n",
    "                score += 1\n",
    "        if score or score_1 > 0:\n",
    "            print (\"love:\", score, \"heartbreak:\", score_1) \n",
    "     \n",
    "   \n"
   ]
  },
  {
   "cell_type": "code",
   "execution_count": null,
   "metadata": {},
   "outputs": [
    {
     "name": "stdout",
     "output_type": "stream",
     "text": [
      "1989\n",
      "love: 76 heartbreak: 20\n",
      "None\n",
      "Fearless\n",
      "love: 23 heartbreak: 0\n",
      "None\n",
      "Lover\n",
      "love: 45 heartbreak: 14\n",
      "None\n",
      "Midnights\n",
      "love: 27 heartbreak: 9\n",
      "None\n",
      "Red\n",
      "love: 25 heartbreak: 2\n",
      "None\n",
      "Speak Now\n",
      "love: 30 heartbreak: 8\n",
      "None\n",
      "Taylor Swift\n",
      "love: 17 heartbreak: 2\n",
      "None\n"
     ]
    }
   ],
   "source": [
    "for index, row in df_combined.iterrows():\n",
    "    album_name = row['Album']\n",
    "    lyrics = row['Tokenized_Lyrics']\n",
    "    # Calculate the love score for the entire set of lyrics\n",
    "    print(album_name)\n",
    "    album_love_score = love_score(lyrics, love_words, heartbreak_words)\n",
    "    # Print the album name and the love score\n",
    "    print(album_love_score)\n"
   ]
  },
  {
   "cell_type": "markdown",
   "metadata": {},
   "source": [
    "Methods: \n",
    "\n",
    "Analysis: "
   ]
  },
  {
   "cell_type": "markdown",
   "metadata": {},
   "source": [
    "#### Part 3: Vectorization + Distances "
   ]
  },
  {
   "cell_type": "code",
   "execution_count": null,
   "metadata": {},
   "outputs": [
    {
     "name": "stdout",
     "output_type": "stream",
     "text": [
      "Matrix shape: (7, 832)\n",
      "\n",
      "Euclidean:\n",
      " [[0.         1.27514329 1.22248049 1.26904795 1.27068942 1.21709477\n",
      "  1.31003053]\n",
      " [1.27514329 0.         1.19209986 1.17694544 1.20538743 1.03835927\n",
      "  1.1312905 ]\n",
      " [1.22248049 1.19209986 0.         1.15409591 1.15598831 1.08503975\n",
      "  1.2055045 ]\n",
      " [1.26904795 1.17694544 1.15409591 0.         1.20591542 1.11947825\n",
      "  1.23526678]\n",
      " [1.27068942 1.20538743 1.15598831 1.20591542 0.         1.1349174\n",
      "  1.20076518]\n",
      " [1.21709477 1.03835927 1.08503975 1.11947825 1.1349174  0.\n",
      "  1.15126007]\n",
      " [1.31003053 1.1312905  1.2055045  1.23526678 1.20076518 1.15126007\n",
      "  0.        ]]\n",
      "\n",
      "Cosine:\n",
      " [[0.         0.8129952  0.74722927 0.80524135 0.8073258  0.74065984\n",
      "  0.85808999]\n",
      " [0.8129952  0.         0.71055104 0.69260028 0.72647942 0.53909498\n",
      "  0.6399091 ]\n",
      " [0.74722927 0.71055104 0.         0.66596868 0.66815449 0.58865563\n",
      "  0.72662055]\n",
      " [0.80524135 0.69260028 0.66596868 0.         0.727116   0.62661577\n",
      "  0.762942  ]\n",
      " [0.8073258  0.72647942 0.66815449 0.727116   0.         0.64401875\n",
      "  0.72091851]\n",
      " [0.74065984 0.53909498 0.58865563 0.62661577 0.64401875 0.\n",
      "  0.66269987]\n",
      " [0.85808999 0.6399091  0.72662055 0.762942   0.72091851 0.66269987\n",
      "  0.        ]]\n"
     ]
    }
   ],
   "source": [
    "import pandas as pd\n",
    "from sklearn.feature_extraction.text import TfidfVectorizer\n",
    "from sklearn.metrics.pairwise import euclidean_distances, cosine_distances\n",
    "\n",
    "import string\n",
    "from nltk.corpus import stopwords\n",
    "stopwords = stopwords.words('english')\n",
    "stops_taylor = set(stopwords).union(set(string.punctuation)).union(set(string.digits))\n",
    "# Remove custom punctuation and other tokens\n",
    "custom_stops = [ \"`\", \"``\",\"''\", \"'s\", \"n't\", \"''\",  \"’\", \"wan\", \"'ll\" , \"'ve\", \"``\", \"n't\", \"'s\", \"oh\", \"na\", \"'m\", \"like\", \"'re\", \"'d\", \"'\"]\n",
    "stops_taylor = stops_taylor.union(set(custom_stops))\n",
    "\n",
    "\n",
    "# Create a TfidfVectorizer\n",
    "lyrics_vectorizer = TfidfVectorizer(\n",
    "    encoding='utf-8',\n",
    "    strip_accents='unicode',\n",
    "    lowercase=True,\n",
    "    stop_words=stopwords,\n",
    "    min_df=2,\n",
    "    max_df=0.9,\n",
    "    binary=False,\n",
    "    norm='l2',\n",
    "    use_idf=False,\n",
    "    max_features=5000\n",
    ")\n",
    "\n",
    "# Fit and transform the lyrics into a TF-IDF matrix\n",
    "lyrics_matrix = lyrics_vectorizer.fit_transform(df_combined['Lyrics'])\n",
    "\n",
    "# Print the shape of the TF-IDF matrix\n",
    "print(\"Matrix shape:\", lyrics_matrix.shape)\n",
    "\n",
    "# Calculate and print Euclidean distance matrix\n",
    "print(\"\\nEuclidean:\\n\", euclidean_distances(lyrics_matrix))\n",
    "\n",
    "# Calculate and print Cosine similarity matrix\n",
    "print(\"\\nCosine:\\n\", cosine_distances(lyrics_matrix))\n"
   ]
  },
  {
   "cell_type": "markdown",
   "metadata": {},
   "source": [
    "\n",
    "1. Euclidean Distances:\n",
    "   - The Euclidean distance matrix shows the dissimilarity between albums. Smaller values indicate greater similarity.\n",
    "   - Each entry represents the distance between the corresponding albums. For example, the distance between \"1989\" and \"Fearless\" is 1.275, and the distance between \"1989\" and \"Speak Now\" is 1.31.\n",
    "   - Smaller distances imply that the albums have more similar lyrical content, while larger distances suggest greater dissimilarity.\n",
    "\n",
    "2. Cosine Similarities:\n",
    "   - The Cosine similarity matrix shows how much albums share in terms of content. Values closer to 1 indicate higher similarity.\n",
    "   - Higher cosine similarities suggest albums with more shared words and themes.\n",
    "\n",
    "Interpretation:\n",
    "   - Looking at both matrices, you can observe patterns of similarity and dissimilarity between albums.\n",
    "   - \"Lover\" and \"Speak Now\" have the highest Cosine similarity of 0.858, indicating strong thematic similarities.\n",
    "   - \"Lover\" and \"Fearless\" have the lowest Euclidean distance of 1.192, suggesting the highest content similarity based on Euclidean distances.\n",
    "   - \"Red\" and \"Midnights\" show relatively high Euclidean distance (1.270) and lower Cosine similarity (0.807), indicating that they might be more dissimilar compared to other album pairs.\n",
    "\n",
    "In summary, analyzing both Euclidean distances and Cosine similarities provides a comprehensive view of the relationships between albums, offering insights into thematic and lyrical content similarities and differences."
   ]
  },
  {
   "cell_type": "code",
   "execution_count": null,
   "metadata": {},
   "outputs": [
    {
     "data": {
      "image/png": "[encoded data removed]",
      "text/plain": [
       "<Figure size 432x288 with 2 Axes>"
      ]
     },
     "metadata": {},
     "output_type": "display_data"
    }
   ],
   "source": [
    "# visualization (not required)\n",
    "import seaborn as sns\n",
    "sns.heatmap(\n",
    "    cosine_distances(lyrics_matrix),\n",
    "    annot=True,\n",
    "    square=True\n",
    ")\n",
    "plt.show()"
   ]
  },
  {
   "cell_type": "markdown",
   "metadata": {},
   "source": [
    "### Method 2. Lyric Length vs. Time Analysis"
   ]
  },
  {
   "cell_type": "markdown",
   "metadata": {},
   "source": [
    "#### Simple Vectorizer <a name = \"simple_vectorizer\"></a>"
   ]
  },
  {
   "cell_type": "markdown",
   "metadata": {},
   "source": [
    "Wanting to understand more about Taylor Swift's specific lyrics and understand if there were any words that were repeated in the lyrics and why. I created a vectorizer that produces a feature matrix of normalized token counts for the corpus.\n",
    "\n",
    "This was necessary to take in the lyrics from the Taylor Swift songs and produce comparable results of: keeping stop words and after removing stopwords. The TfidfVectorizer's ability to collect raw documents and utilize term frequencies, the number of times a given term appears in document/total words in document, by. the inverse document frequency, the log(Total Number of Documents/Number of Documents with Term) makes this vectorizer the best to use for our dataset."
   ]
  },
  {
   "cell_type": "markdown",
   "metadata": {},
   "source": [
    "To take in all the lyrics from the Taylor Swift songs I created a list that extracts the Lyrics from the dataframe. Making it easy to use and most importantly fits the needs of the vectorizer that we are utilizing."
   ]
  },
  {
   "cell_type": "code",
   "execution_count": null,
   "metadata": {},
   "outputs": [],
   "source": [
    "all_lyrics = full_dataframe['Lyrics'].values.tolist()"
   ]
  },
  {
   "cell_type": "markdown",
   "metadata": {},
   "source": [
    "In an effort to compare with and without the english stopwords I first began with **including the english stopwords** to find the top features."
   ]
  },
  {
   "cell_type": "code",
   "execution_count": null,
   "metadata": {},
   "outputs": [
    {
     "name": "stdout",
     "output_type": "stream",
     "text": [
      "Feature matrix of normalized token counts shape: (133, 39)\n"
     ]
    }
   ],
   "source": [
    "vectorizer = TfidfVectorizer(min_df = 0.5, use_idf = False)\n",
    "X = vectorizer.fit_transform(all_lyrics)\n",
    "\n",
    "print(\"Feature matrix of normalized token counts shape:\", (X.toarray().shape))"
   ]
  },
  {
   "cell_type": "code",
   "execution_count": null,
   "metadata": {},
   "outputs": [],
   "source": [
    "standardized_data = StandardScaler().fit_transform(X.toarray())"
   ]
  },
  {
   "cell_type": "markdown",
   "metadata": {},
   "source": [
    "I printed out all the top features ending with 39 of them."
   ]
  },
  {
   "cell_type": "code",
   "execution_count": null,
   "metadata": {},
   "outputs": [
    {
     "name": "stdout",
     "output_type": "stream",
     "text": [
      "Resulting feature matrix shape: (133, 39)\n",
      "Mean value: -1.8493015100754488e-17\n",
      "Feature names: ['all' 'also' 'and' 'be' 'but' 'can' 'cause' 'don' 'for' 'in' 'is' 'it'\n",
      " 'just' 'know' 'like' 'me' 'might' 'my' 'never' 'now' 'of' 'oh' 'on' 'out'\n",
      " 're' 'so' 'that' 'the' 'this' 'time' 'to' 'up' 'was' 'we' 'what' 'when'\n",
      " 'with' 'you' 'your']\n"
     ]
    }
   ],
   "source": [
    "print(\"Resulting feature matrix shape:\", standardized_data.shape)\n",
    "print(\"Mean value:\", standardized_data.mean())\n",
    "print(\"Feature names:\", vectorizer.get_feature_names_out())\n",
    "\n",
    "without_stopwords = vectorizer.get_feature_names_out()"
   ]
  },
  {
   "cell_type": "markdown",
   "metadata": {},
   "source": [
    "The features that we extracted do not really surprise me. As a group of avid Taylor Swift listeners we have heard these sorts of filler words like `all`, `also`, `and`, `be`, `but`, `can`, `is`, `it`, and more thousands of times. When looking through Shayna Kothari’s Taylor Swift Lyric Search app we notice the word `all` is used 708 times in 171 songs with songs like `All Too Well`, `Come Back...Be Here`, `Everything Has Changed`, `Forever Winter`, `ME!`, and many more."
   ]
  },
  {
   "cell_type": "markdown",
   "metadata": {},
   "source": [
    "Words like `never` and `time` though not surprising to the average Taylor Swift listener as songs like `We are Never Ever Getting Back Together` and `Never Grow Up` float through your mind, are definitely distinct from normal conversation."
   ]
  },
  {
   "cell_type": "markdown",
   "metadata": {},
   "source": [
    "**Removing the Stopword** include:"
   ]
  },
  {
   "cell_type": "code",
   "execution_count": null,
   "metadata": {},
   "outputs": [
    {
     "name": "stdout",
     "output_type": "stream",
     "text": [
      "Feature matrix of normalized token counts shape: (133, 7)\n"
     ]
    }
   ],
   "source": [
    "vectorizer = TfidfVectorizer(min_df = 0.5, use_idf = False, stop_words = 'english')\n",
    "X = vectorizer.fit_transform(all_lyrics)\n",
    "\n",
    "print(\"Feature matrix of normalized token counts shape:\", (X.toarray().shape))"
   ]
  },
  {
   "cell_type": "code",
   "execution_count": null,
   "metadata": {},
   "outputs": [],
   "source": [
    "standardized_data = StandardScaler().fit_transform(X.toarray())"
   ]
  },
  {
   "cell_type": "code",
   "execution_count": null,
   "metadata": {},
   "outputs": [
    {
     "name": "stdout",
     "output_type": "stream",
     "text": [
      "Resulting feature matrix shape: (133, 7)\n",
      "Mean value: 3.5298175648662336e-17\n",
      "Feature names: ['cause' 'don' 'just' 'know' 'like' 'oh' 'time']\n"
     ]
    }
   ],
   "source": [
    "print(\"Resulting feature matrix shape:\", standardized_data.shape)\n",
    "print(\"Mean value:\", standardized_data.mean())\n",
    "print(\"Feature names:\", vectorizer.get_feature_names_out())\n",
    "\n",
    "with_stopwords = vectorizer.get_feature_names_out()"
   ]
  },
  {
   "cell_type": "markdown",
   "metadata": {},
   "source": [
    "These feature words are not extremely surprising as well as `oh`, `time`, and `like` seem extremely common in lyrical dat. As songs like `time` and `oh` and extremely common in songs like `The Last Time` `The Very First Night`, `Mary's Song (Oh My My My)`, and `Back To December`."
   ]
  },
  {
   "cell_type": "code",
   "execution_count": null,
   "metadata": {},
   "outputs": [],
   "source": [
    "values = np.concatenate((without_stopwords, with_stopwords))"
   ]
  },
  {
   "cell_type": "code",
   "execution_count": null,
   "metadata": {},
   "outputs": [],
   "source": [
    "counter = Counter(values)\n",
    "over_one_occurance = []\n",
    "all_words = []\n",
    "unique_occurance = []\n",
    "for i in counter.keys():\n",
    "    if(counter[i] > 1):\n",
    "      over_one_occurance.append(i)\n",
    "    elif(counter[i] <= 1):\n",
    "     unique_occurance.append(i)\n",
    "    all_words.append(i)"
   ]
  },
  {
   "cell_type": "code",
   "execution_count": null,
   "metadata": {},
   "outputs": [
    {
     "name": "stdout",
     "output_type": "stream",
     "text": [
      "Words that occur in both before removing stop words and having stop words: ['cause', 'don', 'just', 'know', 'like', 'oh', 'time']\n"
     ]
    }
   ],
   "source": [
    "print(\"Words that occur in both before removing stop words and having stop words:\", over_one_occurance)"
   ]
  },
  {
   "cell_type": "code",
   "execution_count": null,
   "metadata": {},
   "outputs": [
    {
     "name": "stdout",
     "output_type": "stream",
     "text": [
      "Words that occur only in having stop words or only in removing stop words: ['all', 'also', 'and', 'be', 'but', 'can', 'for', 'in', 'is', 'it', 'me', 'might', 'my', 'never', 'now', 'of', 'on', 'out', 're', 'so', 'that', 'the', 'this', 'to', 'up', 'was', 'we', 'what', 'when', 'with', 'you', 'your']\n"
     ]
    }
   ],
   "source": [
    "print(\"Words that occur only in having stop words or only in removing stop words:\", unique_occurance)"
   ]
  },
  {
   "cell_type": "code",
   "execution_count": null,
   "metadata": {},
   "outputs": [
    {
     "name": "stdout",
     "output_type": "stream",
     "text": [
      "All Words: ['all', 'also', 'and', 'be', 'but', 'can', 'cause', 'don', 'for', 'in', 'is', 'it', 'just', 'know', 'like', 'me', 'might', 'my', 'never', 'now', 'of', 'oh', 'on', 'out', 're', 'so', 'that', 'the', 'this', 'time', 'to', 'up', 'was', 'we', 'what', 'when', 'with', 'you', 'your']\n"
     ]
    }
   ],
   "source": [
    "print(\"All Words:\", all_words)"
   ]
  },
  {
   "cell_type": "markdown",
   "metadata": {},
   "source": [
    "#### Simple Linear Regression on Year <a name = \"year_regression\"></a>\n",
    "Interested in exploring whether through lyrics we can predict the year Taylor Swift's song was released and see whether there were any noticible patterns I utilized the whole dataset as a training set and also a train test split of 70/30 to see how well my model does at taking in lyrics and predicting the year.\n",
    "\n",
    "- [Predicting using all the Data](#predicting_will_all_data)\n",
    "- [Train Test Split Y Years](#train_test_split)"
   ]
  },
  {
   "cell_type": "markdown",
   "metadata": {},
   "source": [
    "Showcasing the entire full_dataframe's Album to map the year to the Album and begin predicting through Linear Regression model based on lyrics which year her song is released in."
   ]
  },
  {
   "cell_type": "code",
   "execution_count": null,
   "metadata": {},
   "outputs": [
    {
     "data": {
      "text/plain": [
       "array(['taylor swift', 'fearless', 'speak now', 'red', '1989',\n",
       "       'reputation', 'lover', 'folklore', 'evermore', 'midnights'],\n",
       "      dtype=object)"
      ]
     },
     "metadata": {},
     "output_type": "display_data"
    }
   ],
   "source": [
    "full_dataframe['Album'].unique()\n",
    "#https://www.radiotimes.com/audio/taylor-swift-albums-in-order/"
   ]
  },
  {
   "cell_type": "markdown",
   "metadata": {},
   "source": [
    "Mapping the songs year of released based on when the album was released. We have a total of 10 albums represented–which is all of Taylor Swift's **Studio Albums**. As stated before we did not include her four re-recordings, any live albums, EPs, Compilations, and Box sets, which amount to an additional 38."
   ]
  },
  {
   "cell_type": "code",
   "execution_count": null,
   "metadata": {},
   "outputs": [],
   "source": [
    "matching_album_name_to_year = {\n",
    "    'taylor swift': 2006,\n",
    "    'fearless': 2008,\n",
    "    'speak now': 2010,\n",
    "    'red': 2012,\n",
    "    '1989': 2014,\n",
    "    'reputation': 2017,\n",
    "    'lover': 2019,\n",
    "    'folklore': 2020,\n",
    "    'evermore': 2020,\n",
    "    'midnights': 2022,\n",
    "}"
   ]
  },
  {
   "cell_type": "code",
   "execution_count": null,
   "metadata": {},
   "outputs": [],
   "source": [
    "full_dataframe['Year'] = full_dataframe['Album'].map(matching_album_name_to_year)"
   ]
  },
  {
   "cell_type": "code",
   "execution_count": null,
   "metadata": {},
   "outputs": [
    {
     "data": {
      "text/html": [
       "<div>\n",
       "<style scoped>\n",
       "    .dataframe tbody tr th:only-of-type {\n",
       "        vertical-align: middle;\n",
       "    }\n",
       "\n",
       "    .dataframe tbody tr th {\n",
       "        vertical-align: top;\n",
       "    }\n",
       "\n",
       "    .dataframe thead th {\n",
       "        text-align: right;\n",
       "    }\n",
       "</style>\n",
       "<table border=\"1\" class=\"dataframe\">\n",
       "  <thead>\n",
       "    <tr style=\"text-align: right;\">\n",
       "      <th></th>\n",
       "      <th>Album</th>\n",
       "      <th>Song Name</th>\n",
       "      <th>Lyrics</th>\n",
       "      <th>Danceability</th>\n",
       "      <th>Energy</th>\n",
       "      <th>Key</th>\n",
       "      <th>Loudness</th>\n",
       "      <th>Mode</th>\n",
       "      <th>Speechiness</th>\n",
       "      <th>Acousticness</th>\n",
       "      <th>Instrumentalness</th>\n",
       "      <th>Liveness</th>\n",
       "      <th>Valence</th>\n",
       "      <th>Tempo</th>\n",
       "      <th>Duration_ms</th>\n",
       "      <th>Time Signature</th>\n",
       "      <th>Lyrics Length</th>\n",
       "      <th>Year</th>\n",
       "    </tr>\n",
       "  </thead>\n",
       "  <tbody>\n",
       "    <tr>\n",
       "      <th>0</th>\n",
       "      <td>taylor swift</td>\n",
       "      <td>mary's song (oh my my my)</td>\n",
       "      <td>She said I was seven and you were nine I looke...</td>\n",
       "      <td>0.403</td>\n",
       "      <td>0.627</td>\n",
       "      <td>2.0</td>\n",
       "      <td>-5.280</td>\n",
       "      <td>1.0</td>\n",
       "      <td>0.0292</td>\n",
       "      <td>0.01770</td>\n",
       "      <td>0.0</td>\n",
       "      <td>0.182</td>\n",
       "      <td>0.374</td>\n",
       "      <td>74.900</td>\n",
       "      <td>213080.0</td>\n",
       "      <td>4.0</td>\n",
       "      <td>1602</td>\n",
       "      <td>2006</td>\n",
       "    </tr>\n",
       "    <tr>\n",
       "      <th>1</th>\n",
       "      <td>taylor swift</td>\n",
       "      <td>a perfectly good heart</td>\n",
       "      <td>Why would you wanna break A perfectly good hea...</td>\n",
       "      <td>0.483</td>\n",
       "      <td>0.751</td>\n",
       "      <td>4.0</td>\n",
       "      <td>-5.726</td>\n",
       "      <td>1.0</td>\n",
       "      <td>0.0365</td>\n",
       "      <td>0.00349</td>\n",
       "      <td>0.0</td>\n",
       "      <td>0.128</td>\n",
       "      <td>0.268</td>\n",
       "      <td>156.092</td>\n",
       "      <td>220147.0</td>\n",
       "      <td>4.0</td>\n",
       "      <td>1214</td>\n",
       "      <td>2006</td>\n",
       "    </tr>\n",
       "    <tr>\n",
       "      <th>2</th>\n",
       "      <td>taylor swift</td>\n",
       "      <td>tim mcgraw</td>\n",
       "      <td>He said the way my blue eyes shined Put those ...</td>\n",
       "      <td>0.580</td>\n",
       "      <td>0.491</td>\n",
       "      <td>0.0</td>\n",
       "      <td>-6.462</td>\n",
       "      <td>1.0</td>\n",
       "      <td>0.0251</td>\n",
       "      <td>0.57500</td>\n",
       "      <td>0.0</td>\n",
       "      <td>0.121</td>\n",
       "      <td>0.425</td>\n",
       "      <td>76.009</td>\n",
       "      <td>232107.0</td>\n",
       "      <td>4.0</td>\n",
       "      <td>1801</td>\n",
       "      <td>2006</td>\n",
       "    </tr>\n",
       "    <tr>\n",
       "      <th>3</th>\n",
       "      <td>taylor swift</td>\n",
       "      <td>cold as you</td>\n",
       "      <td>You have a way of coming easily to me And when...</td>\n",
       "      <td>0.418</td>\n",
       "      <td>0.482</td>\n",
       "      <td>5.0</td>\n",
       "      <td>-5.769</td>\n",
       "      <td>1.0</td>\n",
       "      <td>0.0266</td>\n",
       "      <td>0.21700</td>\n",
       "      <td>0.0</td>\n",
       "      <td>0.123</td>\n",
       "      <td>0.261</td>\n",
       "      <td>175.558</td>\n",
       "      <td>239013.0</td>\n",
       "      <td>4.0</td>\n",
       "      <td>1225</td>\n",
       "      <td>2006</td>\n",
       "    </tr>\n",
       "    <tr>\n",
       "      <th>4</th>\n",
       "      <td>taylor swift</td>\n",
       "      <td>the outside</td>\n",
       "      <td>I didn't know what I would find When I went lo...</td>\n",
       "      <td>0.589</td>\n",
       "      <td>0.805</td>\n",
       "      <td>5.0</td>\n",
       "      <td>-4.055</td>\n",
       "      <td>1.0</td>\n",
       "      <td>0.0293</td>\n",
       "      <td>0.00491</td>\n",
       "      <td>0.0</td>\n",
       "      <td>0.240</td>\n",
       "      <td>0.591</td>\n",
       "      <td>112.982</td>\n",
       "      <td>207107.0</td>\n",
       "      <td>4.0</td>\n",
       "      <td>1114</td>\n",
       "      <td>2006</td>\n",
       "    </tr>\n",
       "  </tbody>\n",
       "</table>\n",
       "</div>"
      ],
      "text/plain": [
       "          Album                  Song Name  \\\n",
       "0  taylor swift  mary's song (oh my my my)   \n",
       "1  taylor swift     a perfectly good heart   \n",
       "2  taylor swift                 tim mcgraw   \n",
       "3  taylor swift                cold as you   \n",
       "4  taylor swift                the outside   \n",
       "\n",
       "                                              Lyrics  Danceability  Energy  \\\n",
       "0  She said I was seven and you were nine I looke...         0.403   0.627   \n",
       "1  Why would you wanna break A perfectly good hea...         0.483   0.751   \n",
       "2  He said the way my blue eyes shined Put those ...         0.580   0.491   \n",
       "3  You have a way of coming easily to me And when...         0.418   0.482   \n",
       "4  I didn't know what I would find When I went lo...         0.589   0.805   \n",
       "\n",
       "   Key  Loudness  Mode  Speechiness  Acousticness  Instrumentalness  Liveness  \\\n",
       "0  2.0    -5.280   1.0       0.0292       0.01770               0.0     0.182   \n",
       "1  4.0    -5.726   1.0       0.0365       0.00349               0.0     0.128   \n",
       "2  0.0    -6.462   1.0       0.0251       0.57500               0.0     0.121   \n",
       "3  5.0    -5.769   1.0       0.0266       0.21700               0.0     0.123   \n",
       "4  5.0    -4.055   1.0       0.0293       0.00491               0.0     0.240   \n",
       "\n",
       "   Valence    Tempo  Duration_ms  Time Signature  Lyrics Length  Year  \n",
       "0    0.374   74.900     213080.0             4.0           1602  2006  \n",
       "1    0.268  156.092     220147.0             4.0           1214  2006  \n",
       "2    0.425   76.009     232107.0             4.0           1801  2006  \n",
       "3    0.261  175.558     239013.0             4.0           1225  2006  \n",
       "4    0.591  112.982     207107.0             4.0           1114  2006  "
      ]
     },
     "metadata": {},
     "output_type": "display_data"
    }
   ],
   "source": [
    "full_dataframe.head()"
   ]
  },
  {
   "cell_type": "code",
   "execution_count": null,
   "metadata": {},
   "outputs": [],
   "source": [
    "all_years = full_dataframe['Year'].values.tolist()"
   ]
  },
  {
   "cell_type": "markdown",
   "metadata": {},
   "source": [
    "#### Predicting using all the Data<a name = \"predicting_will_all_data\"></a>\n",
    "\n",
    "I trained my regressor on the scaled input feature matrix and the years based on the year the song/album was released. I then use the fitted regressor to predict new y values given the same input: scaled input feature matrix. While this does promote overfitting because of the dataset and the fact it is based on time this was why I wanted to run on the whole dataset.\n",
    "Below I showcase the predicted album dates as a function of the true album dates and include the line of best fit with the confidence region. I do want to point out the residual plot through random does display a bit of a pattern, which can point out as a concern, and after transforming using squared and differrent powers the residual plots do remain similar."
   ]
  },
  {
   "cell_type": "code",
   "execution_count": null,
   "metadata": {},
   "outputs": [
    {
     "data": {
      "image/png": "[encoded data removed]",
      "text/plain": [
       "<Figure size 640x480 with 1 Axes>"
      ]
     },
     "metadata": {},
     "output_type": "display_data"
    }
   ],
   "source": [
    "# code here\n",
    "reg = LinearRegression().fit(standardized_data, all_years)\n",
    "y_hat = reg.predict(standardized_data)\n",
    "\n",
    "# use https://seaborn.pydata.org/generated/seaborn.regplot.html\n",
    "x = sns.regplot(x=all_years , y = y_hat);\n",
    "x.set(xlabel = \"Album-Year-Labels\", ylabel = \"Y Predicted\", title = \"Actual Years vs Predicted Years\");"
   ]
  },
  {
   "cell_type": "markdown",
   "metadata": {},
   "source": [
    "The confidence region is relatively narrow, which is suggesting that the model is confident in its predictions. It is especially narrow in the 2015-ish region showcasing more confidence in that specific area of year. One noticable distress is the fact that there is quite a bit of scatter around the line of best fit suggesting that there is some noise in the data or the model is not able to perfectly capture all the factors that influence an album release date, in the future when there is more data available we could potentially look at Taylor Swift's mood, fashion, tour, etc. to predict the year better.\n",
    "\n",
    "Overall, the model is able to predict album release dates with some accuracy and good confidence, but there are rooms for improvement, below we will explore how utilizing tags and lemmatizers could potentially assist!"
   ]
  },
  {
   "cell_type": "code",
   "execution_count": null,
   "metadata": {},
   "outputs": [
    {
     "data": {
      "image/png": "[encoded data removed]",
      "text/plain": [
       "<Figure size 640x480 with 1 Axes>"
      ]
     },
     "metadata": {},
     "output_type": "display_data"
    }
   ],
   "source": [
    "sns.residplot(x = all_years, y = (all_years - y_hat));"
   ]
  },
  {
   "cell_type": "markdown",
   "metadata": {},
   "source": [
    "Some potential pattern, but mostly random so showcases that we could try transforming the data, but as I've tried with powers the model does not change dramatically."
   ]
  },
  {
   "cell_type": "code",
   "execution_count": null,
   "metadata": {},
   "outputs": [
    {
     "name": "stdout",
     "output_type": "stream",
     "text": [
      "Naive R^2: 0.17122171999312596\n",
      "Mean proper, non-overfitted, cross-validated R^2 (topics): -47.472\n"
     ]
    }
   ],
   "source": [
    "def compare_scores(feature_matrix, all_years):\n",
    "    # fit Linear Regression object\n",
    "    reg = LinearRegression().fit(feature_matrix, all_years)\n",
    "    print(\"Naive R^2:\", reg.score(feature_matrix, all_years))\n",
    "    r2 = np.mean(cross_val_score(reg, feature_matrix, all_years, scoring='r2'))\n",
    "    print(\"Mean proper, non-overfitted, cross-validated R^2 (topics):\", round(np.mean(cross_val_score(reg, feature_matrix, all_years, scoring='r2')),3))\n",
    "\n",
    "compare_scores(vectorizer.fit_transform(all_lyrics), all_years)"
   ]
  },
  {
   "cell_type": "markdown",
   "metadata": {},
   "source": [
    "The Naive $R^2$ measures the proportion of the variance in the dependent variable, the $\\hat{y}$ which is the predicted values, that is predictable from the independent variable, the features – Taylor Swift's lyrics. Thus our 0.1712 indicates that roughly 17.12% of the variance in the year the song is released is explained by the song lyrics. Another way to say this is that the model captures 17.12% of the variability in your data. Keep in mind this is a low $R^2$ value, suggesting that the model may not be explaining a significant portion of the variance."
   ]
  },
  {
   "cell_type": "markdown",
   "metadata": {},
   "source": [
    "As pointed out above we are fitting our model on all our data, aka all our data is training data and none are test data, thus we will be prone to overfitting. This is definitely reflected in our mean proper, non-overfitted, cross-validated $R^2$ (topics) that came out to be -47.472. The value of -47.472 suggests that, on average, my model is performing poorly when evaluated on different subsets of the data. This showcases that our model is not good for the data, which indicates that this model is not capturing the underlying patterns in the data and is probably overfitting."
   ]
  },
  {
   "cell_type": "markdown",
   "metadata": {},
   "source": [
    "#### Train Test Split Y years <a name = \"train_test_split\"></a>\n",
    "\n",
    "I trained my regressor on the scaled input feature matrix and the years based on the year the song/album was released. This time I did a train test split of 70/30 to see if we can have a better mean proper, non-overfitted, cross-validated $R^2$ that will avoid overfitting and have a higher $R^2$. I then use the fitted regressor to predict new y values given the same input: scaled input feature matrix. \n",
    "Below I showcase the predicted album dates as a function of the true album dates and include the line of best fit with the confidence region. I do want to point out the residual plot is random."
   ]
  },
  {
   "cell_type": "code",
   "execution_count": null,
   "metadata": {},
   "outputs": [],
   "source": [
    "X_train, X_test, y_train, y_test = train_test_split(all_lyrics, all_years, test_size=0.3, stratify = all_years, random_state=42)"
   ]
  },
  {
   "cell_type": "code",
   "execution_count": null,
   "metadata": {},
   "outputs": [
    {
     "data": {
      "image/png": "[encoded data removed]",
      "text/plain": [
       "<Figure size 640x480 with 1 Axes>"
      ]
     },
     "metadata": {},
     "output_type": "display_data"
    }
   ],
   "source": [
    "X_train_fitted = vectorizer.fit_transform(X_train)\n",
    "X_transform_test = vectorizer.transform(X_test)\n",
    "\n",
    "\n",
    "#X_test\n",
    "# code here\n",
    "reg = LinearRegression().fit(X_train_fitted, y_train)\n",
    "y_hat = reg.predict(X_transform_test)\n",
    "\n",
    "# use https://seaborn.pydata.org/generated/seaborn.regplot.html\n",
    "x = sns.regplot(x=y_test , y = y_hat);\n",
    "x.set(xlabel = \"Album-Year-Labels\", ylabel = \"Y Predicted\", title = \"Actual Years vs Predicted Years\");\n"
   ]
  },
  {
   "cell_type": "markdown",
   "metadata": {},
   "source": [
    "The confidence region is relatively wider, especially compared to the confidence interval above. There is more confidence in year 2013, which suggests that the model is more confident around this time period. Like when we ran on the entire dataset the model showcases a large bit of scatter around the line of best fit potentailly suggesting another model that could capture more factors to predict the year. We also want to recommend the same thing as above, which is in the future when there is more data available we could potentially look at Taylor Swift's mood, fashion, tour, etc. to predict the year better.\n",
    "\n",
    "Overall, the model is able to predict album release dates with some accuracy and okay confidence, but there are rooms for improvement, below we will explore how utilizing tags and lemmatizers could potentially assist!"
   ]
  },
  {
   "cell_type": "code",
   "execution_count": null,
   "metadata": {},
   "outputs": [
    {
     "data": {
      "image/png": "[encoded data removed]",
      "text/plain": [
       "<Figure size 640x480 with 1 Axes>"
      ]
     },
     "metadata": {},
     "output_type": "display_data"
    }
   ],
   "source": [
    "sns.residplot(x = y_test, y = (y_test - y_hat));"
   ]
  },
  {
   "cell_type": "markdown",
   "metadata": {},
   "source": [
    "#### Lemmas <a name = \"lemmas\"></a>"
   ]
  },
  {
   "cell_type": "markdown",
   "metadata": {},
   "source": [
    "This function, `lemmatizer`, takes a lyric of each song in the Taylor Swift album and a spaCy NLP object (the en_core_web_sm - small version of the spaCy NLP object) as input. It processes the document with spaCy, iterates through the tokens, and appends the lemmatized form of each non-punctuation and non-whitespace token to a list. The result is a list of lemmatized tokens.\n",
    "\n",
    "Using the resulting lemmatized tokens we scale the resulting features. And then using compare_scores function we fit a linear regressor on the scaled lemma features and report both the \"naïve\" and the cross-validated scores.\n",
    "\n",
    "**Hypothesis**: Whether lemmatized tokens and utilizing en_core_web_sm could model our Taylor Swift Lyrics to year of song release better."
   ]
  },
  {
   "cell_type": "markdown",
   "metadata": {},
   "source": [
    "The benefits of using lemmatization include improved text analysis, potential increase of accuracy in the model, reduction of data sparsity, improved understanding of the text and standardization of the text data. \n",
    "Lemmatization reduces words to their base form helping the model identify similarities and relationships between the words. Though our dataset is 133 rows (133 songs) lemmatization can potentially help simplify the vocabulary and remove unnecessary variations–though personally I think our analysis in BERT later highlights how Taylor Swift's songs are very similar and thus lemmatization may have little benefit in this aspect as it would normally have. By reducing data sparsity Lemmatization can help the model learn effective representation of the text. Lemmatization brings all words to a common form ensuring all words are represented consistently, potentially aiding our model."
   ]
  },
  {
   "cell_type": "markdown",
   "metadata": {},
   "source": [
    "Here we utilize en_core_web_sm only because while it is a relatively small model compared to other spaCy models like en_core_web_md and en_core_web_lg it is ideal for its quickness, good accuracy, general domain training, size, and especially since we are utilizing a relatively small dataset. I also tried utilizing en_core_web_lg and it does not produce largely different results."
   ]
  },
  {
   "cell_type": "code",
   "execution_count": null,
   "metadata": {},
   "outputs": [],
   "source": [
    "# code here\n",
    "# Load spaCy model\n",
    "nlp = spacy.load('en_core_web_sm')\n",
    "\n",
    "def lemmatizer(doc, nlp = nlp):\n",
    "    \n",
    "    tokenize_values = []\n",
    "    \n",
    "    doc = nlp(doc)\n",
    "    \n",
    "    for token in doc:\n",
    "        # remove punctuation and any \"pure\" whitespace tokens\n",
    "        if not token.is_punct and not token.is_space:\n",
    "            tokenize_values.append(token.lemma_)\n",
    "    return tokenize_values"
   ]
  },
  {
   "cell_type": "code",
   "execution_count": null,
   "metadata": {},
   "outputs": [],
   "source": [
    "vectorizer_add_lemmatizer = TfidfVectorizer(token_pattern = None, min_df = 2, use_idf = True, max_features = 12, tokenizer = lemmatizer)"
   ]
  },
  {
   "cell_type": "markdown",
   "metadata": {},
   "source": [
    "The resulting feature matrix (X_lemma) is then standardized using the StandardScaler. "
   ]
  },
  {
   "cell_type": "code",
   "execution_count": null,
   "metadata": {},
   "outputs": [
    {
     "name": "stdout",
     "output_type": "stream",
     "text": [
      "Naive R^2: 0.2763729432896679\n",
      "Mean proper, non-overfitted, cross-validated R^2 (topics): -53.587\n"
     ]
    }
   ],
   "source": [
    "X_lemma = vectorizer_add_lemmatizer.fit_transform(all_lyrics)\n",
    "\n",
    "standardized_data_lemma = StandardScaler().fit_transform(X_lemma.toarray())\n",
    "\n",
    "compare_scores(standardized_data_lemma, all_years)"
   ]
  },
  {
   "cell_type": "markdown",
   "metadata": {},
   "source": [
    "The Naive $R^2$ measures the proportion of the variance in the dependent variable, the $\\hat{y}$ which is the predicted values, that is predictable from the independent variable, the features – Taylor Swift's lyrics. Thus our 0.2763 indicates that roughly 27.63% of the variance in the year the song is released is explained by the song lyrics. Another way to say this is that the model captures 27.63% of the variability in your data. Keep in mind this is a low $R^2$ value, suggesting that the model may not be explaining a significant portion of the variance. This is significantly better than our linear regression!"
   ]
  },
  {
   "cell_type": "markdown",
   "metadata": {},
   "source": [
    "As pointed out above we are fitting our model on all our data, aka all our data is training data and none are test data, thus we will be prone to overfitting. This is definitely reflected in our mean proper, non-overfitted, cross-validated $R^2$ (topics) that came out to be -53.587. The value of -53.587 suggests that, on average, my model is performing poorly when evaluated on different subsets of the data. This showcases that our model is not good for the data, which indicates that this model is not capturing the underlying patterns in the data and is probably overfitting."
   ]
  },
  {
   "cell_type": "markdown",
   "metadata": {},
   "source": [
    "##### Entities and POS tags\n",
    "\n",
    "To discover more about the text–Taylor Swift song lyrics–we utilize spaCy a free open-source library for advanced Natural Language Processing in Python. spaCy is used to build information extraction systems, which below I utilize its Part-of-speech (PS) Tagging which assigns word types to tokens. I specifically utilize adjectives, pronouns, prepositions, conjuctions, adverbs, nouns, numbers, etc. I also use Named Entities which is a \"real-world object\" that is assigned a name and spaCy can recognize these various types of named entities in a document. The named entities that I use are Person, Money, and Time. I specially chose these for Taylor Swift's lyrics as looking through all her albums she has mentions of all these tags. For example in `The Lucky One`, `Blank Space`, and `Anti-Hero` she explains how money has changed or caused people to take an action, in 139 songs Taylor Swift mentions `he`, for example, in `Begin Again` she sings 'He didn't like it when I wore high heels' and in `Better Man` she has many mentions of `he` and `they` not believing in her. Her song `22` is an ode to her turning 22 and has many mentions of `time` and many of her songs mention how time is fleeting or when someone calls. \n",
    "\n",
    "I also calculate and showcase the naïve and a cross-validated $R^2$ value for the linear regression prediction of date of the song release from these features.\n",
    "\n",
    "**Hypothesis**: In an effort to compare whether specific tagging techniques could assist in the creation of a model and if it could produce better results then pushing all the song lyrics of the song in."
   ]
  },
  {
   "cell_type": "code",
   "execution_count": null,
   "metadata": {},
   "outputs": [
    {
     "name": "stdout",
     "output_type": "stream",
     "text": [
      "Shape of the matrix: (133, 13)\n"
     ]
    }
   ],
   "source": [
    "valid_ent = ['PERSON', 'MONEY', 'TIME']\n",
    "valid_pos = ['ADJ', 'ADV', 'AUX', 'CCONJ', 'DET', 'NOUN', 'PRON', 'PROPN', 'VERB', 'NUM']\n",
    "\n",
    "# Load spaCy model\n",
    "nlp = spacy.load('en_core_web_sm')\n",
    "    \n",
    "tokenize_values = []\n",
    "    \n",
    "value = 0\n",
    "input_array = [0, 0, 0, 0, 0, 0, 0, 0, 0, 0, 0, 0, 0]\n",
    "for doc in all_lyrics:\n",
    "    dictionary_saved = {'PERSON': 0, 'MONEY': 0, 'TIME': 0, 'ADJ': 0, 'ADV': 0, 'AUX': 0, 'CCONJ': 0, 'DET': 0, 'NOUN': 0, \n",
    "                   'PRON': 0, 'PROPN': 0, 'VERB': 0, 'NUM':0}\n",
    "    doc = nlp(doc)\n",
    "    # Entities\n",
    "    for ent in doc.ents:\n",
    "        if(ent.label_ in valid_ent):\n",
    "            value = value + 1\n",
    "            dictionary_saved[ent.label_] = dictionary_saved.get(ent.label_) + 1\n",
    "    for token in doc:\n",
    "        if(token.pos_ in valid_pos):\n",
    "            value = value + 1\n",
    "            dictionary_saved[token.pos_] = dictionary_saved.get(token.pos_) + 1\n",
    "    new_row = []\n",
    "    for i in dictionary_saved.values():\n",
    "        new_row.append(i)\n",
    "        \n",
    "    input_array=np.vstack([input_array, new_row])\n",
    "input_array = np.delete(input_array, 0, 0)\n",
    "print(\"Shape of the matrix:\", input_array.shape)\n",
    "\n",
    "standardized_count_of_feature_matrix = StandardScaler().fit_transform(input_array)"
   ]
  },
  {
   "cell_type": "markdown",
   "metadata": {},
   "source": [
    "Because we use 13 different tags and have 133 songs we produce a matrix of 133 by 13."
   ]
  },
  {
   "cell_type": "code",
   "execution_count": null,
   "metadata": {},
   "outputs": [
    {
     "name": "stdout",
     "output_type": "stream",
     "text": [
      "Naive R^2: 0.2476167107293834\n",
      "Mean proper, non-overfitted, cross-validated R^2 (topics): -52.3\n"
     ]
    }
   ],
   "source": [
    "compare_scores(standardized_count_of_feature_matrix, all_years)"
   ]
  },
  {
   "cell_type": "markdown",
   "metadata": {},
   "source": [
    "The Naive $R^2$ measures the proportion of the variance in the dependent variable, the $\\hat{y}$ which is the predicted values, that is predictable from the independent variable, the features – thirteen tags from Taylor Swift's lyrics. Thus our 0.2476 indicates that roughly 24.76% of the variance in the year the song is released is explained by the thirteen tags. Another way to say this is that the model captures 24.76% of the variability in your data. Keep in mind this is a low $R^2$ value, suggesting that the model may not be explaining a significant portion of the variance.\n",
    "\n",
    "As pointed out above we are fitting our model on all our data, aka all our data is training data and none are test data, thus we will be prone to overfitting. This is definitely reflected in our mean proper, non-overfitted, cross-validated $R^2$ (topics) that came out to be -52.3. The value of -52.3 suggests that, on average, my model is performing poorly when evaluated on different subsets of the data. This showcases that our model is not good for the data, which indicates that this model is not capturing the underlying patterns in the data and is probably overfitting."
   ]
  },
  {
   "cell_type": "code",
   "execution_count": null,
   "metadata": {},
   "outputs": [
    {
     "name": "stdout",
     "output_type": "stream",
     "text": [
      "Shape of resulting combined matrix: (133, 25)\n",
      "Naive R^2: 0.39205423370877446\n",
      "Mean proper, non-overfitted, cross-validated R^2 (topics): -51.864\n"
     ]
    }
   ],
   "source": [
    "# code here\n",
    "combined_scaled_lemma_and_scaled_entity = np.concatenate((standardized_data_lemma, standardized_count_of_feature_matrix), axis=1)\n",
    "print(\"Shape of resulting combined matrix:\", combined_scaled_lemma_and_scaled_entity.shape)\n",
    "compare_scores(combined_scaled_lemma_and_scaled_entity, all_years)"
   ]
  },
  {
   "cell_type": "markdown",
   "metadata": {},
   "source": [
    "The Naive $R^2$ measures the proportion of the variance in the dependent variable, the $\\hat{y}$ which is the predicted values, that is predictable from the independent variable, the features – thirteen tags from Taylor Swift's lyrics. Thus our 0.3920 indicates that roughly 39.20% of the variance in the year the song is released is explained by the thirteen tags. Another way to say this is that the model captures 39.20% of the variability in your data. Keep in mind this is a low $R^2$ value, suggesting that the model may not be explaining a significant portion of the variance. But it is definitely an improvement from our earlier lemmatozatopm that did not include standardized_data_lemma and a much larger improvement from linear regression.\n",
    "\n",
    "As pointed out above we are fitting our model on all our data, aka all our data is training data and none are test data, thus we will be prone to overfitting. This is definitely reflected in our mean proper, non-overfitted, cross-validated $R^2$ (topics) that came out to be -51.864. The value of -51.864 suggests that, on average, my model is performing poorly when evaluated on different subsets of the data. This showcases that our model is not good for the data, which indicates that this model is not capturing the underlying patterns in the data and is probably overfitting."
   ]
  },
  {
   "cell_type": "code",
   "execution_count": null,
   "metadata": {},
   "outputs": [],
   "source": [
    "full_set_of_features = StandardScaler(with_mean = False).fit_transform(X_lemma.toarray())"
   ]
  },
  {
   "cell_type": "code",
   "execution_count": null,
   "metadata": {},
   "outputs": [
    {
     "name": "stdout",
     "output_type": "stream",
     "text": [
      "Shape of the resulting feature matrix: (133, 10)\n",
      "Naive R^2: 0.24710137264569887\n",
      "Mean proper, non-overfitted, cross-validated R^2 (topics): -55.563\n"
     ]
    }
   ],
   "source": [
    "all_years_labels_array = np.array(all_years)\n",
    "\n",
    "# selected the 10 most informative features\n",
    "selector = SelectKBest(mutual_info_regression, k=10)\n",
    "best_twenty_features_selected = selector.fit_transform(full_set_of_features, y = all_years_labels_array)\n",
    "print(\"Shape of the resulting feature matrix:\", best_twenty_features_selected.shape)\n",
    "\n",
    "# compare_scores for the selected features\n",
    "compare_scores(best_twenty_features_selected, all_years_labels_array)"
   ]
  },
  {
   "cell_type": "markdown",
   "metadata": {},
   "source": [
    "Utilizing KBest to select the top ten most informative features and see whether this will improve or the r-squared will increase. As we see there is virtually no change in our mean proper, non-overfitted, cross-validated $R^2$ as it improves slightly. And the naive $R^2$ lowers."
   ]
  },
  {
   "cell_type": "markdown",
   "metadata": {},
   "source": [
    "#### Testing if the song is High Energy or Not <a name = \"high_energy\"></a>\n",
    "- Danceability: \"how suitable a track is for dancing based on a combination of musical elements including temp, rhthm stability, beat strength, and overall regularity. A value of 0.0 is least danceable and 1.0 is most danceable\"\n",
    "- Energy: perceptual measure of intensity and activity. Energetic tracks are fast, loud, and noisy.\n",
    "- Instrumentalness: track contains no vocals - \"ohh\" and \"ahh\" sounds are treated as instrumental in this context and rap or spoken word tracks are clearly \"vocal.\" The close instrumentalness is to 1 greater likelihood track contains no vocal content.\n",
    "- Key: key the track is in. (0 = C, 1 = C#/Db, 2 = D...) **removed**\n",
    "- Liveness: presence of an auddience in the recording. Higher represents if the track is live.\n",
    "- Loudness: overall loudness of a track. Quality of sound that is the primary psychological correlate of physical strength (amplitude)\n",
    "- Mode: modality (major or minor) of a track.\n",
    "- Speechiness: presense of spoken words in track. More exclusively speech-like the recording the close to 1. **removed**\n",
    "- Tempo: Overall tempo of a track in beats per minute.\n",
    "- Valence: 0.0 to 1.0 musical positiveness conveyed by a track.\n",
    "\n",
    "I felt that key and speechiness provided no benefits as the key was not a portion that affected the music's high_energy and was hard to sum up as the attributing key was not moved to different levels. I also avoided speechiness as all were lyrical songs and not spoken audio books or spoech-like. I did keep mode as I thought it was better in suggesting keys as it distinguished between major and minors, which there has been some research that major are used in popular music and the two catchiest keys - C major and G major - are both majors.\n",
    "\n",
    "In an effort to understand if we could use Logistic Regression and take in song lyrics to predict whether the song is high energy based on the remaining features listed above. To ensure equal stance in all the features I made the range for all features be 0 to 1."
   ]
  },
  {
   "cell_type": "code",
   "execution_count": null,
   "metadata": {},
   "outputs": [
    {
     "data": {
      "text/plain": [
       "Index(['Album', 'Song Name', 'Lyrics', 'Danceability', 'Energy', 'Key',\n",
       "       'Loudness', 'Mode', 'Speechiness', 'Acousticness', 'Instrumentalness',\n",
       "       'Liveness', 'Valence', 'Tempo', 'Duration_ms', 'Time Signature',\n",
       "       'Lyrics Length', 'Year'],\n",
       "      dtype='object')"
      ]
     },
     "metadata": {},
     "output_type": "display_data"
    }
   ],
   "source": [
    "full_dataframe.columns"
   ]
  },
  {
   "cell_type": "code",
   "execution_count": null,
   "metadata": {},
   "outputs": [],
   "source": [
    "array = ['Danceability', 'Energy', 'Loudness', 'Speechiness', 'Acousticness', 'Instrumentalness','Liveness', 'Valence', 'Tempo']\n",
    "copy = full_dataframe.copy()\n",
    "for i in range(0, len(array)):\n",
    "    copy[array[i]] = (full_dataframe[array[i]] - full_dataframe[array[i]].min()) / (full_dataframe[array[i]].max() - full_dataframe[array[i]].min())\n",
    "    #copy[array[i]] = (full_dataframe[array[i]] - mean)/std"
   ]
  },
  {
   "cell_type": "code",
   "execution_count": null,
   "metadata": {},
   "outputs": [
    {
     "data": {
      "text/plain": [
       "count    133.000000\n",
       "mean       3.082593\n",
       "std        0.577975\n",
       "min        1.526140\n",
       "25%        2.709367\n",
       "50%        3.084977\n",
       "75%        3.515469\n",
       "max        4.814709\n",
       "dtype: float64"
      ]
     },
     "metadata": {},
     "output_type": "display_data"
    }
   ],
   "source": [
    "x_values = copy[['Danceability', 'Energy',\n",
    "       'Loudness', 'Speechiness', 'Acousticness', 'Instrumentalness',\n",
    "       'Liveness', 'Valence', 'Tempo']].sum(axis = 1)\n",
    "x_values.describe()"
   ]
  },
  {
   "cell_type": "code",
   "execution_count": null,
   "metadata": {},
   "outputs": [
    {
     "data": {
      "text/plain": [
       "count    133.000000\n",
       "mean       0.473292\n",
       "std        0.175753\n",
       "min        0.000000\n",
       "25%        0.359800\n",
       "50%        0.474017\n",
       "75%        0.604922\n",
       "max        1.000000\n",
       "dtype: float64"
      ]
     },
     "metadata": {},
     "output_type": "display_data"
    }
   ],
   "source": [
    "x_values = (x_values - x_values.min()) / (x_values.max() - x_values.min())\n",
    "x_values.describe()"
   ]
  },
  {
   "cell_type": "code",
   "execution_count": null,
   "metadata": {},
   "outputs": [
    {
     "data": {
      "image/png": "[encoded data removed]",
      "text/plain": [
       "<Figure size 640x480 with 1 Axes>"
      ]
     },
     "metadata": {},
     "output_type": "display_data"
    }
   ],
   "source": [
    "plt.boxplot(x_values)\n",
    " \n",
    "# show plot\n",
    "plt.show()"
   ]
  },
  {
   "cell_type": "code",
   "execution_count": null,
   "metadata": {},
   "outputs": [
    {
     "data": {
      "text/html": [
       "<div>\n",
       "<style scoped>\n",
       "    .dataframe tbody tr th:only-of-type {\n",
       "        vertical-align: middle;\n",
       "    }\n",
       "\n",
       "    .dataframe tbody tr th {\n",
       "        vertical-align: top;\n",
       "    }\n",
       "\n",
       "    .dataframe thead th {\n",
       "        text-align: right;\n",
       "    }\n",
       "</style>\n",
       "<table border=\"1\" class=\"dataframe\">\n",
       "  <thead>\n",
       "    <tr style=\"text-align: right;\">\n",
       "      <th></th>\n",
       "      <th>Lyrics</th>\n",
       "      <th>Score</th>\n",
       "    </tr>\n",
       "  </thead>\n",
       "  <tbody>\n",
       "    <tr>\n",
       "      <th>0</th>\n",
       "      <td>She said I was seven and you were nine I looke...</td>\n",
       "      <td>0.239158</td>\n",
       "    </tr>\n",
       "    <tr>\n",
       "      <th>1</th>\n",
       "      <td>Why would you wanna break A perfectly good hea...</td>\n",
       "      <td>0.426517</td>\n",
       "    </tr>\n",
       "    <tr>\n",
       "      <th>2</th>\n",
       "      <td>He said the way my blue eyes shined Put those ...</td>\n",
       "      <td>0.400266</td>\n",
       "    </tr>\n",
       "    <tr>\n",
       "      <th>3</th>\n",
       "      <td>You have a way of coming easily to me And when...</td>\n",
       "      <td>0.388893</td>\n",
       "    </tr>\n",
       "    <tr>\n",
       "      <th>4</th>\n",
       "      <td>I didn't know what I would find When I went lo...</td>\n",
       "      <td>0.622384</td>\n",
       "    </tr>\n",
       "  </tbody>\n",
       "</table>\n",
       "</div>"
      ],
      "text/plain": [
       "                                              Lyrics     Score\n",
       "0  She said I was seven and you were nine I looke...  0.239158\n",
       "1  Why would you wanna break A perfectly good hea...  0.426517\n",
       "2  He said the way my blue eyes shined Put those ...  0.400266\n",
       "3  You have a way of coming easily to me And when...  0.388893\n",
       "4  I didn't know what I would find When I went lo...  0.622384"
      ]
     },
     "metadata": {},
     "output_type": "display_data"
    }
   ],
   "source": [
    "new_value = {'Lyrics': full_dataframe['Lyrics'], 'Score': x_values}\n",
    "combined_dataframes = pd.DataFrame(data=new_value)\n",
    "combined_dataframes.head()"
   ]
  },
  {
   "cell_type": "code",
   "execution_count": null,
   "metadata": {},
   "outputs": [
    {
     "name": "stdout",
     "output_type": "stream",
     "text": [
      "            Score\n",
      "count  133.000000\n",
      "mean     0.473292\n",
      "std      0.175753\n",
      "min      0.000000\n",
      "25%      0.359800\n",
      "50%      0.474017\n",
      "75%      0.604922\n",
      "max      1.000000\n"
     ]
    }
   ],
   "source": [
    "retained_sample = combined_dataframes.sample(frac = 1, replace = False, random_state = 40)\n",
    "print(retained_sample.describe())"
   ]
  },
  {
   "cell_type": "markdown",
   "metadata": {},
   "source": [
    "Created scores from 0 to 1 and made sure that no variable would be skewing the measurement, which is why each measurement was given a score between 0 and 1."
   ]
  },
  {
   "cell_type": "code",
   "execution_count": null,
   "metadata": {},
   "outputs": [
    {
     "name": "stdout",
     "output_type": "stream",
     "text": [
      "Length of the vector: 133\n",
      "Fraction of albums in the dataset that scored above the mean: 0.5037593984962406\n"
     ]
    }
   ],
   "source": [
    "mean_val = retained_sample['Score'].mean()\n",
    "retained_sample['score_label'] =retained_sample['Score'].apply(lambda x: 1 if x > mean_val else 0)\n",
    "print(\"Length of the vector:\", len(retained_sample['score_label']))\n",
    "\n",
    "print(\"Fraction of albums in the dataset that scored above the mean:\", retained_sample['score_label'].mean())"
   ]
  },
  {
   "cell_type": "code",
   "execution_count": null,
   "metadata": {},
   "outputs": [
    {
     "name": "stdout",
     "output_type": "stream",
     "text": [
      "Feature matrix shape: (133, 1461)\n"
     ]
    }
   ],
   "source": [
    "vectorizer = TfidfVectorizer(min_df = 0.01, max_df = 0.9, use_idf = True)\n",
    "resulting_review_texts = vectorizer.fit_transform(retained_sample['Lyrics'])\n",
    "print(\"Feature matrix shape:\", resulting_review_texts.shape)\n",
    "standardized_data_review_texts = StandardScaler(with_mean = False, with_std = False).fit_transform(resulting_review_texts.toarray())\n",
    "selector = SelectKBest(mutual_info_classif, k=30)\n",
    "best_thirty_features_selected = selector.fit_transform(standardized_data_review_texts, y = retained_sample['score_label'])"
   ]
  },
  {
   "cell_type": "code",
   "execution_count": null,
   "metadata": {},
   "outputs": [
    {
     "name": "stdout",
     "output_type": "stream",
     "text": [
      "Model performance using topics as features: 0.535\n"
     ]
    }
   ],
   "source": [
    "clf = LogisticRegression()\n",
    "performance_topics = cross_val_score(clf, best_thirty_features_selected, retained_sample['score_label'], cv = 10, scoring='accuracy')\n",
    "print(f\"Model performance using topics as features: {np.mean(performance_topics):5.3f}\")"
   ]
  },
  {
   "cell_type": "markdown",
   "metadata": {},
   "source": [
    "Testing intially with the default Logistic Regression and looking at the accuracy we see the model is doing a bit better than random at around 0.565. When we utilize the best 300 features the model performs at an astounding 0.7 which lowers interpretability and we thought against using that as the dataset is so small."
   ]
  },
  {
   "cell_type": "code",
   "execution_count": null,
   "metadata": {},
   "outputs": [],
   "source": [
    "nlp_lg = spacy.load('en_core_web_sm')\n",
    "# code here\n",
    "def get_doc_embedding(text_string, spacy_nlp = spacy.load('en_core_web_sm')):\n",
    "    \n",
    "    text_string_nlped = spacy_nlp(text_string)\n",
    "    \n",
    "    tokenize_values = []\n",
    "    \n",
    "    for token in text_string_nlped:\n",
    "        if not token.is_punct and not token.is_space and not token.is_stop and token.has_vector:\n",
    "            tokenize_values.append(token.vector)\n",
    "    #standardized_data_review_texts = StandardScaler().fit_transform(np.array(tokenize_values))\n",
    "    return sum(tokenize_values)/len(tokenize_values) #word embedding vector - average of vectors of non-stopword tokens in input text\n"
   ]
  },
  {
   "cell_type": "code",
   "execution_count": null,
   "metadata": {},
   "outputs": [
    {
     "name": "stdout",
     "output_type": "stream",
     "text": [
      "Shape of feature matrix: (133, 96)\n"
     ]
    }
   ],
   "source": [
    "values_passed_in_new = []\n",
    "for item in retained_sample['Lyrics']:\n",
    "    values_passed_in_new.append(get_doc_embedding(text_string = item, spacy_nlp = nlp_lg))\n",
    "values_passed_in_new = np.array(values_passed_in_new)\n",
    "print(\"Shape of feature matrix:\", values_passed_in_new.shape)"
   ]
  },
  {
   "cell_type": "markdown",
   "metadata": {},
   "source": [
    "Utilized a Logistic Regression with a max_iteration limit of 500 for binary classification. And for better accuracy I utilized a cross validation of 10 and took the mean of the performance of the model. Because of the small dataset I used all the data as the training data and thus the results and reproducible."
   ]
  },
  {
   "cell_type": "code",
   "execution_count": null,
   "metadata": {},
   "outputs": [
    {
     "name": "stdout",
     "output_type": "stream",
     "text": [
      "Model performance using topics as features: 0.555\n"
     ]
    }
   ],
   "source": [
    "clf = LogisticRegression(max_iter = 500)\n",
    "performance_topics = cross_val_score(clf, values_passed_in_new, retained_sample['score_label'], cv = 10)\n",
    "print(f\"Model performance using topics as features: {np.mean(performance_topics):5.3f}\")"
   ]
  },
  {
   "cell_type": "markdown",
   "metadata": {},
   "source": [
    "The results use document embeddings from spaCy tokens and running on LogisticRegression. it showcases moderate power for predicting sentiment labels as it has 0.555 model performance."
   ]
  },
  {
   "cell_type": "code",
   "execution_count": null,
   "metadata": {},
   "outputs": [
    {
     "name": "stdout",
     "output_type": "stream",
     "text": [
      "{'C': 10, 'degree': 1, 'gamma': 'scale', 'max_iter': 500}\n",
      "0.5538461538461539\n"
     ]
    }
   ],
   "source": [
    "resulting_review_texts = vectorizer.fit_transform(retained_sample['Lyrics'])\n",
    "standardized_data_review_texts = StandardScaler(with_mean = False, with_std = False).fit_transform(resulting_review_texts.toarray())\n",
    "\n",
    "params = {\n",
    "    'C': [0.1, 1, 10, 50, 100, 1000],\n",
    "    'max_iter': [500, 1000], # not part of the search, but set a classifier parameter\n",
    "    'degree': [1, 2],\n",
    "    'gamma': ['scale', 'auto']\n",
    "}\n",
    "svc = svm.SVC()\n",
    "\n",
    "gs_cv = GridSearchCV(svc, param_grid = params, cv = 10)\n",
    "\n",
    "gs_cv.fit(standardized_data_review_texts, retained_sample['score_label'])\n",
    "print(gs_cv.best_params_)\n",
    "print(gs_cv.best_score_)    "
   ]
  },
  {
   "cell_type": "markdown",
   "metadata": {},
   "source": [
    "Using Support Vector Classifier which is a supervised learning technique for classification–I wanted to compare it to the results of Logistic Regression, which in this case ultimately seemed to produce a better model–finds optimal hyperplanes through different classes of data point in high-dimensional space. I thought it would do extremely well here as it is good at performing on small datasets and will not suffer from the curse of dimensionality bbecause of the limited dimensions in this dataset. It is also really good at handling outliers and noise in the data and effective for binary classification tasks like this one.\n",
    "\n",
    "Evaluating utilizing Grid Search I tried various different combinations of parameters from changing the regularization parameter that controls the trade-off between model complexity and error with a range of values including 0.1, 1, 10, 50, 100, and 1000 to changing the max_iter, the maximum number of iterations for the SVM solver trying values like 500 and 1000, I also changed the degree of the polynomial kernel to test 1 and 2, and finall changing gamma to see if changing the default could potetnially produce better results. In the end the best parameter combbination created a scorre of 0.5538 which is the cross-validation core after 10 cross validations."
   ]
  },
  {
   "cell_type": "markdown",
   "metadata": {},
   "source": [
    "### Method 3. BERT Classification"
   ]
  },
  {
   "cell_type": "markdown",
   "metadata": {},
   "source": [
    "### Method 4. Topic Modeling"
   ]
  },
  {
   "cell_type": "markdown",
   "metadata": {},
   "source": [
    "## 4. Discussion and conclusions"
   ]
  },
  {
   "cell_type": "code",
   "execution_count": null,
   "metadata": {},
   "outputs": [],
   "source": []
  }
 ],
 "metadata": {
  "kernelspec": {
   "display_name": "Python 3 (ipykernel)",
   "language": "python",
   "name": "python3"
  },
  "language_info": {
   "codemirror_mode": {
    "name": "ipython",
    "version": 3
   },
   "file_extension": ".py",
   "mimetype": "text/x-python",
   "name": "python",
   "nbconvert_exporter": "python",
   "pygments_lexer": "ipython3",
   "version": "3.10.12"
  }
 },
 "nbformat": 4,
 "nbformat_minor": 4
}

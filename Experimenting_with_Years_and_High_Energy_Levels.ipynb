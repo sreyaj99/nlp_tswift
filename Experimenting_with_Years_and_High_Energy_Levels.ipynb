{
 "cells": [
  {
   "cell_type": "markdown",
   "id": "1736ea12-7cde-4978-9b91-01d587bd26e0",
   "metadata": {
    "tags": []
   },
   "source": [
    "# Final project guidelines\n",
    "\n",
    "**Note:** Use these guidelines if and only if you are pursuing a **final project of your own design**. For those taking the final exam instead of the project, see the (separate) final exam notebook.\n",
    "\n",
    "## Guidelines\n",
    "\n",
    "These guidelines are intended for **undergraduates enrolled in INFO 3350**. If you are a graduate student enrolled in INFO 6350, you're welcome to consult the information below, but you have wider latitude to design and develop your project in line with your research goals.\n",
    "\n",
    "### The task\n",
    "\n",
    "Your task is to: identify an interesting problem connected to the humanities or humanistic social sciences that's addressable with the help of computational methods, formulate a hypothesis about it, devise an experiment or experiments to test your hypothesis, present the results of your investigations, and discuss your findings.\n",
    "\n",
    "These tasks essentially replicate the process of writing an academic paper. You can think of your project as a paper in miniature.\n",
    "\n",
    "You are free to present each of these tasks as you see fit. You should use narrative text (that is, your own writing in a markdown cell), citations of others' work, numerical results, tables of data, and static and/or interactive visualizations as appropriate. Total length is flexible and depends on the number of people involved in the work, as well as the specific balance you strike between the ambition of your question and the sophistication of your methods. But be aware that numbers never, ever speak for themselves. Quantitative results presented without substantial discussion will not earn high marks. \n",
    "\n",
    "Your project should reflect, at minimum, ten **or more** hours of work by each participant, though you will be graded on the quality of your work, not the amount of time it took you to produce it. Most high-quality projects represent twenty or more hours of work by each member.\n",
    "\n",
    "#### Pick an important and interesting problem!\n",
    "\n",
    "No amount of technical sophistication will overcome a fundamentally uninteresting problem at the core of your work. You have seen many pieces of successful computational humanities research over the course of the semester. You might use these as a guide to the kinds of problems that interest scholars in a range of humanities disciplines. You may also want to spend some time in the library, reading recent books and articles in the professional literature. **Problem selection and motivation are integral parts of the project.** Do not neglect them.\n",
    "\n",
    "### Format\n",
    "\n",
    "You should submit your project as a Jupyter notebook, along with all data necessary to reproduce your analysis. If your dataset is too large to share easily, let us know in advance so that we can find a workaround. If you have a reason to prefer a presentation format other than a notebook, likewise let us know so that we can discuss the options.\n",
    "\n",
    "Your report should have four basic sections (provided in cells below for ease of reference):\n",
    "\n",
    "1. **Introduction and hypothesis.** What problem are you working on? Why is it interesting and important? What have other people said about it? What do you expect to find?\n",
    "2. **Corpus, data, and methods.** What data have you used? Where did it come from? How did you collect it? What are its limitations or omissions? What major methods will you use to analyze it? Why are those methods the appropriate ones?\n",
    "3. **Results.** What did you find? How did you find it? How should we read your figures? Be sure to include confidence intervals or other measures of statistical significance or uncetainty where appropriate.\n",
    "4. **Discussion and conclusions.** What does it all mean? Do your results support your hypothesis? Why or why not? What are the limitations of your study and how might those limitations be addressed in future work?\n",
    "\n",
    "Within each of those sections, you may use as many code and markdown cells as you like. You may, of course, address additional questions or issues not listed above.\n",
    "\n",
    "All code used in the project should be present in the notebook (except for widely-available libraries that you import), but **be sure that we can read and understand your report in full without rerunning the code**. Be sure, too, to explain what you're doing along the way, both by describing your data and methods and by writing clean, well commented code.\n",
    "\n",
    "### Grading\n",
    "\n",
    "This project takes the place of the take-home final exam for the course. It is worth 35% of your overall grade. You will be graded on the quality and ambition of each aspect of the project. No single component is more important than the others.\n",
    "\n",
    "### Practical details\n",
    "\n",
    "* The project is due at **noon on Saturday, December 9** via upload to CMS of a single zip file containing your fully executed Jupyter notebook and all associated data.\n",
    "* You may work alone or in a group of up to three total members.\n",
    "    * If you work in a group, be sure to list the names of the group members.\n",
    "    * For groups, create your group on CMS and submit one notebook for the entire group. **Each group should also submit a statement of responsibility** that describes in general terms who performed which parts of the project.\n",
    "* You may post questions on Ed, but should do so privately (visible to course staff only).\n",
    "* Interactive visualizations do not always work when embedded in shared notebooks. If you plan to use interactives, you may need to host them elsewhere and link to them.\n",
    "\n",
    "---"
   ]
  },
  {
   "cell_type": "markdown",
   "id": "60ddac3e-f86d-4ea0-a5eb-569cccf2daaf",
   "metadata": {},
   "source": [
    "Imports"
   ]
  },
  {
   "cell_type": "code",
   "execution_count": 1,
   "id": "5973935a-fbf0-493a-852d-576d562582fa",
   "metadata": {
    "tags": []
   },
   "outputs": [],
   "source": [
    "import sqlite3\n",
    "import pandas as pd\n",
    "import numpy as np\n",
    "import spacy\n",
    "\n",
    "from sklearn.feature_extraction.text import CountVectorizer\n",
    "from sklearn.feature_extraction.text import TfidfVectorizer\n",
    "from sklearn.preprocessing import StandardScaler\n",
    "from sklearn.linear_model import LinearRegression\n",
    "from sklearn.feature_selection import SelectKBest, mutual_info_regression\n",
    "from sklearn.feature_selection import SelectKBest, mutual_info_classif\n",
    "\n",
    "from sklearn.model_selection import cross_val_score\n",
    "from sklearn.model_selection import GridSearchCV\n",
    "from sklearn import svm, datasets\n",
    "\n",
    "from sklearn.linear_model import LogisticRegression\n",
    "from sklearn.model_selection import train_test_split\n",
    "\n",
    "from collections import Counter\n",
    "\n",
    "import seaborn as sns\n",
    "import matplotlib.pyplot as plt\n",
    "import numpy as np\n",
    "\n",
    "pd.set_option('display.max_columns', None)\n",
    "pd.set_option('display.max_rows', None)"
   ]
  },
  {
   "cell_type": "markdown",
   "id": "1ed56e9d-7b86-4d49-b353-e4a9a93130ab",
   "metadata": {
    "tags": []
   },
   "source": [
    "# Table of Contents\n",
    "1. [Read data](#read_data)\n",
    "2. [Simple Vectorizer](#simple_vectorizer)\n",
    "3. [Year Regression](#year_regression)\n",
    "4. [Lemmas](#lemmas)\n",
    "5. [High Energy](#high_energy)\n"
   ]
  },
  {
   "cell_type": "markdown",
   "id": "2238b2d5-ccca-43fc-8ff2-dfe2cc96416f",
   "metadata": {},
   "source": [
    "## 1. Read data <a name = \"read_data\"></a>"
   ]
  },
  {
   "cell_type": "markdown",
   "id": "41387661-dba7-48f8-8b3d-9c3c9ff2837a",
   "metadata": {},
   "source": [
    "We read in Taylor Swift song lyrics and spotify data from a csv that adashofdata created and housed on a github repository: https://github.com/adashofdata/taylor_swift_data. We checked all her files and checked the lyrics and song names and confirmed that this data was 1) better than any Kaggle Dataset that we found 2) produced the same results as we would if we were to scrape Spotify for every Taylor Swift song. \n",
    "\n",
    "While adashofdata has way more spreadsheets then we needed, such as we ruled out needing Taylor_Swift_Set_List_Data which hosts a set list from her six tours, and Taylor_Swift_Words, which houses a breakdown of her lyrics into words.\n",
    "\n",
    "We also reviewed what adashofdata had done with the data, which she used to create a blog post: http://adashofdata.com/2023/03/01/a-data-scientist-breaks-down-all-10-taylor-swift-albums-the-extended-version/, a video virtually a summary of her blog post: https://youtu.be/ZNFms8sUbTw, and a few Reddit threads with the same findings: https://www.reddit.com/r/TaylorSwift/comments/11g46c5/all_the_colors_mentioned_in_each_taylor_swift/, https://www.reddit.com/r/TaylorSwift/comments/11f6xa8/taylor_swift_writes_a_song_in_every_key_on/, and https://www.reddit.com/r/TaylorSwift/comments/11mv3sn/taylor_says_she_imagines_writing_her_songs_with_3/. AdashofData's findings did not align with our discussion as below we look at how her song lyrics can assist in the prediction of which Year the song is released and whether we can classify a song as High Energy or not. Adashofdata's findings are indeed interesting and we support you if you wish to understand more about seasonality of Taylor Swift, which Days of the Week she talked about, swear words and more!"
   ]
  },
  {
   "cell_type": "markdown",
   "id": "48ee8d23-14e3-4d7f-8bc7-f744fc698584",
   "metadata": {},
   "source": [
    "**Limitations** of the data include the fact that we decided not to include any songs that Taylor Swift re-recorded: Fearless(Taylor's Version), Red(Taylor's Version), Speak Now (Taylor's Version), etc. This was due to the overlap and the fact that we desired to see if her music has potentially evolved or changed since starting her career and thus re-released songs would have potentially hindered our analysis.\n",
    "\n",
    "Other pitfalls include our data reviews 133 songs below, but songs that she created for another Artist/TV Shows/etc and lawsuits that occurred that made artists place her name on the writers list were not included. Also overlapping songs where she re-recorded with a featured artist were not included as well to avoid repetition. \n",
    "\n",
    "The data was extremely clean and thus if you search up the lyrics for certain lyrics they will not include quotations around words that the author says, but due to cleaning ours does."
   ]
  },
  {
   "cell_type": "code",
   "execution_count": 87,
   "id": "11289cb4-0de3-4b29-86a5-a80a1440bb0b",
   "metadata": {
    "tags": []
   },
   "outputs": [
    {
     "name": "stdout",
     "output_type": "stream",
     "text": [
      "She said I was seven and you were nine I looked at you like the stars that shined In the sky, the pretty lights And our daddies used to joke about the two of us Growing up and falling in love And our mamas smiled and rolled their eyes And said, \"Oh, my, my, my\"  Take me back to the house in the backyard tree Said you'd beat me up, you were bigger than me You never did, you never did Take me back when our world was one block wide I dared you to kiss me and ran when you tried Just two kids, you and I Oh, my, my, my, my Well, I was sixteen when suddenly I wasn't that little girl you used to see But your eyes still shined like pretty lights And our daddies used to joke about the two of us They never believed we'd really fall in love And our mamas smiled and rolled their eyes And said, \"Oh, my, my, my\"  Take me back to the creek beds we turned up 2 a.m. riding in your truck And all I need is you next to me Take me back to the time we had our very first fight The slamming of doors 'stead of kissing goodnight You stayed outside 'til the morning light Oh, my, my, my, my  A few years had gone and come around We were sitting at our favorite spot in town And you looked at me, got down on one knee  Take me back to the time when we walked down the aisle Our whole town came and our mamas cried You said, \"I do,\" and I did, too Take me home where we met so many years before We'll rock our babies on that very front porch After all this time, you and I You might also like And I'll be eighty-seven, you'll be eighty-nine I'll still look at you like the stars that shine In the sky, oh, my, my, my\n"
     ]
    }
   ],
   "source": [
    "print(full_dataframe['Lyrics'][full_dataframe['Song Name'] == \"mary's song (oh my my my)\"][0])"
   ]
  },
  {
   "cell_type": "code",
   "execution_count": 72,
   "id": "4ac5b5c4-f8f2-4e22-8806-c04264c62da9",
   "metadata": {
    "tags": []
   },
   "outputs": [
    {
     "data": {
      "text/html": [
       "<div>\n",
       "<style scoped>\n",
       "    .dataframe tbody tr th:only-of-type {\n",
       "        vertical-align: middle;\n",
       "    }\n",
       "\n",
       "    .dataframe tbody tr th {\n",
       "        vertical-align: top;\n",
       "    }\n",
       "\n",
       "    .dataframe thead th {\n",
       "        text-align: right;\n",
       "    }\n",
       "</style>\n",
       "<table border=\"1\" class=\"dataframe\">\n",
       "  <thead>\n",
       "    <tr style=\"text-align: right;\">\n",
       "      <th></th>\n",
       "      <th>URI</th>\n",
       "      <th>Album</th>\n",
       "      <th>Song Name</th>\n",
       "      <th>Danceability</th>\n",
       "      <th>Energy</th>\n",
       "      <th>Key</th>\n",
       "      <th>Loudness</th>\n",
       "      <th>Mode</th>\n",
       "      <th>Speechiness</th>\n",
       "      <th>Acousticness</th>\n",
       "      <th>Instrumentalness</th>\n",
       "      <th>Liveness</th>\n",
       "      <th>Valence</th>\n",
       "      <th>Tempo</th>\n",
       "      <th>Duration_ms</th>\n",
       "      <th>Time Signature</th>\n",
       "    </tr>\n",
       "    <tr>\n",
       "      <th>Playlist ID</th>\n",
       "      <th></th>\n",
       "      <th></th>\n",
       "      <th></th>\n",
       "      <th></th>\n",
       "      <th></th>\n",
       "      <th></th>\n",
       "      <th></th>\n",
       "      <th></th>\n",
       "      <th></th>\n",
       "      <th></th>\n",
       "      <th></th>\n",
       "      <th></th>\n",
       "      <th></th>\n",
       "      <th></th>\n",
       "      <th></th>\n",
       "      <th></th>\n",
       "    </tr>\n",
       "  </thead>\n",
       "  <tbody>\n",
       "    <tr>\n",
       "      <th>1.0</th>\n",
       "      <td>0Om9WAB5RS09L80DyOfTNa</td>\n",
       "      <td>Taylor Swift</td>\n",
       "      <td>Tim McGraw</td>\n",
       "      <td>0.580</td>\n",
       "      <td>0.491</td>\n",
       "      <td>0.0</td>\n",
       "      <td>-6.462</td>\n",
       "      <td>1.0</td>\n",
       "      <td>0.0251</td>\n",
       "      <td>0.57500</td>\n",
       "      <td>0.0</td>\n",
       "      <td>0.1210</td>\n",
       "      <td>0.425</td>\n",
       "      <td>76.009</td>\n",
       "      <td>232107.0</td>\n",
       "      <td>4.0</td>\n",
       "    </tr>\n",
       "    <tr>\n",
       "      <th>2.0</th>\n",
       "      <td>32mVHdy0bi1XKgr0ajsBlG</td>\n",
       "      <td>Taylor Swift</td>\n",
       "      <td>Picture To Burn</td>\n",
       "      <td>0.658</td>\n",
       "      <td>0.877</td>\n",
       "      <td>7.0</td>\n",
       "      <td>-2.098</td>\n",
       "      <td>1.0</td>\n",
       "      <td>0.0323</td>\n",
       "      <td>0.17300</td>\n",
       "      <td>0.0</td>\n",
       "      <td>0.0962</td>\n",
       "      <td>0.821</td>\n",
       "      <td>105.586</td>\n",
       "      <td>173067.0</td>\n",
       "      <td>4.0</td>\n",
       "    </tr>\n",
       "    <tr>\n",
       "      <th>3.0</th>\n",
       "      <td>7zMcNqs55Mxer82bvZFkpg</td>\n",
       "      <td>Taylor Swift</td>\n",
       "      <td>Teardrops On My Guitar - Radio Single Remix</td>\n",
       "      <td>0.621</td>\n",
       "      <td>0.417</td>\n",
       "      <td>10.0</td>\n",
       "      <td>-6.941</td>\n",
       "      <td>1.0</td>\n",
       "      <td>0.0231</td>\n",
       "      <td>0.28800</td>\n",
       "      <td>0.0</td>\n",
       "      <td>0.1190</td>\n",
       "      <td>0.289</td>\n",
       "      <td>99.953</td>\n",
       "      <td>203040.0</td>\n",
       "      <td>4.0</td>\n",
       "    </tr>\n",
       "    <tr>\n",
       "      <th>4.0</th>\n",
       "      <td>73OX8GdpOeGzKC6OvGSbsv</td>\n",
       "      <td>Taylor Swift</td>\n",
       "      <td>A Place in this World</td>\n",
       "      <td>0.576</td>\n",
       "      <td>0.777</td>\n",
       "      <td>9.0</td>\n",
       "      <td>-2.881</td>\n",
       "      <td>1.0</td>\n",
       "      <td>0.0324</td>\n",
       "      <td>0.05100</td>\n",
       "      <td>0.0</td>\n",
       "      <td>0.3200</td>\n",
       "      <td>0.428</td>\n",
       "      <td>115.028</td>\n",
       "      <td>199200.0</td>\n",
       "      <td>4.0</td>\n",
       "    </tr>\n",
       "    <tr>\n",
       "      <th>5.0</th>\n",
       "      <td>7an1exwMnfYRcdVQm0yDev</td>\n",
       "      <td>Taylor Swift</td>\n",
       "      <td>Cold As You</td>\n",
       "      <td>0.418</td>\n",
       "      <td>0.482</td>\n",
       "      <td>5.0</td>\n",
       "      <td>-5.769</td>\n",
       "      <td>1.0</td>\n",
       "      <td>0.0266</td>\n",
       "      <td>0.21700</td>\n",
       "      <td>0.0</td>\n",
       "      <td>0.1230</td>\n",
       "      <td>0.261</td>\n",
       "      <td>175.558</td>\n",
       "      <td>239013.0</td>\n",
       "      <td>4.0</td>\n",
       "    </tr>\n",
       "    <tr>\n",
       "      <th>6.0</th>\n",
       "      <td>2QA3IixpRcKyOdG7XDzRgv</td>\n",
       "      <td>Taylor Swift</td>\n",
       "      <td>The Outside</td>\n",
       "      <td>0.589</td>\n",
       "      <td>0.805</td>\n",
       "      <td>5.0</td>\n",
       "      <td>-4.055</td>\n",
       "      <td>1.0</td>\n",
       "      <td>0.0293</td>\n",
       "      <td>0.00491</td>\n",
       "      <td>0.0</td>\n",
       "      <td>0.2400</td>\n",
       "      <td>0.591</td>\n",
       "      <td>112.982</td>\n",
       "      <td>207107.0</td>\n",
       "      <td>4.0</td>\n",
       "    </tr>\n",
       "    <tr>\n",
       "      <th>7.0</th>\n",
       "      <td>6K0CJLVXqbGMeJSmJ4ENKK</td>\n",
       "      <td>Taylor Swift</td>\n",
       "      <td>Tied Together with a Smile</td>\n",
       "      <td>0.479</td>\n",
       "      <td>0.578</td>\n",
       "      <td>2.0</td>\n",
       "      <td>-4.963</td>\n",
       "      <td>1.0</td>\n",
       "      <td>0.0294</td>\n",
       "      <td>0.52500</td>\n",
       "      <td>0.0</td>\n",
       "      <td>0.0841</td>\n",
       "      <td>0.192</td>\n",
       "      <td>146.165</td>\n",
       "      <td>248107.0</td>\n",
       "      <td>4.0</td>\n",
       "    </tr>\n",
       "    <tr>\n",
       "      <th>8.0</th>\n",
       "      <td>2ZoOmCSgj0ypVAmGd1ve4y</td>\n",
       "      <td>Taylor Swift</td>\n",
       "      <td>Stay Beautiful</td>\n",
       "      <td>0.594</td>\n",
       "      <td>0.629</td>\n",
       "      <td>8.0</td>\n",
       "      <td>-4.919</td>\n",
       "      <td>1.0</td>\n",
       "      <td>0.0246</td>\n",
       "      <td>0.08680</td>\n",
       "      <td>0.0</td>\n",
       "      <td>0.1370</td>\n",
       "      <td>0.504</td>\n",
       "      <td>131.597</td>\n",
       "      <td>236053.0</td>\n",
       "      <td>4.0</td>\n",
       "    </tr>\n",
       "  </tbody>\n",
       "</table>\n",
       "</div>"
      ],
      "text/plain": [
       "                                URI         Album  \\\n",
       "Playlist ID                                         \n",
       "1.0          0Om9WAB5RS09L80DyOfTNa  Taylor Swift   \n",
       "2.0          32mVHdy0bi1XKgr0ajsBlG  Taylor Swift   \n",
       "3.0          7zMcNqs55Mxer82bvZFkpg  Taylor Swift   \n",
       "4.0          73OX8GdpOeGzKC6OvGSbsv  Taylor Swift   \n",
       "5.0          7an1exwMnfYRcdVQm0yDev  Taylor Swift   \n",
       "6.0          2QA3IixpRcKyOdG7XDzRgv  Taylor Swift   \n",
       "7.0          6K0CJLVXqbGMeJSmJ4ENKK  Taylor Swift   \n",
       "8.0          2ZoOmCSgj0ypVAmGd1ve4y  Taylor Swift   \n",
       "\n",
       "                                               Song Name  Danceability  \\\n",
       "Playlist ID                                                              \n",
       "1.0                                           Tim McGraw         0.580   \n",
       "2.0                                      Picture To Burn         0.658   \n",
       "3.0          Teardrops On My Guitar - Radio Single Remix         0.621   \n",
       "4.0                                A Place in this World         0.576   \n",
       "5.0                                          Cold As You         0.418   \n",
       "6.0                                          The Outside         0.589   \n",
       "7.0                           Tied Together with a Smile         0.479   \n",
       "8.0                                       Stay Beautiful         0.594   \n",
       "\n",
       "             Energy   Key  Loudness  Mode  Speechiness  Acousticness  \\\n",
       "Playlist ID                                                            \n",
       "1.0           0.491   0.0    -6.462   1.0       0.0251       0.57500   \n",
       "2.0           0.877   7.0    -2.098   1.0       0.0323       0.17300   \n",
       "3.0           0.417  10.0    -6.941   1.0       0.0231       0.28800   \n",
       "4.0           0.777   9.0    -2.881   1.0       0.0324       0.05100   \n",
       "5.0           0.482   5.0    -5.769   1.0       0.0266       0.21700   \n",
       "6.0           0.805   5.0    -4.055   1.0       0.0293       0.00491   \n",
       "7.0           0.578   2.0    -4.963   1.0       0.0294       0.52500   \n",
       "8.0           0.629   8.0    -4.919   1.0       0.0246       0.08680   \n",
       "\n",
       "             Instrumentalness  Liveness  Valence    Tempo  Duration_ms  \\\n",
       "Playlist ID                                                              \n",
       "1.0                       0.0    0.1210    0.425   76.009     232107.0   \n",
       "2.0                       0.0    0.0962    0.821  105.586     173067.0   \n",
       "3.0                       0.0    0.1190    0.289   99.953     203040.0   \n",
       "4.0                       0.0    0.3200    0.428  115.028     199200.0   \n",
       "5.0                       0.0    0.1230    0.261  175.558     239013.0   \n",
       "6.0                       0.0    0.2400    0.591  112.982     207107.0   \n",
       "7.0                       0.0    0.0841    0.192  146.165     248107.0   \n",
       "8.0                       0.0    0.1370    0.504  131.597     236053.0   \n",
       "\n",
       "             Time Signature  \n",
       "Playlist ID                  \n",
       "1.0                     4.0  \n",
       "2.0                     4.0  \n",
       "3.0                     4.0  \n",
       "4.0                     4.0  \n",
       "5.0                     4.0  \n",
       "6.0                     4.0  \n",
       "7.0                     4.0  \n",
       "8.0                     4.0  "
      ]
     },
     "execution_count": 72,
     "metadata": {},
     "output_type": "execute_result"
    }
   ],
   "source": [
    "spotify_csv = pd.read_csv(\"taylor_swift_data-main/Taylor_Swift_Spotify/taylor_swift_spotify_data.csv\", index_col = \"Playlist ID\")\n",
    "spotify_csv.head(8)"
   ]
  },
  {
   "cell_type": "code",
   "execution_count": 73,
   "id": "365033e8-8528-4629-ad86-e1c7f9601790",
   "metadata": {
    "tags": []
   },
   "outputs": [
    {
     "data": {
      "text/plain": [
       "array(['Taylor Swift', 'Fearless', 'Speak Now', 'Red', '1989',\n",
       "       'reputation', 'Lover', 'folklore', 'evermore', 'Midnights'],\n",
       "      dtype=object)"
      ]
     },
     "execution_count": 73,
     "metadata": {},
     "output_type": "execute_result"
    }
   ],
   "source": [
    "spotify_csv['Album'].unique()"
   ]
  },
  {
   "cell_type": "code",
   "execution_count": 74,
   "id": "5cea32be-f12f-49d1-b58b-bc4587277feb",
   "metadata": {
    "tags": []
   },
   "outputs": [
    {
     "data": {
      "text/plain": [
       "Index(['URI', 'Album', 'Song Name', 'Danceability', 'Energy', 'Key',\n",
       "       'Loudness', 'Mode', 'Speechiness', 'Acousticness', 'Instrumentalness',\n",
       "       'Liveness', 'Valence', 'Tempo', 'Duration_ms', 'Time Signature'],\n",
       "      dtype='object')"
      ]
     },
     "execution_count": 74,
     "metadata": {},
     "output_type": "execute_result"
    }
   ],
   "source": [
    "spotify_csv.columns"
   ]
  },
  {
   "cell_type": "code",
   "execution_count": 75,
   "id": "c795ae9c-87bc-44a1-b20e-bd048aa36d67",
   "metadata": {
    "tags": []
   },
   "outputs": [
    {
     "data": {
      "text/html": [
       "<div>\n",
       "<style scoped>\n",
       "    .dataframe tbody tr th:only-of-type {\n",
       "        vertical-align: middle;\n",
       "    }\n",
       "\n",
       "    .dataframe tbody tr th {\n",
       "        vertical-align: top;\n",
       "    }\n",
       "\n",
       "    .dataframe thead th {\n",
       "        text-align: right;\n",
       "    }\n",
       "</style>\n",
       "<table border=\"1\" class=\"dataframe\">\n",
       "  <thead>\n",
       "    <tr style=\"text-align: right;\">\n",
       "      <th></th>\n",
       "      <th>Album</th>\n",
       "      <th>Song Name</th>\n",
       "      <th>Lyrics</th>\n",
       "    </tr>\n",
       "    <tr>\n",
       "      <th>index</th>\n",
       "      <th></th>\n",
       "      <th></th>\n",
       "      <th></th>\n",
       "    </tr>\n",
       "  </thead>\n",
       "  <tbody>\n",
       "    <tr>\n",
       "      <th>0</th>\n",
       "      <td>Taylor Swift</td>\n",
       "      <td>Mary's Song (Oh My My My)</td>\n",
       "      <td>She said I was seven and you were nine I looke...</td>\n",
       "    </tr>\n",
       "    <tr>\n",
       "      <th>1</th>\n",
       "      <td>Taylor Swift</td>\n",
       "      <td>A Perfectly Good Heart</td>\n",
       "      <td>Why would you wanna break A perfectly good hea...</td>\n",
       "    </tr>\n",
       "    <tr>\n",
       "      <th>2</th>\n",
       "      <td>Taylor Swift</td>\n",
       "      <td>Tim McGraw</td>\n",
       "      <td>He said the way my blue eyes shined Put those ...</td>\n",
       "    </tr>\n",
       "    <tr>\n",
       "      <th>3</th>\n",
       "      <td>Taylor Swift</td>\n",
       "      <td>Teardrops On My Guitar</td>\n",
       "      <td>Drew looks at me I fake a smile so he won't se...</td>\n",
       "    </tr>\n",
       "    <tr>\n",
       "      <th>4</th>\n",
       "      <td>Taylor Swift</td>\n",
       "      <td>Cold as You</td>\n",
       "      <td>You have a way of coming easily to me And when...</td>\n",
       "    </tr>\n",
       "    <tr>\n",
       "      <th>5</th>\n",
       "      <td>Taylor Swift</td>\n",
       "      <td>The Outside</td>\n",
       "      <td>I didn't know what I would find When I went lo...</td>\n",
       "    </tr>\n",
       "    <tr>\n",
       "      <th>6</th>\n",
       "      <td>Taylor Swift</td>\n",
       "      <td>Should've Said No</td>\n",
       "      <td>It's strange to think the songs we used to sin...</td>\n",
       "    </tr>\n",
       "    <tr>\n",
       "      <th>7</th>\n",
       "      <td>Taylor Swift</td>\n",
       "      <td>A Place In This World</td>\n",
       "      <td>I don't know what I want, so don't ask me 'Cau...</td>\n",
       "    </tr>\n",
       "  </tbody>\n",
       "</table>\n",
       "</div>"
      ],
      "text/plain": [
       "              Album                  Song Name  \\\n",
       "index                                            \n",
       "0      Taylor Swift  Mary's Song (Oh My My My)   \n",
       "1      Taylor Swift     A Perfectly Good Heart   \n",
       "2      Taylor Swift                 Tim McGraw   \n",
       "3      Taylor Swift     Teardrops On My Guitar   \n",
       "4      Taylor Swift                Cold as You   \n",
       "5      Taylor Swift                The Outside   \n",
       "6      Taylor Swift          Should've Said No   \n",
       "7      Taylor Swift      A Place In This World   \n",
       "\n",
       "                                                  Lyrics  \n",
       "index                                                     \n",
       "0      She said I was seven and you were nine I looke...  \n",
       "1      Why would you wanna break A perfectly good hea...  \n",
       "2      He said the way my blue eyes shined Put those ...  \n",
       "3      Drew looks at me I fake a smile so he won't se...  \n",
       "4      You have a way of coming easily to me And when...  \n",
       "5      I didn't know what I would find When I went lo...  \n",
       "6      It's strange to think the songs we used to sin...  \n",
       "7      I don't know what I want, so don't ask me 'Cau...  "
      ]
     },
     "execution_count": 75,
     "metadata": {},
     "output_type": "execute_result"
    }
   ],
   "source": [
    "song_lyrics_csv = pd.read_csv(\"taylor_swift_data-main/Taylor_Swift_Genius/taylor_swift_genius_data.csv\", index_col = \"index\")\n",
    "song_lyrics_csv.head(8)"
   ]
  },
  {
   "cell_type": "code",
   "execution_count": 76,
   "id": "7f034221-92ae-4c63-8e29-a456f84ffe15",
   "metadata": {
    "tags": []
   },
   "outputs": [
    {
     "data": {
      "text/plain": [
       "array(['Taylor Swift', 'Fearless', 'Speak Now', 'Red', '1989',\n",
       "       'Reputation', 'Lover', 'folklore', 'evermore', 'Midnights'],\n",
       "      dtype=object)"
      ]
     },
     "execution_count": 76,
     "metadata": {},
     "output_type": "execute_result"
    }
   ],
   "source": [
    "song_lyrics_csv['Album'].unique()"
   ]
  },
  {
   "cell_type": "code",
   "execution_count": 77,
   "id": "f0d63048-665c-4b57-bbf7-e8b838c31b6e",
   "metadata": {
    "tags": []
   },
   "outputs": [],
   "source": [
    "# song_lyrics_csv[song_lyrics_csv['Album']=='taylor swift']['Lyrics'][1]"
   ]
  },
  {
   "cell_type": "code",
   "execution_count": 78,
   "id": "d764f7f7-d45d-4f72-8090-e92bccc58d0f",
   "metadata": {
    "tags": []
   },
   "outputs": [
    {
     "data": {
      "text/plain": [
       "array(['Taylor Swift', 'Fearless', 'Speak Now', 'Red', '1989',\n",
       "       'Reputation', 'Lover', 'folklore', 'evermore', 'Midnights'],\n",
       "      dtype=object)"
      ]
     },
     "execution_count": 78,
     "metadata": {},
     "output_type": "execute_result"
    }
   ],
   "source": [
    "song_lyrics_csv['Album'].unique()"
   ]
  },
  {
   "cell_type": "code",
   "execution_count": 79,
   "id": "2411f02d-422d-4c2e-9eb4-bb5b51d0e6e9",
   "metadata": {
    "tags": []
   },
   "outputs": [
    {
     "data": {
      "text/plain": [
       "array(['Taylor Swift', 'Fearless', 'Speak Now', 'Red', '1989',\n",
       "       'reputation', 'Lover', 'folklore', 'evermore', 'Midnights'],\n",
       "      dtype=object)"
      ]
     },
     "execution_count": 79,
     "metadata": {},
     "output_type": "execute_result"
    }
   ],
   "source": [
    "spotify_csv['Album'].unique()"
   ]
  },
  {
   "cell_type": "code",
   "execution_count": 80,
   "id": "90c22f3b-3ca0-4a84-b4b4-39d1ff57fd1a",
   "metadata": {
    "tags": []
   },
   "outputs": [
    {
     "data": {
      "text/plain": [
       "array(['taylor swift', 'fearless', 'speak now', 'red', '1989',\n",
       "       'reputation', 'lover', 'folklore', 'evermore', 'midnights'],\n",
       "      dtype=object)"
      ]
     },
     "execution_count": 80,
     "metadata": {},
     "output_type": "execute_result"
    }
   ],
   "source": [
    "spotify_csv.head()\n",
    "spotify_csv['Song Name']=spotify_csv['Song Name'].apply(lambda x: x.strip().lower().replace('\\u200b', ''))\n",
    "spotify_csv['Album']=spotify_csv['Album'].apply(lambda x: x.strip().lower())\n",
    "\n",
    "song_lyrics_csv['Song Name']=song_lyrics_csv['Song Name'].apply(lambda x: x.strip().lower().replace('\\u200b', ''))\n",
    "song_lyrics_csv['Album']=song_lyrics_csv['Album'].apply(lambda x: x.strip().lower())\n",
    "song_lyrics_csv.head()\n",
    "\n",
    "\n",
    "full_dataframe = song_lyrics_csv.merge(spotify_csv, how='inner', on=['Song Name', 'Album'])\n",
    "full_dataframe['Album'].unique()\n",
    "\n",
    "# display(song_lyrics_csv[song_lyrics_csv['new_a']=='evermore']['new_sn'].unique(),\n",
    "# spotify_csv[spotify_csv['new_a']=='evermore']['new_sn'].unique())"
   ]
  },
  {
   "cell_type": "code",
   "execution_count": 81,
   "id": "8b3b7114-a770-46cd-a006-ff29ecd82007",
   "metadata": {
    "tags": []
   },
   "outputs": [
    {
     "data": {
      "text/plain": [
       "array(['taylor swift', 'fearless', 'speak now', 'red', '1989',\n",
       "       'reputation', 'lover', 'folklore', 'evermore', 'midnights'],\n",
       "      dtype=object)"
      ]
     },
     "execution_count": 81,
     "metadata": {},
     "output_type": "execute_result"
    }
   ],
   "source": [
    "full_dataframe['Album'].unique()"
   ]
  },
  {
   "cell_type": "code",
   "execution_count": 82,
   "id": "f2c700bd-bd74-4a6e-8333-c9ee1e199147",
   "metadata": {
    "tags": []
   },
   "outputs": [],
   "source": [
    "values = []\n",
    "for i in range(0, len(full_dataframe['Lyrics'])):\n",
    "    values.append(len(full_dataframe['Lyrics'][i]))\n",
    "full_dataframe['Lyrics Length'] = values"
   ]
  },
  {
   "cell_type": "code",
   "execution_count": 83,
   "id": "02b7e335-35de-4f08-8104-4f32f0fe6fa9",
   "metadata": {
    "tags": []
   },
   "outputs": [
    {
     "data": {
      "text/html": [
       "<div>\n",
       "<style scoped>\n",
       "    .dataframe tbody tr th:only-of-type {\n",
       "        vertical-align: middle;\n",
       "    }\n",
       "\n",
       "    .dataframe tbody tr th {\n",
       "        vertical-align: top;\n",
       "    }\n",
       "\n",
       "    .dataframe thead th {\n",
       "        text-align: right;\n",
       "    }\n",
       "</style>\n",
       "<table border=\"1\" class=\"dataframe\">\n",
       "  <thead>\n",
       "    <tr style=\"text-align: right;\">\n",
       "      <th></th>\n",
       "      <th>Album</th>\n",
       "      <th>Song Name</th>\n",
       "      <th>Lyrics</th>\n",
       "      <th>URI</th>\n",
       "      <th>Danceability</th>\n",
       "      <th>Energy</th>\n",
       "      <th>Key</th>\n",
       "      <th>Loudness</th>\n",
       "      <th>Mode</th>\n",
       "      <th>Speechiness</th>\n",
       "      <th>Acousticness</th>\n",
       "      <th>Instrumentalness</th>\n",
       "      <th>Liveness</th>\n",
       "      <th>Valence</th>\n",
       "      <th>Tempo</th>\n",
       "      <th>Duration_ms</th>\n",
       "      <th>Time Signature</th>\n",
       "      <th>Lyrics Length</th>\n",
       "    </tr>\n",
       "  </thead>\n",
       "  <tbody>\n",
       "    <tr>\n",
       "      <th>0</th>\n",
       "      <td>taylor swift</td>\n",
       "      <td>mary's song (oh my my my)</td>\n",
       "      <td>She said I was seven and you were nine I looke...</td>\n",
       "      <td>2QrQCMel6v2JiLxqrg4p2O</td>\n",
       "      <td>0.403</td>\n",
       "      <td>0.627</td>\n",
       "      <td>2.0</td>\n",
       "      <td>-5.280</td>\n",
       "      <td>1.0</td>\n",
       "      <td>0.0292</td>\n",
       "      <td>0.01770</td>\n",
       "      <td>0.0</td>\n",
       "      <td>0.182</td>\n",
       "      <td>0.374</td>\n",
       "      <td>74.900</td>\n",
       "      <td>213080.0</td>\n",
       "      <td>4.0</td>\n",
       "      <td>1602</td>\n",
       "    </tr>\n",
       "    <tr>\n",
       "      <th>1</th>\n",
       "      <td>taylor swift</td>\n",
       "      <td>a perfectly good heart</td>\n",
       "      <td>Why would you wanna break A perfectly good hea...</td>\n",
       "      <td>1spLfUJxtyVyiKKTegQ2r4</td>\n",
       "      <td>0.483</td>\n",
       "      <td>0.751</td>\n",
       "      <td>4.0</td>\n",
       "      <td>-5.726</td>\n",
       "      <td>1.0</td>\n",
       "      <td>0.0365</td>\n",
       "      <td>0.00349</td>\n",
       "      <td>0.0</td>\n",
       "      <td>0.128</td>\n",
       "      <td>0.268</td>\n",
       "      <td>156.092</td>\n",
       "      <td>220147.0</td>\n",
       "      <td>4.0</td>\n",
       "      <td>1214</td>\n",
       "    </tr>\n",
       "    <tr>\n",
       "      <th>2</th>\n",
       "      <td>taylor swift</td>\n",
       "      <td>tim mcgraw</td>\n",
       "      <td>He said the way my blue eyes shined Put those ...</td>\n",
       "      <td>0Om9WAB5RS09L80DyOfTNa</td>\n",
       "      <td>0.580</td>\n",
       "      <td>0.491</td>\n",
       "      <td>0.0</td>\n",
       "      <td>-6.462</td>\n",
       "      <td>1.0</td>\n",
       "      <td>0.0251</td>\n",
       "      <td>0.57500</td>\n",
       "      <td>0.0</td>\n",
       "      <td>0.121</td>\n",
       "      <td>0.425</td>\n",
       "      <td>76.009</td>\n",
       "      <td>232107.0</td>\n",
       "      <td>4.0</td>\n",
       "      <td>1801</td>\n",
       "    </tr>\n",
       "    <tr>\n",
       "      <th>3</th>\n",
       "      <td>taylor swift</td>\n",
       "      <td>cold as you</td>\n",
       "      <td>You have a way of coming easily to me And when...</td>\n",
       "      <td>7an1exwMnfYRcdVQm0yDev</td>\n",
       "      <td>0.418</td>\n",
       "      <td>0.482</td>\n",
       "      <td>5.0</td>\n",
       "      <td>-5.769</td>\n",
       "      <td>1.0</td>\n",
       "      <td>0.0266</td>\n",
       "      <td>0.21700</td>\n",
       "      <td>0.0</td>\n",
       "      <td>0.123</td>\n",
       "      <td>0.261</td>\n",
       "      <td>175.558</td>\n",
       "      <td>239013.0</td>\n",
       "      <td>4.0</td>\n",
       "      <td>1225</td>\n",
       "    </tr>\n",
       "  </tbody>\n",
       "</table>\n",
       "</div>"
      ],
      "text/plain": [
       "          Album                  Song Name  \\\n",
       "0  taylor swift  mary's song (oh my my my)   \n",
       "1  taylor swift     a perfectly good heart   \n",
       "2  taylor swift                 tim mcgraw   \n",
       "3  taylor swift                cold as you   \n",
       "\n",
       "                                              Lyrics                     URI  \\\n",
       "0  She said I was seven and you were nine I looke...  2QrQCMel6v2JiLxqrg4p2O   \n",
       "1  Why would you wanna break A perfectly good hea...  1spLfUJxtyVyiKKTegQ2r4   \n",
       "2  He said the way my blue eyes shined Put those ...  0Om9WAB5RS09L80DyOfTNa   \n",
       "3  You have a way of coming easily to me And when...  7an1exwMnfYRcdVQm0yDev   \n",
       "\n",
       "   Danceability  Energy  Key  Loudness  Mode  Speechiness  Acousticness  \\\n",
       "0         0.403   0.627  2.0    -5.280   1.0       0.0292       0.01770   \n",
       "1         0.483   0.751  4.0    -5.726   1.0       0.0365       0.00349   \n",
       "2         0.580   0.491  0.0    -6.462   1.0       0.0251       0.57500   \n",
       "3         0.418   0.482  5.0    -5.769   1.0       0.0266       0.21700   \n",
       "\n",
       "   Instrumentalness  Liveness  Valence    Tempo  Duration_ms  Time Signature  \\\n",
       "0               0.0     0.182    0.374   74.900     213080.0             4.0   \n",
       "1               0.0     0.128    0.268  156.092     220147.0             4.0   \n",
       "2               0.0     0.121    0.425   76.009     232107.0             4.0   \n",
       "3               0.0     0.123    0.261  175.558     239013.0             4.0   \n",
       "\n",
       "   Lyrics Length  \n",
       "0           1602  \n",
       "1           1214  \n",
       "2           1801  \n",
       "3           1225  "
      ]
     },
     "execution_count": 83,
     "metadata": {},
     "output_type": "execute_result"
    }
   ],
   "source": [
    "full_dataframe.head(4)"
   ]
  },
  {
   "cell_type": "code",
   "execution_count": 14,
   "id": "4bd60949-429b-4521-92ff-5da62c02b647",
   "metadata": {
    "tags": []
   },
   "outputs": [
    {
     "data": {
      "text/plain": [
       "(133, 18)"
      ]
     },
     "execution_count": 14,
     "metadata": {},
     "output_type": "execute_result"
    }
   ],
   "source": [
    "full_dataframe.shape"
   ]
  },
  {
   "cell_type": "code",
   "execution_count": 15,
   "id": "7879ee1d-cd05-4074-8df8-6ba62582366e",
   "metadata": {
    "tags": []
   },
   "outputs": [],
   "source": [
    "full_dataframe = full_dataframe.drop(columns = ['URI'])"
   ]
  },
  {
   "cell_type": "code",
   "execution_count": 16,
   "id": "9ef8a21b-0904-4270-bcf1-8fde715b3592",
   "metadata": {
    "tags": []
   },
   "outputs": [
    {
     "data": {
      "text/html": [
       "<div>\n",
       "<style scoped>\n",
       "    .dataframe tbody tr th:only-of-type {\n",
       "        vertical-align: middle;\n",
       "    }\n",
       "\n",
       "    .dataframe tbody tr th {\n",
       "        vertical-align: top;\n",
       "    }\n",
       "\n",
       "    .dataframe thead th {\n",
       "        text-align: right;\n",
       "    }\n",
       "</style>\n",
       "<table border=\"1\" class=\"dataframe\">\n",
       "  <thead>\n",
       "    <tr style=\"text-align: right;\">\n",
       "      <th></th>\n",
       "      <th>Album</th>\n",
       "      <th>Song Name</th>\n",
       "      <th>Lyrics</th>\n",
       "      <th>Danceability</th>\n",
       "      <th>Energy</th>\n",
       "      <th>Key</th>\n",
       "      <th>Loudness</th>\n",
       "      <th>Mode</th>\n",
       "      <th>Speechiness</th>\n",
       "      <th>Acousticness</th>\n",
       "      <th>Instrumentalness</th>\n",
       "      <th>Liveness</th>\n",
       "      <th>Valence</th>\n",
       "      <th>Tempo</th>\n",
       "      <th>Duration_ms</th>\n",
       "      <th>Time Signature</th>\n",
       "      <th>Lyrics Length</th>\n",
       "    </tr>\n",
       "  </thead>\n",
       "  <tbody>\n",
       "    <tr>\n",
       "      <th>0</th>\n",
       "      <td>taylor swift</td>\n",
       "      <td>mary's song (oh my my my)</td>\n",
       "      <td>She said I was seven and you were nine I looke...</td>\n",
       "      <td>0.403</td>\n",
       "      <td>0.627</td>\n",
       "      <td>2.0</td>\n",
       "      <td>-5.280</td>\n",
       "      <td>1.0</td>\n",
       "      <td>0.0292</td>\n",
       "      <td>0.01770</td>\n",
       "      <td>0.0</td>\n",
       "      <td>0.182</td>\n",
       "      <td>0.374</td>\n",
       "      <td>74.900</td>\n",
       "      <td>213080.0</td>\n",
       "      <td>4.0</td>\n",
       "      <td>1602</td>\n",
       "    </tr>\n",
       "    <tr>\n",
       "      <th>1</th>\n",
       "      <td>taylor swift</td>\n",
       "      <td>a perfectly good heart</td>\n",
       "      <td>Why would you wanna break A perfectly good hea...</td>\n",
       "      <td>0.483</td>\n",
       "      <td>0.751</td>\n",
       "      <td>4.0</td>\n",
       "      <td>-5.726</td>\n",
       "      <td>1.0</td>\n",
       "      <td>0.0365</td>\n",
       "      <td>0.00349</td>\n",
       "      <td>0.0</td>\n",
       "      <td>0.128</td>\n",
       "      <td>0.268</td>\n",
       "      <td>156.092</td>\n",
       "      <td>220147.0</td>\n",
       "      <td>4.0</td>\n",
       "      <td>1214</td>\n",
       "    </tr>\n",
       "    <tr>\n",
       "      <th>2</th>\n",
       "      <td>taylor swift</td>\n",
       "      <td>tim mcgraw</td>\n",
       "      <td>He said the way my blue eyes shined Put those ...</td>\n",
       "      <td>0.580</td>\n",
       "      <td>0.491</td>\n",
       "      <td>0.0</td>\n",
       "      <td>-6.462</td>\n",
       "      <td>1.0</td>\n",
       "      <td>0.0251</td>\n",
       "      <td>0.57500</td>\n",
       "      <td>0.0</td>\n",
       "      <td>0.121</td>\n",
       "      <td>0.425</td>\n",
       "      <td>76.009</td>\n",
       "      <td>232107.0</td>\n",
       "      <td>4.0</td>\n",
       "      <td>1801</td>\n",
       "    </tr>\n",
       "    <tr>\n",
       "      <th>3</th>\n",
       "      <td>taylor swift</td>\n",
       "      <td>cold as you</td>\n",
       "      <td>You have a way of coming easily to me And when...</td>\n",
       "      <td>0.418</td>\n",
       "      <td>0.482</td>\n",
       "      <td>5.0</td>\n",
       "      <td>-5.769</td>\n",
       "      <td>1.0</td>\n",
       "      <td>0.0266</td>\n",
       "      <td>0.21700</td>\n",
       "      <td>0.0</td>\n",
       "      <td>0.123</td>\n",
       "      <td>0.261</td>\n",
       "      <td>175.558</td>\n",
       "      <td>239013.0</td>\n",
       "      <td>4.0</td>\n",
       "      <td>1225</td>\n",
       "    </tr>\n",
       "    <tr>\n",
       "      <th>4</th>\n",
       "      <td>taylor swift</td>\n",
       "      <td>the outside</td>\n",
       "      <td>I didn't know what I would find When I went lo...</td>\n",
       "      <td>0.589</td>\n",
       "      <td>0.805</td>\n",
       "      <td>5.0</td>\n",
       "      <td>-4.055</td>\n",
       "      <td>1.0</td>\n",
       "      <td>0.0293</td>\n",
       "      <td>0.00491</td>\n",
       "      <td>0.0</td>\n",
       "      <td>0.240</td>\n",
       "      <td>0.591</td>\n",
       "      <td>112.982</td>\n",
       "      <td>207107.0</td>\n",
       "      <td>4.0</td>\n",
       "      <td>1114</td>\n",
       "    </tr>\n",
       "  </tbody>\n",
       "</table>\n",
       "</div>"
      ],
      "text/plain": [
       "          Album                  Song Name  \\\n",
       "0  taylor swift  mary's song (oh my my my)   \n",
       "1  taylor swift     a perfectly good heart   \n",
       "2  taylor swift                 tim mcgraw   \n",
       "3  taylor swift                cold as you   \n",
       "4  taylor swift                the outside   \n",
       "\n",
       "                                              Lyrics  Danceability  Energy  \\\n",
       "0  She said I was seven and you were nine I looke...         0.403   0.627   \n",
       "1  Why would you wanna break A perfectly good hea...         0.483   0.751   \n",
       "2  He said the way my blue eyes shined Put those ...         0.580   0.491   \n",
       "3  You have a way of coming easily to me And when...         0.418   0.482   \n",
       "4  I didn't know what I would find When I went lo...         0.589   0.805   \n",
       "\n",
       "   Key  Loudness  Mode  Speechiness  Acousticness  Instrumentalness  Liveness  \\\n",
       "0  2.0    -5.280   1.0       0.0292       0.01770               0.0     0.182   \n",
       "1  4.0    -5.726   1.0       0.0365       0.00349               0.0     0.128   \n",
       "2  0.0    -6.462   1.0       0.0251       0.57500               0.0     0.121   \n",
       "3  5.0    -5.769   1.0       0.0266       0.21700               0.0     0.123   \n",
       "4  5.0    -4.055   1.0       0.0293       0.00491               0.0     0.240   \n",
       "\n",
       "   Valence    Tempo  Duration_ms  Time Signature  Lyrics Length  \n",
       "0    0.374   74.900     213080.0             4.0           1602  \n",
       "1    0.268  156.092     220147.0             4.0           1214  \n",
       "2    0.425   76.009     232107.0             4.0           1801  \n",
       "3    0.261  175.558     239013.0             4.0           1225  \n",
       "4    0.591  112.982     207107.0             4.0           1114  "
      ]
     },
     "execution_count": 16,
     "metadata": {},
     "output_type": "execute_result"
    }
   ],
   "source": [
    "full_dataframe.head(5)"
   ]
  },
  {
   "cell_type": "markdown",
   "id": "5224a4ba-067e-4799-9776-081dad5a0403",
   "metadata": {
    "tags": []
   },
   "source": [
    "## 2. Simple Vectorizer <a name = \"simple_vectorizer\"></a>\n",
    "Wanting to understand more about Taylor Swift's specific lyrics and understand if there were any words that were repeated in the lyrics and why. I created a vectorizer that produces a feature matrix of normalized token counts for the corpus.\n",
    "\n",
    "This was necessary to take in the lyrics from the Taylor Swift songs and produce comparable results of: keeping stop words and after removing stopwords. The TfidfVectorizer's ability to collect raw documents and utilize term frequencies, the number of times a given term appears in document/total words in document, by. the inverse document frequency, the log(Total Number of Documents/Number of Documents with Term) makes this vectorizer the best to use for our dataset."
   ]
  },
  {
   "cell_type": "markdown",
   "id": "43d83128-0c39-47a3-b48a-9ab8cebf88cd",
   "metadata": {},
   "source": [
    "To take in all the lyrics from the Taylor Swift songs I created a list that extracts the Lyrics from the dataframe. Making it easy to use and most importantly fits the needs of the vectorizer that we are utilizing."
   ]
  },
  {
   "cell_type": "code",
   "execution_count": 17,
   "id": "f4b8a7ef-aa14-4f4f-ab57-113df5d9bcaf",
   "metadata": {
    "tags": []
   },
   "outputs": [],
   "source": [
    "all_lyrics = full_dataframe['Lyrics'].values.tolist()"
   ]
  },
  {
   "cell_type": "markdown",
   "id": "20ceebc1-28ad-4bff-b40e-aa8caf6f11f9",
   "metadata": {},
   "source": [
    "In an effort to compare with and without the english stopwords I first began with **including the english stopwords** to find the top features."
   ]
  },
  {
   "cell_type": "code",
   "execution_count": 18,
   "id": "5625ea9d-1930-4cef-ad39-cb1d3cda5429",
   "metadata": {},
   "outputs": [
    {
     "name": "stdout",
     "output_type": "stream",
     "text": [
      "Feature matrix of normalized token counts shape: (133, 39)\n"
     ]
    }
   ],
   "source": [
    "vectorizer = TfidfVectorizer(min_df = 0.5, use_idf = False)\n",
    "X = vectorizer.fit_transform(all_lyrics)\n",
    "\n",
    "print(\"Feature matrix of normalized token counts shape:\", (X.toarray().shape))"
   ]
  },
  {
   "cell_type": "code",
   "execution_count": 19,
   "id": "2f3717ca-3057-49df-b491-2bb4750d400e",
   "metadata": {},
   "outputs": [],
   "source": [
    "standardized_data = StandardScaler().fit_transform(X.toarray())"
   ]
  },
  {
   "cell_type": "markdown",
   "id": "203cb0d6-31cf-4a21-ad81-53fe357ec9ef",
   "metadata": {},
   "source": [
    "I printed out all the top features ending with 39 of them."
   ]
  },
  {
   "cell_type": "code",
   "execution_count": 20,
   "id": "1f541db7-732d-46b5-9e4f-ae99013c7f26",
   "metadata": {},
   "outputs": [
    {
     "name": "stdout",
     "output_type": "stream",
     "text": [
      "Resulting feature matrix shape: (133, 39)\n",
      "Mean value: -1.8493015100754488e-17\n",
      "Feature names: ['all' 'also' 'and' 'be' 'but' 'can' 'cause' 'don' 'for' 'in' 'is' 'it'\n",
      " 'just' 'know' 'like' 'me' 'might' 'my' 'never' 'now' 'of' 'oh' 'on' 'out'\n",
      " 're' 'so' 'that' 'the' 'this' 'time' 'to' 'up' 'was' 'we' 'what' 'when'\n",
      " 'with' 'you' 'your']\n"
     ]
    }
   ],
   "source": [
    "print(\"Resulting feature matrix shape:\", standardized_data.shape)\n",
    "print(\"Mean value:\", standardized_data.mean())\n",
    "print(\"Feature names:\", vectorizer.get_feature_names_out())\n",
    "\n",
    "without_stopwords = vectorizer.get_feature_names_out()"
   ]
  },
  {
   "cell_type": "markdown",
   "id": "724854df-000d-492b-8018-3dc9ceeb7136",
   "metadata": {},
   "source": [
    "The features that we extracted do not really surprise me. As a group of avid Taylor Swift listeners we have heard these sorts of filler words like `all`, `also`, `and`, `be`, `but`, `can`, `is`, `it`, and more thousands of times. When looking through Shayna Kothari’s Taylor Swift Lyric Search app we notice the word `all` is used 708 times in 171 songs with songs like `All Too Well`, `Come Back...Be Here`, `Everything Has Changed`, `Forever Winter`, `ME!`, and many more."
   ]
  },
  {
   "cell_type": "markdown",
   "id": "f3745138-ca43-461f-bebf-2f13bc4f7f3f",
   "metadata": {},
   "source": [
    "Words like `never` and `time` though not surprising to the average Taylor Swift listener as songs like `We are Never Ever Getting Back Together` and `Never Grow Up` float through your mind, are definitely distinct from normal conversation."
   ]
  },
  {
   "cell_type": "markdown",
   "id": "a6b5179e-da4b-4630-9e53-217e22ca22b9",
   "metadata": {},
   "source": [
    "**Removing the Stopword** include:"
   ]
  },
  {
   "cell_type": "code",
   "execution_count": 21,
   "id": "b2694ee4-2a5f-427c-8483-8189bf33edb3",
   "metadata": {},
   "outputs": [
    {
     "name": "stdout",
     "output_type": "stream",
     "text": [
      "Feature matrix of normalized token counts shape: (133, 7)\n"
     ]
    }
   ],
   "source": [
    "vectorizer = TfidfVectorizer(min_df = 0.5, use_idf = False, stop_words = 'english')\n",
    "X = vectorizer.fit_transform(all_lyrics)\n",
    "\n",
    "print(\"Feature matrix of normalized token counts shape:\", (X.toarray().shape))"
   ]
  },
  {
   "cell_type": "code",
   "execution_count": 22,
   "id": "d1421228-02fb-43bd-9ba7-765c21e900bf",
   "metadata": {
    "tags": []
   },
   "outputs": [],
   "source": [
    "standardized_data = StandardScaler().fit_transform(X.toarray())"
   ]
  },
  {
   "cell_type": "code",
   "execution_count": 23,
   "id": "05ff6e18-e998-4d8a-a8e8-a1878528db0d",
   "metadata": {
    "tags": []
   },
   "outputs": [
    {
     "name": "stdout",
     "output_type": "stream",
     "text": [
      "Resulting feature matrix shape: (133, 7)\n",
      "Mean value: 3.5298175648662336e-17\n",
      "Feature names: ['cause' 'don' 'just' 'know' 'like' 'oh' 'time']\n"
     ]
    }
   ],
   "source": [
    "print(\"Resulting feature matrix shape:\", standardized_data.shape)\n",
    "print(\"Mean value:\", standardized_data.mean())\n",
    "print(\"Feature names:\", vectorizer.get_feature_names_out())\n",
    "\n",
    "with_stopwords = vectorizer.get_feature_names_out()"
   ]
  },
  {
   "cell_type": "markdown",
   "id": "e71d7261-2722-44bb-9ac9-852845013c6d",
   "metadata": {},
   "source": [
    "These feature words are not extremely surprising as well as `oh`, `time`, and `like` seem extremely common in lyrical dat. As songs like `time` and `oh` and extremely common in songs like `The Last Time` `The Very First Night`, `Mary's Song (Oh My My My)`, and `Back To December`."
   ]
  },
  {
   "cell_type": "code",
   "execution_count": 24,
   "id": "1f3620e8-dfaa-4b7f-a641-c71068a144a5",
   "metadata": {
    "tags": []
   },
   "outputs": [],
   "source": [
    "values = np.concatenate((without_stopwords, with_stopwords))"
   ]
  },
  {
   "cell_type": "code",
   "execution_count": 25,
   "id": "f5d24115-820f-48dd-bd32-975ca0b90986",
   "metadata": {
    "tags": []
   },
   "outputs": [],
   "source": [
    "counter = Counter(values)\n",
    "over_one_occurance = []\n",
    "all_words = []\n",
    "unique_occurance = []\n",
    "for i in counter.keys():\n",
    "    if(counter[i] > 1):\n",
    "      over_one_occurance.append(i)\n",
    "    elif(counter[i] <= 1):\n",
    "     unique_occurance.append(i)\n",
    "    all_words.append(i)"
   ]
  },
  {
   "cell_type": "code",
   "execution_count": 26,
   "id": "45e8122f-193f-4bbe-9413-627779cc14e9",
   "metadata": {
    "tags": []
   },
   "outputs": [
    {
     "name": "stdout",
     "output_type": "stream",
     "text": [
      "Words that occur in both before removing stop words and having stop words: ['cause', 'don', 'just', 'know', 'like', 'oh', 'time']\n"
     ]
    }
   ],
   "source": [
    "print(\"Words that occur in both before removing stop words and having stop words:\", over_one_occurance)"
   ]
  },
  {
   "cell_type": "code",
   "execution_count": 27,
   "id": "8ff6c3f4-eced-4dd3-9261-32a86276b17d",
   "metadata": {
    "tags": []
   },
   "outputs": [
    {
     "name": "stdout",
     "output_type": "stream",
     "text": [
      "Words that occur only in having stop words or only in removing stop words: ['all', 'also', 'and', 'be', 'but', 'can', 'for', 'in', 'is', 'it', 'me', 'might', 'my', 'never', 'now', 'of', 'on', 'out', 're', 'so', 'that', 'the', 'this', 'to', 'up', 'was', 'we', 'what', 'when', 'with', 'you', 'your']\n"
     ]
    }
   ],
   "source": [
    "print(\"Words that occur only in having stop words or only in removing stop words:\", unique_occurance)"
   ]
  },
  {
   "cell_type": "code",
   "execution_count": 28,
   "id": "59d1550d-7b83-4877-8d1a-1010376e3882",
   "metadata": {
    "tags": []
   },
   "outputs": [
    {
     "name": "stdout",
     "output_type": "stream",
     "text": [
      "All Words: ['all', 'also', 'and', 'be', 'but', 'can', 'cause', 'don', 'for', 'in', 'is', 'it', 'just', 'know', 'like', 'me', 'might', 'my', 'never', 'now', 'of', 'oh', 'on', 'out', 're', 'so', 'that', 'the', 'this', 'time', 'to', 'up', 'was', 'we', 'what', 'when', 'with', 'you', 'your']\n"
     ]
    }
   ],
   "source": [
    "print(\"All Words:\", all_words)"
   ]
  },
  {
   "cell_type": "markdown",
   "id": "acdf7c25-76b8-4347-a49d-926ea8805f3a",
   "metadata": {
    "tags": []
   },
   "source": [
    "## 3. Simple Linear Regression on Year <a name = \"year_regression\"></a>\n",
    "Interested in exploring whether through lyrics we can predict the year Taylor Swift's song was released and see whether there were any noticible patterns I utilized the whole dataset as a training set and also a train test split of 70/30 to see how well my model does at taking in lyrics and predicting the year.\n",
    "\n",
    "- [Predicting using all the Data](#predicting_will_all_data)\n",
    "- [Train Test Split Y Years](#train_test_split)"
   ]
  },
  {
   "cell_type": "markdown",
   "id": "5af88b2e-125a-4931-a81c-b0145d4664ab",
   "metadata": {},
   "source": [
    "Showcasing the entire full_dataframe's Album to map the year to the Album and begin predicting through Linear Regression model based on lyrics which year her song is released in."
   ]
  },
  {
   "cell_type": "code",
   "execution_count": 29,
   "id": "eef2fe67-d010-4682-9650-c8231bc20bbe",
   "metadata": {
    "tags": []
   },
   "outputs": [
    {
     "data": {
      "text/plain": [
       "array(['taylor swift', 'fearless', 'speak now', 'red', '1989',\n",
       "       'reputation', 'lover', 'folklore', 'evermore', 'midnights'],\n",
       "      dtype=object)"
      ]
     },
     "execution_count": 29,
     "metadata": {},
     "output_type": "execute_result"
    }
   ],
   "source": [
    "full_dataframe['Album'].unique()\n",
    "#https://www.radiotimes.com/audio/taylor-swift-albums-in-order/"
   ]
  },
  {
   "cell_type": "markdown",
   "id": "762ce06c-f324-4560-9690-071e30add232",
   "metadata": {},
   "source": [
    "Mapping the songs year of released based on when the album was released. We have a total of 10 albums represented–which is all of Taylor Swift's **Studio Albums**. As stated before we did not include her four re-recordings, any live albums, EPs, Compilations, and Box sets, which amount to an additional 38."
   ]
  },
  {
   "cell_type": "code",
   "execution_count": 30,
   "id": "185beedf-026d-4a4c-a91c-d6130267134b",
   "metadata": {
    "tags": []
   },
   "outputs": [],
   "source": [
    "matching_album_name_to_year = {\n",
    "    'taylor swift': 2006,\n",
    "    'fearless': 2008,\n",
    "    'speak now': 2010,\n",
    "    'red': 2012,\n",
    "    '1989': 2014,\n",
    "    'reputation': 2017,\n",
    "    'lover': 2019,\n",
    "    'folklore': 2020,\n",
    "    'evermore': 2020,\n",
    "    'midnights': 2022,\n",
    "}"
   ]
  },
  {
   "cell_type": "code",
   "execution_count": 31,
   "id": "e5502438-0d66-4bf2-9851-6ed7275e6ef2",
   "metadata": {
    "tags": []
   },
   "outputs": [],
   "source": [
    "full_dataframe['Year'] = full_dataframe['Album'].map(matching_album_name_to_year)"
   ]
  },
  {
   "cell_type": "code",
   "execution_count": 32,
   "id": "3179c41e-70f5-4554-a939-7835f9099223",
   "metadata": {
    "tags": []
   },
   "outputs": [
    {
     "data": {
      "text/html": [
       "<div>\n",
       "<style scoped>\n",
       "    .dataframe tbody tr th:only-of-type {\n",
       "        vertical-align: middle;\n",
       "    }\n",
       "\n",
       "    .dataframe tbody tr th {\n",
       "        vertical-align: top;\n",
       "    }\n",
       "\n",
       "    .dataframe thead th {\n",
       "        text-align: right;\n",
       "    }\n",
       "</style>\n",
       "<table border=\"1\" class=\"dataframe\">\n",
       "  <thead>\n",
       "    <tr style=\"text-align: right;\">\n",
       "      <th></th>\n",
       "      <th>Album</th>\n",
       "      <th>Song Name</th>\n",
       "      <th>Lyrics</th>\n",
       "      <th>Danceability</th>\n",
       "      <th>Energy</th>\n",
       "      <th>Key</th>\n",
       "      <th>Loudness</th>\n",
       "      <th>Mode</th>\n",
       "      <th>Speechiness</th>\n",
       "      <th>Acousticness</th>\n",
       "      <th>Instrumentalness</th>\n",
       "      <th>Liveness</th>\n",
       "      <th>Valence</th>\n",
       "      <th>Tempo</th>\n",
       "      <th>Duration_ms</th>\n",
       "      <th>Time Signature</th>\n",
       "      <th>Lyrics Length</th>\n",
       "      <th>Year</th>\n",
       "    </tr>\n",
       "  </thead>\n",
       "  <tbody>\n",
       "    <tr>\n",
       "      <th>0</th>\n",
       "      <td>taylor swift</td>\n",
       "      <td>mary's song (oh my my my)</td>\n",
       "      <td>She said I was seven and you were nine I looke...</td>\n",
       "      <td>0.403</td>\n",
       "      <td>0.627</td>\n",
       "      <td>2.0</td>\n",
       "      <td>-5.280</td>\n",
       "      <td>1.0</td>\n",
       "      <td>0.0292</td>\n",
       "      <td>0.01770</td>\n",
       "      <td>0.0</td>\n",
       "      <td>0.182</td>\n",
       "      <td>0.374</td>\n",
       "      <td>74.900</td>\n",
       "      <td>213080.0</td>\n",
       "      <td>4.0</td>\n",
       "      <td>1602</td>\n",
       "      <td>2006</td>\n",
       "    </tr>\n",
       "    <tr>\n",
       "      <th>1</th>\n",
       "      <td>taylor swift</td>\n",
       "      <td>a perfectly good heart</td>\n",
       "      <td>Why would you wanna break A perfectly good hea...</td>\n",
       "      <td>0.483</td>\n",
       "      <td>0.751</td>\n",
       "      <td>4.0</td>\n",
       "      <td>-5.726</td>\n",
       "      <td>1.0</td>\n",
       "      <td>0.0365</td>\n",
       "      <td>0.00349</td>\n",
       "      <td>0.0</td>\n",
       "      <td>0.128</td>\n",
       "      <td>0.268</td>\n",
       "      <td>156.092</td>\n",
       "      <td>220147.0</td>\n",
       "      <td>4.0</td>\n",
       "      <td>1214</td>\n",
       "      <td>2006</td>\n",
       "    </tr>\n",
       "    <tr>\n",
       "      <th>2</th>\n",
       "      <td>taylor swift</td>\n",
       "      <td>tim mcgraw</td>\n",
       "      <td>He said the way my blue eyes shined Put those ...</td>\n",
       "      <td>0.580</td>\n",
       "      <td>0.491</td>\n",
       "      <td>0.0</td>\n",
       "      <td>-6.462</td>\n",
       "      <td>1.0</td>\n",
       "      <td>0.0251</td>\n",
       "      <td>0.57500</td>\n",
       "      <td>0.0</td>\n",
       "      <td>0.121</td>\n",
       "      <td>0.425</td>\n",
       "      <td>76.009</td>\n",
       "      <td>232107.0</td>\n",
       "      <td>4.0</td>\n",
       "      <td>1801</td>\n",
       "      <td>2006</td>\n",
       "    </tr>\n",
       "    <tr>\n",
       "      <th>3</th>\n",
       "      <td>taylor swift</td>\n",
       "      <td>cold as you</td>\n",
       "      <td>You have a way of coming easily to me And when...</td>\n",
       "      <td>0.418</td>\n",
       "      <td>0.482</td>\n",
       "      <td>5.0</td>\n",
       "      <td>-5.769</td>\n",
       "      <td>1.0</td>\n",
       "      <td>0.0266</td>\n",
       "      <td>0.21700</td>\n",
       "      <td>0.0</td>\n",
       "      <td>0.123</td>\n",
       "      <td>0.261</td>\n",
       "      <td>175.558</td>\n",
       "      <td>239013.0</td>\n",
       "      <td>4.0</td>\n",
       "      <td>1225</td>\n",
       "      <td>2006</td>\n",
       "    </tr>\n",
       "    <tr>\n",
       "      <th>4</th>\n",
       "      <td>taylor swift</td>\n",
       "      <td>the outside</td>\n",
       "      <td>I didn't know what I would find When I went lo...</td>\n",
       "      <td>0.589</td>\n",
       "      <td>0.805</td>\n",
       "      <td>5.0</td>\n",
       "      <td>-4.055</td>\n",
       "      <td>1.0</td>\n",
       "      <td>0.0293</td>\n",
       "      <td>0.00491</td>\n",
       "      <td>0.0</td>\n",
       "      <td>0.240</td>\n",
       "      <td>0.591</td>\n",
       "      <td>112.982</td>\n",
       "      <td>207107.0</td>\n",
       "      <td>4.0</td>\n",
       "      <td>1114</td>\n",
       "      <td>2006</td>\n",
       "    </tr>\n",
       "  </tbody>\n",
       "</table>\n",
       "</div>"
      ],
      "text/plain": [
       "          Album                  Song Name  \\\n",
       "0  taylor swift  mary's song (oh my my my)   \n",
       "1  taylor swift     a perfectly good heart   \n",
       "2  taylor swift                 tim mcgraw   \n",
       "3  taylor swift                cold as you   \n",
       "4  taylor swift                the outside   \n",
       "\n",
       "                                              Lyrics  Danceability  Energy  \\\n",
       "0  She said I was seven and you were nine I looke...         0.403   0.627   \n",
       "1  Why would you wanna break A perfectly good hea...         0.483   0.751   \n",
       "2  He said the way my blue eyes shined Put those ...         0.580   0.491   \n",
       "3  You have a way of coming easily to me And when...         0.418   0.482   \n",
       "4  I didn't know what I would find When I went lo...         0.589   0.805   \n",
       "\n",
       "   Key  Loudness  Mode  Speechiness  Acousticness  Instrumentalness  Liveness  \\\n",
       "0  2.0    -5.280   1.0       0.0292       0.01770               0.0     0.182   \n",
       "1  4.0    -5.726   1.0       0.0365       0.00349               0.0     0.128   \n",
       "2  0.0    -6.462   1.0       0.0251       0.57500               0.0     0.121   \n",
       "3  5.0    -5.769   1.0       0.0266       0.21700               0.0     0.123   \n",
       "4  5.0    -4.055   1.0       0.0293       0.00491               0.0     0.240   \n",
       "\n",
       "   Valence    Tempo  Duration_ms  Time Signature  Lyrics Length  Year  \n",
       "0    0.374   74.900     213080.0             4.0           1602  2006  \n",
       "1    0.268  156.092     220147.0             4.0           1214  2006  \n",
       "2    0.425   76.009     232107.0             4.0           1801  2006  \n",
       "3    0.261  175.558     239013.0             4.0           1225  2006  \n",
       "4    0.591  112.982     207107.0             4.0           1114  2006  "
      ]
     },
     "execution_count": 32,
     "metadata": {},
     "output_type": "execute_result"
    }
   ],
   "source": [
    "full_dataframe.head()"
   ]
  },
  {
   "cell_type": "code",
   "execution_count": 33,
   "id": "cae7c78a-0040-4ddb-8efd-d8dbd54636aa",
   "metadata": {
    "tags": []
   },
   "outputs": [],
   "source": [
    "all_years = full_dataframe['Year'].values.tolist()"
   ]
  },
  {
   "cell_type": "markdown",
   "id": "5549338e-b204-4305-9abe-20805e09cffb",
   "metadata": {},
   "source": [
    "### Predicting using all the Data<a name = \"predicting_will_all_data\"></a>\n",
    "\n",
    "I trained my regressor on the scaled input feature matrix and the years based on the year the song/album was released. I then use the fitted regressor to predict new y values given the same input: scaled input feature matrix. While this does promote overfitting because of the dataset and the fact it is based on time this was why I wanted to run on the whole dataset.\n",
    "Below I showcase the predicted album dates as a function of the true album dates and include the line of best fit with the confidence region. I do want to point out the residual plot through random does display a bit of a pattern, which can point out as a concern, and after transforming using squared and differrent powers the residual plots do remain similar."
   ]
  },
  {
   "cell_type": "code",
   "execution_count": 34,
   "id": "9f677d42-4ff8-4108-9cea-32c51151dc58",
   "metadata": {
    "tags": []
   },
   "outputs": [
    {
     "data": {
      "image/png": "[encoded data removed]",
      "text/plain": [
       "<Figure size 640x480 with 1 Axes>"
      ]
     },
     "metadata": {},
     "output_type": "display_data"
    }
   ],
   "source": [
    "# code here\n",
    "reg = LinearRegression().fit(standardized_data, all_years)\n",
    "y_hat = reg.predict(standardized_data)\n",
    "\n",
    "# use https://seaborn.pydata.org/generated/seaborn.regplot.html\n",
    "x = sns.regplot(x=all_years , y = y_hat);\n",
    "x.set(xlabel = \"Album-Year-Labels\", ylabel = \"Y Predicted\", title = \"Actual Years vs Predicted Years\");"
   ]
  },
  {
   "cell_type": "markdown",
   "id": "78d817af-6a3c-4533-85d2-59cd9dc3bae6",
   "metadata": {},
   "source": [
    "The confidence region is relatively narrow, which is suggesting that the model is confident in its predictions. It is especially narrow in the 2015-ish region showcasing more confidence in that specific area of year. One noticable distress is the fact that there is quite a bit of scatter around the line of best fit suggesting that there is some noise in the data or the model is not able to perfectly capture all the factors that influence an album release date, in the future when there is more data available we could potentially look at Taylor Swift's mood, fashion, tour, etc. to predict the year better.\n",
    "\n",
    "Overall, the model is able to predict album release dates with some accuracy and good confidence, but there are rooms for improvement, below we will explore how utilizing tags and lemmatizers could potentially assist!"
   ]
  },
  {
   "cell_type": "code",
   "execution_count": 35,
   "id": "37328856-cec4-4dbe-b377-c4a2fdf72e32",
   "metadata": {
    "tags": []
   },
   "outputs": [
    {
     "data": {
      "image/png": "[encoded data removed]",
      "text/plain": [
       "<Figure size 640x480 with 1 Axes>"
      ]
     },
     "metadata": {},
     "output_type": "display_data"
    }
   ],
   "source": [
    "sns.residplot(x = all_years, y = (all_years - y_hat));"
   ]
  },
  {
   "cell_type": "markdown",
   "id": "e20b0142-9b50-4701-b71c-9db2b22c8a09",
   "metadata": {},
   "source": [
    "Some potential pattern, but mostly random so showcases that we could try transforming the data, but as I've tried with powers the model does not change dramatically."
   ]
  },
  {
   "cell_type": "code",
   "execution_count": 36,
   "id": "e9a0531f-d4f6-401b-92c2-95a5b0da140b",
   "metadata": {
    "tags": []
   },
   "outputs": [
    {
     "name": "stdout",
     "output_type": "stream",
     "text": [
      "Naive R^2: 0.17122171999312596\n",
      "Mean proper, non-overfitted, cross-validated R^2 (topics): -47.472\n"
     ]
    }
   ],
   "source": [
    "def compare_scores(feature_matrix, all_years):\n",
    "    # fit Linear Regression object\n",
    "    reg = LinearRegression().fit(feature_matrix, all_years)\n",
    "    print(\"Naive R^2:\", reg.score(feature_matrix, all_years))\n",
    "    r2 = np.mean(cross_val_score(reg, feature_matrix, all_years, scoring='r2'))\n",
    "    print(\"Mean proper, non-overfitted, cross-validated R^2 (topics):\", round(np.mean(cross_val_score(reg, feature_matrix, all_years, scoring='r2')),3))\n",
    "\n",
    "compare_scores(vectorizer.fit_transform(all_lyrics), all_years)"
   ]
  },
  {
   "cell_type": "markdown",
   "id": "4839dcee-bc76-4628-806e-9ecf42145c9d",
   "metadata": {},
   "source": [
    "The Naive $R^2$ measures the proportion of the variance in the dependent variable, the $\\hat{y}$ which is the predicted values, that is predictable from the independent variable, the features – Taylor Swift's lyrics. Thus our 0.1712 indicates that roughly 17.12% of the variance in the year the song is released is explained by the song lyrics. Another way to say this is that the model captures 17.12% of the variability in your data. Keep in mind this is a low $R^2$ value, suggesting that the model may not be explaining a significant portion of the variance."
   ]
  },
  {
   "cell_type": "markdown",
   "id": "3cdaae66-dc70-44c0-9f9a-2d19823c6292",
   "metadata": {},
   "source": [
    "As pointed out above we are fitting our model on all our data, aka all our data is training data and none are test data, thus we will be prone to overfitting. This is definitely reflected in our mean proper, non-overfitted, cross-validated $R^2$ (topics) that came out to be -47.472. The value of -47.472 suggests that, on average, my model is performing poorly when evaluated on different subsets of the data. This showcases that our model is not good for the data, which indicates that this model is not capturing the underlying patterns in the data and is probably overfitting."
   ]
  },
  {
   "cell_type": "markdown",
   "id": "0d359cb5-35e6-435e-a13d-f77da2990f60",
   "metadata": {},
   "source": [
    "### Train Test Split Y years <a name = \"train_test_split\"></a>\n",
    "\n",
    "I trained my regressor on the scaled input feature matrix and the years based on the year the song/album was released. This time I did a train test split of 70/30 to see if we can have a better mean proper, non-overfitted, cross-validated $R^2$ that will avoid overfitting and have a higher $R^2$. I then use the fitted regressor to predict new y values given the same input: scaled input feature matrix. \n",
    "Below I showcase the predicted album dates as a function of the true album dates and include the line of best fit with the confidence region. I do want to point out the residual plot is random."
   ]
  },
  {
   "cell_type": "code",
   "execution_count": 37,
   "id": "8495f269-0858-4924-8998-862e89b0ea77",
   "metadata": {
    "tags": []
   },
   "outputs": [],
   "source": [
    "X_train, X_test, y_train, y_test = train_test_split(all_lyrics, all_years, test_size=0.3, stratify = all_years, random_state=42)"
   ]
  },
  {
   "cell_type": "code",
   "execution_count": 38,
   "id": "06464a82-04df-4fad-9e37-22fe70758d93",
   "metadata": {
    "tags": []
   },
   "outputs": [
    {
     "data": {
      "image/png": "[encoded data removed]",
      "text/plain": [
       "<Figure size 640x480 with 1 Axes>"
      ]
     },
     "metadata": {},
     "output_type": "display_data"
    }
   ],
   "source": [
    "X_train_fitted = vectorizer.fit_transform(X_train)\n",
    "X_transform_test = vectorizer.transform(X_test)\n",
    "\n",
    "\n",
    "#X_test\n",
    "# code here\n",
    "reg = LinearRegression().fit(X_train_fitted, y_train)\n",
    "y_hat = reg.predict(X_transform_test)\n",
    "\n",
    "# use https://seaborn.pydata.org/generated/seaborn.regplot.html\n",
    "x = sns.regplot(x=y_test , y = y_hat);\n",
    "x.set(xlabel = \"Album-Year-Labels\", ylabel = \"Y Predicted\", title = \"Actual Years vs Predicted Years\");\n"
   ]
  },
  {
   "cell_type": "markdown",
   "id": "866403f9-615c-4a98-997e-1d3d38d4208f",
   "metadata": {},
   "source": [
    "The confidence region is relatively wider, especially compared to the confidence interval above. There is more confidence in year 2013, which suggests that the model is more confident around this time period. Like when we ran on the entire dataset the model showcases a large bit of scatter around the line of best fit potentailly suggesting another model that could capture more factors to predict the year. We also want to recommend the same thing as above, which is in the future when there is more data available we could potentially look at Taylor Swift's mood, fashion, tour, etc. to predict the year better.\n",
    "\n",
    "Overall, the model is able to predict album release dates with some accuracy and okay confidence, but there are rooms for improvement, below we will explore how utilizing tags and lemmatizers could potentially assist!"
   ]
  },
  {
   "cell_type": "code",
   "execution_count": 39,
   "id": "b78b1efe-ec6d-477d-9a8a-00dfb922bba0",
   "metadata": {
    "tags": []
   },
   "outputs": [
    {
     "data": {
      "image/png": "[encoded data removed]",
      "text/plain": [
       "<Figure size 640x480 with 1 Axes>"
      ]
     },
     "metadata": {},
     "output_type": "display_data"
    }
   ],
   "source": [
    "sns.residplot(x = y_test, y = (y_test - y_hat));"
   ]
  },
  {
   "cell_type": "markdown",
   "id": "0be5b39c-43f9-4139-aaae-1d137d684217",
   "metadata": {
    "tags": []
   },
   "source": [
    "## 4. Lemmas <a name = \"lemmas\"></a>"
   ]
  },
  {
   "cell_type": "markdown",
   "id": "1d55124a-e2e4-4ac8-b27a-bde7bdd64a4f",
   "metadata": {},
   "source": [
    "This function, `lemmatizer`, takes a lyric of each song in the Taylor Swift album and a spaCy NLP object (the en_core_web_sm - small version of the spaCy NLP object) as input. It processes the document with spaCy, iterates through the tokens, and appends the lemmatized form of each non-punctuation and non-whitespace token to a list. The result is a list of lemmatized tokens.\n",
    "\n",
    "Using the resulting lemmatized tokens we scale the resulting features. And then using compare_scores function we fit a linear regressor on the scaled lemma features and report both the \"naïve\" and the cross-validated scores.\n",
    "\n",
    "**Hypothesis**: Whether lemmatized tokens and utilizing en_core_web_sm could model our Taylor Swift Lyrics to year of song release better."
   ]
  },
  {
   "cell_type": "markdown",
   "id": "859e156c-cb91-4317-baaf-a14571414ef3",
   "metadata": {},
   "source": [
    "The benefits of using lemmatization include improved text analysis, potential increase of accuracy in the model, reduction of data sparsity, improved understanding of the text and standardization of the text data. \n",
    "Lemmatization reduces words to their base form helping the model identify similarities and relationships between the words. Though our dataset is 133 rows (133 songs) lemmatization can potentially help simplify the vocabulary and remove unnecessary variations–though personally I think our analysis in BERT later highlights how Taylor Swift's songs are very similar and thus lemmatization may have little benefit in this aspect as it would normally have. By reducing data sparsity Lemmatization can help the model learn effective representation of the text. Lemmatization brings all words to a common form ensuring all words are represented consistently, potentially aiding our model."
   ]
  },
  {
   "cell_type": "markdown",
   "id": "a3f6d0e9-b29a-4295-8550-79a40f9745f1",
   "metadata": {},
   "source": [
    "Here we utilize en_core_web_sm only because while it is a relatively small model compared to other spaCy models like en_core_web_md and en_core_web_lg it is ideal for its quickness, good accuracy, general domain training, size, and especially since we are utilizing a relatively small dataset. I also tried utilizing en_core_web_lg and it does not produce largely different results."
   ]
  },
  {
   "cell_type": "code",
   "execution_count": 40,
   "id": "fcf33202-3b89-45c9-b2c6-a3157f581bbd",
   "metadata": {
    "tags": []
   },
   "outputs": [],
   "source": [
    "# code here\n",
    "# Load spaCy model\n",
    "nlp = spacy.load('en_core_web_sm')\n",
    "\n",
    "def lemmatizer(doc, nlp = nlp):\n",
    "    \n",
    "    tokenize_values = []\n",
    "    \n",
    "    doc = nlp(doc)\n",
    "    \n",
    "    for token in doc:\n",
    "        # remove punctuation and any \"pure\" whitespace tokens\n",
    "        if not token.is_punct and not token.is_space:\n",
    "            tokenize_values.append(token.lemma_)\n",
    "    return tokenize_values"
   ]
  },
  {
   "cell_type": "code",
   "execution_count": 41,
   "id": "647d0bcc-ee50-4f6a-8a34-2aaad1582dba",
   "metadata": {
    "tags": []
   },
   "outputs": [],
   "source": [
    "vectorizer_add_lemmatizer = TfidfVectorizer(token_pattern = None, min_df = 2, use_idf = True, max_features = 12, tokenizer = lemmatizer)"
   ]
  },
  {
   "cell_type": "markdown",
   "id": "b8bb5fbf-1b67-40f1-a417-8c144cfc60f9",
   "metadata": {},
   "source": [
    "The resulting feature matrix (X_lemma) is then standardized using the StandardScaler. "
   ]
  },
  {
   "cell_type": "code",
   "execution_count": 42,
   "id": "79216f94-7324-400b-97b9-4900f37631a3",
   "metadata": {
    "tags": []
   },
   "outputs": [
    {
     "name": "stdout",
     "output_type": "stream",
     "text": [
      "Naive R^2: 0.2763729432896679\n",
      "Mean proper, non-overfitted, cross-validated R^2 (topics): -53.587\n"
     ]
    }
   ],
   "source": [
    "X_lemma = vectorizer_add_lemmatizer.fit_transform(all_lyrics)\n",
    "\n",
    "standardized_data_lemma = StandardScaler().fit_transform(X_lemma.toarray())\n",
    "\n",
    "compare_scores(standardized_data_lemma, all_years)"
   ]
  },
  {
   "cell_type": "markdown",
   "id": "9108f26e-2984-43ed-a932-0674d4f79847",
   "metadata": {},
   "source": [
    "The Naive $R^2$ measures the proportion of the variance in the dependent variable, the $\\hat{y}$ which is the predicted values, that is predictable from the independent variable, the features – Taylor Swift's lyrics. Thus our 0.2763 indicates that roughly 27.63% of the variance in the year the song is released is explained by the song lyrics. Another way to say this is that the model captures 27.63% of the variability in your data. Keep in mind this is a low $R^2$ value, suggesting that the model may not be explaining a significant portion of the variance. This is significantly better than our linear regression!"
   ]
  },
  {
   "cell_type": "markdown",
   "id": "c340b3cd-ade3-4ab4-8df4-19eb4516d123",
   "metadata": {},
   "source": [
    "As pointed out above we are fitting our model on all our data, aka all our data is training data and none are test data, thus we will be prone to overfitting. This is definitely reflected in our mean proper, non-overfitted, cross-validated $R^2$ (topics) that came out to be -53.587. The value of -53.587 suggests that, on average, my model is performing poorly when evaluated on different subsets of the data. This showcases that our model is not good for the data, which indicates that this model is not capturing the underlying patterns in the data and is probably overfitting."
   ]
  },
  {
   "cell_type": "markdown",
   "id": "3a3e67f6-cfb7-4417-b1ff-c6f57c442ec8",
   "metadata": {
    "tags": []
   },
   "source": [
    "### Entities and POS tags\n",
    "\n",
    "To discover more about the text–Taylor Swift song lyrics–we utilize spaCy a free open-source library for advanced Natural Language Processing in Python. spaCy is used to build information extraction systems, which below I utilize its Part-of-speech (PS) Tagging which assigns word types to tokens. I specifically utilize adjectives, pronouns, prepositions, conjuctions, adverbs, nouns, numbers, etc. I also use Named Entities which is a \"real-world object\" that is assigned a name and spaCy can recognize these various types of named entities in a document. The named entities that I use are Person, Money, and Time. I specially chose these for Taylor Swift's lyrics as looking through all her albums she has mentions of all these tags. For example in `The Lucky One`, `Blank Space`, and `Anti-Hero` she explains how money has changed or caused people to take an action, in 139 songs Taylor Swift mentions `he`, for example, in `Begin Again` she sings 'He didn't like it when I wore high heels' and in `Better Man` she has many mentions of `he` and `they` not believing in her. Her song `22` is an ode to her turning 22 and has many mentions of `time` and many of her songs mention how time is fleeting or when someone calls. \n",
    "\n",
    "I also calculate and showcase the naïve and a cross-validated $R^2$ value for the linear regression prediction of date of the song release from these features.\n",
    "\n",
    "**Hypothesis**: In an effort to compare whether specific tagging techniques could assist in the creation of a model and if it could produce better results then pushing all the song lyrics of the song in."
   ]
  },
  {
   "cell_type": "code",
   "execution_count": 96,
   "id": "336ef980-fc21-4bc9-9da8-10c9897242d7",
   "metadata": {
    "tags": []
   },
   "outputs": [
    {
     "name": "stdout",
     "output_type": "stream",
     "text": [
      "Shape of the matrix: (133, 13)\n"
     ]
    }
   ],
   "source": [
    "valid_ent = ['PERSON', 'MONEY', 'TIME']\n",
    "valid_pos = ['ADJ', 'ADV', 'AUX', 'CCONJ', 'DET', 'NOUN', 'PRON', 'PROPN', 'VERB', 'NUM']\n",
    "\n",
    "# Load spaCy model\n",
    "nlp = spacy.load('en_core_web_sm')\n",
    "    \n",
    "tokenize_values = []\n",
    "    \n",
    "value = 0\n",
    "input_array = [0, 0, 0, 0, 0, 0, 0, 0, 0, 0, 0, 0, 0]\n",
    "for doc in all_lyrics:\n",
    "    dictionary_saved = {'PERSON': 0, 'MONEY': 0, 'TIME': 0, 'ADJ': 0, 'ADV': 0, 'AUX': 0, 'CCONJ': 0, 'DET': 0, 'NOUN': 0, \n",
    "                   'PRON': 0, 'PROPN': 0, 'VERB': 0, 'NUM':0}\n",
    "    doc = nlp(doc)\n",
    "    # Entities\n",
    "    for ent in doc.ents:\n",
    "        if(ent.label_ in valid_ent):\n",
    "            value = value + 1\n",
    "            dictionary_saved[ent.label_] = dictionary_saved.get(ent.label_) + 1\n",
    "    for token in doc:\n",
    "        if(token.pos_ in valid_pos):\n",
    "            value = value + 1\n",
    "            dictionary_saved[token.pos_] = dictionary_saved.get(token.pos_) + 1\n",
    "    new_row = []\n",
    "    for i in dictionary_saved.values():\n",
    "        new_row.append(i)\n",
    "        \n",
    "    input_array=np.vstack([input_array, new_row])\n",
    "input_array = np.delete(input_array, 0, 0)\n",
    "print(\"Shape of the matrix:\", input_array.shape)\n",
    "\n",
    "standardized_count_of_feature_matrix = StandardScaler().fit_transform(input_array)"
   ]
  },
  {
   "cell_type": "markdown",
   "id": "ea29acd7-02fb-4501-b628-7989609039c5",
   "metadata": {},
   "source": [
    "Because we use 13 different tags and have 133 songs we produce a matrix of 133 by 13."
   ]
  },
  {
   "cell_type": "code",
   "execution_count": 97,
   "id": "6bacae9e-65f7-4a7d-afd1-ee36b8bf1693",
   "metadata": {
    "tags": []
   },
   "outputs": [
    {
     "name": "stdout",
     "output_type": "stream",
     "text": [
      "Naive R^2: 0.2476167107293834\n",
      "Mean proper, non-overfitted, cross-validated R^2 (topics): -52.3\n"
     ]
    }
   ],
   "source": [
    "compare_scores(standardized_count_of_feature_matrix, all_years)"
   ]
  },
  {
   "cell_type": "markdown",
   "id": "38f1d756-8bb2-4bc7-86d4-4fdb3c82ee5c",
   "metadata": {},
   "source": [
    "The Naive $R^2$ measures the proportion of the variance in the dependent variable, the $\\hat{y}$ which is the predicted values, that is predictable from the independent variable, the features – thirteen tags from Taylor Swift's lyrics. Thus our 0.2476 indicates that roughly 24.76% of the variance in the year the song is released is explained by the thirteen tags. Another way to say this is that the model captures 24.76% of the variability in your data. Keep in mind this is a low $R^2$ value, suggesting that the model may not be explaining a significant portion of the variance.\n",
    "\n",
    "As pointed out above we are fitting our model on all our data, aka all our data is training data and none are test data, thus we will be prone to overfitting. This is definitely reflected in our mean proper, non-overfitted, cross-validated $R^2$ (topics) that came out to be -52.3. The value of -52.3 suggests that, on average, my model is performing poorly when evaluated on different subsets of the data. This showcases that our model is not good for the data, which indicates that this model is not capturing the underlying patterns in the data and is probably overfitting."
   ]
  },
  {
   "cell_type": "code",
   "execution_count": 98,
   "id": "3235d04d-3711-4764-9052-575e7c4134c3",
   "metadata": {
    "tags": []
   },
   "outputs": [
    {
     "name": "stdout",
     "output_type": "stream",
     "text": [
      "Shape of resulting combined matrix: (133, 25)\n",
      "Naive R^2: 0.39205423370877446\n",
      "Mean proper, non-overfitted, cross-validated R^2 (topics): -51.864\n"
     ]
    }
   ],
   "source": [
    "# code here\n",
    "combined_scaled_lemma_and_scaled_entity = np.concatenate((standardized_data_lemma, standardized_count_of_feature_matrix), axis=1)\n",
    "print(\"Shape of resulting combined matrix:\", combined_scaled_lemma_and_scaled_entity.shape)\n",
    "compare_scores(combined_scaled_lemma_and_scaled_entity, all_years)"
   ]
  },
  {
   "cell_type": "markdown",
   "id": "47085099-c677-4954-9d1b-92be20ec7155",
   "metadata": {},
   "source": [
    "The Naive $R^2$ measures the proportion of the variance in the dependent variable, the $\\hat{y}$ which is the predicted values, that is predictable from the independent variable, the features – thirteen tags from Taylor Swift's lyrics. Thus our 0.3920 indicates that roughly 39.20% of the variance in the year the song is released is explained by the thirteen tags. Another way to say this is that the model captures 39.20% of the variability in your data. Keep in mind this is a low $R^2$ value, suggesting that the model may not be explaining a significant portion of the variance. But it is definitely an improvement from our earlier lemmatozatopm that did not include standardized_data_lemma and a much larger improvement from linear regression.\n",
    "\n",
    "As pointed out above we are fitting our model on all our data, aka all our data is training data and none are test data, thus we will be prone to overfitting. This is definitely reflected in our mean proper, non-overfitted, cross-validated $R^2$ (topics) that came out to be -51.864. The value of -51.864 suggests that, on average, my model is performing poorly when evaluated on different subsets of the data. This showcases that our model is not good for the data, which indicates that this model is not capturing the underlying patterns in the data and is probably overfitting."
   ]
  },
  {
   "cell_type": "code",
   "execution_count": 99,
   "id": "58bacfcb-0584-4772-a0ec-c15b36befcaf",
   "metadata": {
    "tags": []
   },
   "outputs": [],
   "source": [
    "full_set_of_features = StandardScaler(with_mean = False).fit_transform(X_lemma.toarray())"
   ]
  },
  {
   "cell_type": "code",
   "execution_count": 100,
   "id": "603318af-5819-40c4-adc7-ea07ddcb2b80",
   "metadata": {
    "tags": []
   },
   "outputs": [
    {
     "name": "stdout",
     "output_type": "stream",
     "text": [
      "Shape of the resulting feature matrix: (133, 10)\n",
      "Naive R^2: 0.2730082753731685\n",
      "Mean proper, non-overfitted, cross-validated R^2 (topics): -51.814\n"
     ]
    }
   ],
   "source": [
    "all_years_labels_array = np.array(all_years)\n",
    "\n",
    "# selected the 10 most informative features\n",
    "selector = SelectKBest(mutual_info_regression, k=10)\n",
    "best_twenty_features_selected = selector.fit_transform(full_set_of_features, y = all_years_labels_array)\n",
    "print(\"Shape of the resulting feature matrix:\", best_twenty_features_selected.shape)\n",
    "\n",
    "# compare_scores for the selected features\n",
    "compare_scores(best_twenty_features_selected, all_years_labels_array)"
   ]
  },
  {
   "cell_type": "markdown",
   "id": "bf39701a-4306-4c6b-b84f-b2a3e2366ab0",
   "metadata": {},
   "source": [
    "Utilizing KBest to select the top ten most informative features and see whether this will improve or the r-squared will increase. As we see there is virtually no change in our mean proper, non-overfitted, cross-validated $R^2$ as it improves slightly. And the naive $R^2$ lowers."
   ]
  },
  {
   "cell_type": "markdown",
   "id": "166a52e8-bee1-4295-a713-414a03db5ff3",
   "metadata": {
    "tags": []
   },
   "source": [
    "## 5. Testing if the song is High Energy or Not <a name = \"high_energy\"></a>\n",
    "- Danceability: \"how suitable a track is for dancing based on a combination of musical elements including temp, rhthm stability, beat strength, and overall regularity. A value of 0.0 is least danceable and 1.0 is most danceable\"\n",
    "- Energy: perceptual measure of intensity and activity. Energetic tracks are fast, loud, and noisy.\n",
    "- Instrumentalness: track contains no vocals - \"ohh\" and \"ahh\" sounds are treated as instrumental in this context and rap or spoken word tracks are clearly \"vocal.\" The close instrumentalness is to 1 greater likelihood track contains no vocal content.\n",
    "- Key: key the track is in. (0 = C, 1 = C#/Db, 2 = D...) **removed**\n",
    "- Liveness: presence of an auddience in the recording. Higher represents if the track is live.\n",
    "- Loudness: overall loudness of a track. Quality of sound that is the primary psychological correlate of physical strength (amplitude)\n",
    "- Mode: modality (major or minor) of a track.\n",
    "- Speechiness: presense of spoken words in track. More exclusively speech-like the recording the close to 1. **removed**\n",
    "- Tempo: Overall tempo of a track in beats per minute.\n",
    "- Valence: 0.0 to 1.0 musical positiveness conveyed by a track.\n",
    "\n",
    "I felt that key and speechiness provided no benefits as the key was not a portion that affected the music's high_energy and was hard to sum up as the attributing key was not moved to different levels. I also avoided speechiness as all were lyrical songs and not spoken audio books or spoech-like. I did keep mode as I thought it was better in suggesting keys as it distinguished between major and minors, which there has been some research that major are used in popular music and the two catchiest keys - C major and G major - are both majors.\n",
    "\n",
    "In an effort to understand if we could use Logistic Regression and take in song lyrics to predict whether the song is high energy based on the remaining features listed above. To ensure equal stance in all the features I made the range for all features be 0 to 1."
   ]
  },
  {
   "cell_type": "code",
   "execution_count": 107,
   "id": "a5c542a3-ec71-4d64-be7f-c5cc7ee2c0fa",
   "metadata": {
    "tags": []
   },
   "outputs": [
    {
     "data": {
      "text/plain": [
       "Index(['Album', 'Song Name', 'Lyrics', 'URI', 'Danceability', 'Energy', 'Key',\n",
       "       'Loudness', 'Mode', 'Speechiness', 'Acousticness', 'Instrumentalness',\n",
       "       'Liveness', 'Valence', 'Tempo', 'Duration_ms', 'Time Signature',\n",
       "       'Lyrics Length'],\n",
       "      dtype='object')"
      ]
     },
     "execution_count": 107,
     "metadata": {},
     "output_type": "execute_result"
    }
   ],
   "source": [
    "full_dataframe.columns"
   ]
  },
  {
   "cell_type": "code",
   "execution_count": 108,
   "id": "987fcdcf-ab05-4634-8bb1-e543fec21b84",
   "metadata": {
    "tags": []
   },
   "outputs": [],
   "source": [
    "array = ['Danceability', 'Energy', 'Loudness', 'Speechiness', 'Acousticness', 'Instrumentalness','Liveness', 'Valence', 'Tempo']\n",
    "copy = full_dataframe.copy()\n",
    "for i in range(0, len(array)):\n",
    "    copy[array[i]] = (full_dataframe[array[i]] - full_dataframe[array[i]].min()) / (full_dataframe[array[i]].max() - full_dataframe[array[i]].min())\n",
    "    #copy[array[i]] = (full_dataframe[array[i]] - mean)/std"
   ]
  },
  {
   "cell_type": "code",
   "execution_count": 109,
   "id": "f595054e-d5bf-4159-8e0b-e8a92956abe8",
   "metadata": {
    "tags": []
   },
   "outputs": [
    {
     "data": {
      "text/plain": [
       "count    133.000000\n",
       "mean       3.082593\n",
       "std        0.577975\n",
       "min        1.526140\n",
       "25%        2.709367\n",
       "50%        3.084977\n",
       "75%        3.515469\n",
       "max        4.814709\n",
       "dtype: float64"
      ]
     },
     "execution_count": 109,
     "metadata": {},
     "output_type": "execute_result"
    }
   ],
   "source": [
    "x_values = copy[['Danceability', 'Energy',\n",
    "       'Loudness', 'Speechiness', 'Acousticness', 'Instrumentalness',\n",
    "       'Liveness', 'Valence', 'Tempo']].sum(axis = 1)\n",
    "x_values.describe()"
   ]
  },
  {
   "cell_type": "code",
   "execution_count": 110,
   "id": "1ae1a240-478c-4a6a-8b30-b852b04fd272",
   "metadata": {
    "tags": []
   },
   "outputs": [
    {
     "data": {
      "text/plain": [
       "count    133.000000\n",
       "mean       0.473292\n",
       "std        0.175753\n",
       "min        0.000000\n",
       "25%        0.359800\n",
       "50%        0.474017\n",
       "75%        0.604922\n",
       "max        1.000000\n",
       "dtype: float64"
      ]
     },
     "execution_count": 110,
     "metadata": {},
     "output_type": "execute_result"
    }
   ],
   "source": [
    "x_values = (x_values - x_values.min()) / (x_values.max() - x_values.min())\n",
    "x_values.describe()"
   ]
  },
  {
   "cell_type": "code",
   "execution_count": 111,
   "id": "b1294c3e-253c-4226-95fe-4707b5b98b3f",
   "metadata": {
    "tags": []
   },
   "outputs": [
    {
     "data": {
      "image/png": "[encoded data removed]",
      "text/plain": [
       "<Figure size 640x480 with 1 Axes>"
      ]
     },
     "metadata": {},
     "output_type": "display_data"
    }
   ],
   "source": [
    "plt.boxplot(x_values)\n",
    " \n",
    "# show plot\n",
    "plt.show()"
   ]
  },
  {
   "cell_type": "code",
   "execution_count": 112,
   "id": "94a0452f-b5e0-4ada-8420-75dfdcc9b987",
   "metadata": {
    "tags": []
   },
   "outputs": [
    {
     "data": {
      "text/html": [
       "<div>\n",
       "<style scoped>\n",
       "    .dataframe tbody tr th:only-of-type {\n",
       "        vertical-align: middle;\n",
       "    }\n",
       "\n",
       "    .dataframe tbody tr th {\n",
       "        vertical-align: top;\n",
       "    }\n",
       "\n",
       "    .dataframe thead th {\n",
       "        text-align: right;\n",
       "    }\n",
       "</style>\n",
       "<table border=\"1\" class=\"dataframe\">\n",
       "  <thead>\n",
       "    <tr style=\"text-align: right;\">\n",
       "      <th></th>\n",
       "      <th>Lyrics</th>\n",
       "      <th>Score</th>\n",
       "    </tr>\n",
       "  </thead>\n",
       "  <tbody>\n",
       "    <tr>\n",
       "      <th>0</th>\n",
       "      <td>She said I was seven and you were nine I looke...</td>\n",
       "      <td>0.239158</td>\n",
       "    </tr>\n",
       "    <tr>\n",
       "      <th>1</th>\n",
       "      <td>Why would you wanna break A perfectly good hea...</td>\n",
       "      <td>0.426517</td>\n",
       "    </tr>\n",
       "    <tr>\n",
       "      <th>2</th>\n",
       "      <td>He said the way my blue eyes shined Put those ...</td>\n",
       "      <td>0.400266</td>\n",
       "    </tr>\n",
       "    <tr>\n",
       "      <th>3</th>\n",
       "      <td>You have a way of coming easily to me And when...</td>\n",
       "      <td>0.388893</td>\n",
       "    </tr>\n",
       "    <tr>\n",
       "      <th>4</th>\n",
       "      <td>I didn't know what I would find When I went lo...</td>\n",
       "      <td>0.622384</td>\n",
       "    </tr>\n",
       "  </tbody>\n",
       "</table>\n",
       "</div>"
      ],
      "text/plain": [
       "                                              Lyrics     Score\n",
       "0  She said I was seven and you were nine I looke...  0.239158\n",
       "1  Why would you wanna break A perfectly good hea...  0.426517\n",
       "2  He said the way my blue eyes shined Put those ...  0.400266\n",
       "3  You have a way of coming easily to me And when...  0.388893\n",
       "4  I didn't know what I would find When I went lo...  0.622384"
      ]
     },
     "execution_count": 112,
     "metadata": {},
     "output_type": "execute_result"
    }
   ],
   "source": [
    "new_value = {'Lyrics': full_dataframe['Lyrics'], 'Score': x_values}\n",
    "combined_dataframes = pd.DataFrame(data=new_value)\n",
    "combined_dataframes.head()"
   ]
  },
  {
   "cell_type": "code",
   "execution_count": 113,
   "id": "7e4c7433-b297-478c-91c6-79f66717e331",
   "metadata": {
    "tags": []
   },
   "outputs": [
    {
     "name": "stdout",
     "output_type": "stream",
     "text": [
      "            Score\n",
      "count  133.000000\n",
      "mean     0.473292\n",
      "std      0.175753\n",
      "min      0.000000\n",
      "25%      0.359800\n",
      "50%      0.474017\n",
      "75%      0.604922\n",
      "max      1.000000\n"
     ]
    }
   ],
   "source": [
    "retained_sample = combined_dataframes.sample(frac = 1, replace = False, random_state = 40)\n",
    "print(retained_sample.describe())"
   ]
  },
  {
   "cell_type": "markdown",
   "id": "5d6fa3ae-d8e1-4253-88c1-043f0c11be90",
   "metadata": {},
   "source": [
    "Created scores from 0 to 1 and made sure that no variable would be skewing the measurement, which is why each measurement was given a score between 0 and 1."
   ]
  },
  {
   "cell_type": "code",
   "execution_count": 114,
   "id": "fd3aff2a-c5ce-426b-bace-a0f88ea0c518",
   "metadata": {
    "tags": []
   },
   "outputs": [
    {
     "name": "stdout",
     "output_type": "stream",
     "text": [
      "Length of the vector: 133\n",
      "Fraction of albums in the dataset that scored above the mean: 0.5037593984962406\n"
     ]
    }
   ],
   "source": [
    "mean_val = retained_sample['Score'].mean()\n",
    "retained_sample['score_label'] =retained_sample['Score'].apply(lambda x: 1 if x > mean_val else 0)\n",
    "print(\"Length of the vector:\", len(retained_sample['score_label']))\n",
    "\n",
    "print(\"Fraction of albums in the dataset that scored above the mean:\", retained_sample['score_label'].mean())"
   ]
  },
  {
   "cell_type": "code",
   "execution_count": 130,
   "id": "f034c644-3ec5-4ec5-87c6-ede745dd0dbf",
   "metadata": {
    "tags": []
   },
   "outputs": [
    {
     "name": "stdout",
     "output_type": "stream",
     "text": [
      "Feature matrix shape: (133, 1461)\n"
     ]
    }
   ],
   "source": [
    "vectorizer = TfidfVectorizer(min_df = 0.01, max_df = 0.9, use_idf = True)\n",
    "resulting_review_texts = vectorizer.fit_transform(retained_sample['Lyrics'])\n",
    "print(\"Feature matrix shape:\", resulting_review_texts.shape)\n",
    "standardized_data_review_texts = StandardScaler(with_mean = False, with_std = False).fit_transform(resulting_review_texts.toarray())\n",
    "selector = SelectKBest(mutual_info_classif, k=30)\n",
    "best_thirty_features_selected = selector.fit_transform(standardized_data_review_texts, y = retained_sample['score_label'])"
   ]
  },
  {
   "cell_type": "code",
   "execution_count": 131,
   "id": "7c1180ce-6ee6-4b48-96a7-27ab536618bb",
   "metadata": {
    "tags": []
   },
   "outputs": [
    {
     "name": "stdout",
     "output_type": "stream",
     "text": [
      "Model performance using topics as features: 0.565\n"
     ]
    }
   ],
   "source": [
    "clf = LogisticRegression()\n",
    "performance_topics = cross_val_score(clf, best_thirty_features_selected, retained_sample['score_label'], cv = 10, scoring='accuracy')\n",
    "print(f\"Model performance using topics as features: {np.mean(performance_topics):5.3f}\")"
   ]
  },
  {
   "cell_type": "markdown",
   "id": "60ba2bf3-0990-4c72-a925-0a2ba3009444",
   "metadata": {},
   "source": [
    "Testing intially with the default Logistic Regression and looking at the accuracy we see the model is doing a bit better than random at around 0.565. When we utilize the best 300 features the model performs at an astounding 0.7 which lowers interpretability and we thought against using that as the dataset is so small."
   ]
  },
  {
   "cell_type": "code",
   "execution_count": 132,
   "id": "32c208f1-0345-4c5b-b02e-3d4ba4dc213a",
   "metadata": {
    "tags": []
   },
   "outputs": [],
   "source": [
    "nlp_lg = spacy.load('en_core_web_sm')\n",
    "# code here\n",
    "def get_doc_embedding(text_string, spacy_nlp = spacy.load('en_core_web_sm')):\n",
    "    \n",
    "    text_string_nlped = spacy_nlp(text_string)\n",
    "    \n",
    "    tokenize_values = []\n",
    "    \n",
    "    for token in text_string_nlped:\n",
    "        if not token.is_punct and not token.is_space and not token.is_stop and token.has_vector:\n",
    "            tokenize_values.append(token.vector)\n",
    "    #standardized_data_review_texts = StandardScaler().fit_transform(np.array(tokenize_values))\n",
    "    return sum(tokenize_values)/len(tokenize_values) #word embedding vector - average of vectors of non-stopword tokens in input text\n"
   ]
  },
  {
   "cell_type": "code",
   "execution_count": 133,
   "id": "57587ede-48de-49d8-8c27-a6458e3ef2df",
   "metadata": {
    "tags": []
   },
   "outputs": [
    {
     "name": "stdout",
     "output_type": "stream",
     "text": [
      "Shape of feature matrix: (133, 96)\n"
     ]
    }
   ],
   "source": [
    "values_passed_in_new = []\n",
    "for item in retained_sample['Lyrics']:\n",
    "    values_passed_in_new.append(get_doc_embedding(text_string = item, spacy_nlp = nlp_lg))\n",
    "values_passed_in_new = np.array(values_passed_in_new)\n",
    "print(\"Shape of feature matrix:\", values_passed_in_new.shape)"
   ]
  },
  {
   "cell_type": "markdown",
   "id": "270f363f-e791-48ca-81ec-a57e464f411f",
   "metadata": {},
   "source": [
    "Utilized a Logistic Regression with a max_iteration limit of 500 for binary classification. And for better accuracy I utilized a cross validation of 10 and took the mean of the performance of the model. Because of the small dataset I used all the data as the training data and thus the results and reproducible."
   ]
  },
  {
   "cell_type": "code",
   "execution_count": 134,
   "id": "607ed629-a3b0-4af1-8d62-a957e8be239b",
   "metadata": {
    "tags": []
   },
   "outputs": [
    {
     "name": "stdout",
     "output_type": "stream",
     "text": [
      "Model performance using topics as features: 0.555\n"
     ]
    }
   ],
   "source": [
    "clf = LogisticRegression(max_iter = 500)\n",
    "performance_topics = cross_val_score(clf, values_passed_in_new, retained_sample['score_label'], cv = 10)\n",
    "print(f\"Model performance using topics as features: {np.mean(performance_topics):5.3f}\")"
   ]
  },
  {
   "cell_type": "markdown",
   "id": "e9ab4436-a377-4660-a9ae-f4546a6ff689",
   "metadata": {},
   "source": [
    "The results use document embeddings from spaCy tokens and running on LogisticRegression. it showcases moderate power for predicting sentiment labels as it has 0.555 model performance."
   ]
  },
  {
   "cell_type": "code",
   "execution_count": 135,
   "id": "280e780d-4db7-48bf-813b-c06bbfbd8ee0",
   "metadata": {
    "tags": []
   },
   "outputs": [
    {
     "name": "stdout",
     "output_type": "stream",
     "text": [
      "{'C': 10, 'degree': 1, 'gamma': 'scale', 'max_iter': 500}\n",
      "0.5538461538461539\n"
     ]
    }
   ],
   "source": [
    "resulting_review_texts = vectorizer.fit_transform(retained_sample['Lyrics'])\n",
    "standardized_data_review_texts = StandardScaler(with_mean = False, with_std = False).fit_transform(resulting_review_texts.toarray())\n",
    "\n",
    "params = {\n",
    "    'C': [0.1, 1, 10, 50, 100, 1000],\n",
    "    'max_iter': [500, 1000], # not part of the search, but set a classifier parameter\n",
    "    'degree': [1, 2],\n",
    "    'gamma': ['scale', 'auto']\n",
    "}\n",
    "svc = svm.SVC()\n",
    "\n",
    "gs_cv = GridSearchCV(svc, param_grid = params, cv = 10)\n",
    "\n",
    "gs_cv.fit(standardized_data_review_texts, retained_sample['score_label'])\n",
    "print(gs_cv.best_params_)\n",
    "print(gs_cv.best_score_)    "
   ]
  },
  {
   "cell_type": "markdown",
   "id": "c90c7833-1d30-46e8-b131-5b3c7dbc69f0",
   "metadata": {},
   "source": [
    "Using Support Vector Classifier which is a supervised learning technique for classification–I wanted to compare it to the results of Logistic Regression, which in this case ultimately seemed to produce a better model–finds optimal hyperplanes through different classes of data point in high-dimensional space. I thought it would do extremely well here as it is good at performing on small datasets and will not suffer from the curse of dimensionality bbecause of the limited dimensions in this dataset. It is also really good at handling outliers and noise in the data and effective for binary classification tasks like this one.\n",
    "\n",
    "Evaluating utilizing Grid Search I tried various different combinations of parameters from changing the regularization parameter that controls the trade-off between model complexity and error with a range of values including 0.1, 1, 10, 50, 100, and 1000 to changing the max_iter, the maximum number of iterations for the SVM solver trying values like 500 and 1000, I also changed the degree of the polynomial kernel to test 1 and 2, and finall changing gamma to see if changing the default could potetnially produce better results. In the end the best parameter combbination created a scorre of 0.5538 which is the cross-validation core after 10 cross validations."
   ]
  },
  {
   "cell_type": "code",
   "execution_count": null,
   "id": "9eb6387b-835b-46d2-b082-a39922f63281",
   "metadata": {},
   "outputs": [],
   "source": []
  },
  {
   "cell_type": "code",
   "execution_count": null,
   "id": "4c5bfe4c-8ec7-4021-b2ae-474fdcddaa99",
   "metadata": {},
   "outputs": [],
   "source": []
  },
  {
   "cell_type": "code",
   "execution_count": null,
   "id": "4239584d-013e-4c37-b947-0e63fc85fb21",
   "metadata": {},
   "outputs": [],
   "source": []
  },
  {
   "cell_type": "code",
   "execution_count": null,
   "id": "9d372325-aefc-4920-acee-0ae69dc9cad9",
   "metadata": {},
   "outputs": [],
   "source": []
  }
 ],
 "metadata": {
  "kernelspec": {
   "display_name": "Python 3 (ipykernel)",
   "language": "python",
   "name": "python3"
  },
  "language_info": {
   "codemirror_mode": {
    "name": "ipython",
    "version": 3
   },
   "file_extension": ".py",
   "mimetype": "text/x-python",
   "name": "python",
   "nbconvert_exporter": "python",
   "pygments_lexer": "ipython3",
   "version": "3.10.12"
  }
 },
 "nbformat": 4,
 "nbformat_minor": 5
}
